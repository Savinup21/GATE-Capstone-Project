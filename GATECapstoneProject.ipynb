{
 "cells": [
  {
   "cell_type": "code",
   "execution_count": 34,
   "metadata": {},
   "outputs": [],
   "source": [
    "import pandas as pd\n",
    "import numpy as np\n",
    "import os"
   ]
  },
  {
   "cell_type": "code",
   "execution_count": 35,
   "metadata": {},
   "outputs": [],
   "source": [
    "from PIL import Image"
   ]
  },
  {
   "cell_type": "code",
   "execution_count": 36,
   "metadata": {},
   "outputs": [],
   "source": [
    "img_dirs = ['C:/Savinu/Hands On Machine Learning Book/glioma', 'C:/Savinu/Hands On Machine Learning Book/meningioma', 'C:/Savinu/Hands On Machine Learning Book/pituitary', 'C:/Savinu/Hands On Machine Learning Book/notumor']\n",
    "labels = ['glioma', 'meningioma', 'pituitary', 'no_tumor']\n",
    "files = []"
   ]
  },
  {
   "cell_type": "code",
   "execution_count": 37,
   "metadata": {},
   "outputs": [],
   "source": [
    "for label, img_dir in zip(labels, img_dirs):\n",
    "    for image_name in os.listdir(img_dir):\n",
    "        if image_name.endswith('.jpg') or image_name.endswith('.png'):  # Check for image file formats\n",
    "            image_path = os.path.join(img_dir, image_name)\n",
    "            files.append([image_path, label])"
   ]
  },
  {
   "cell_type": "code",
   "execution_count": 38,
   "metadata": {},
   "outputs": [],
   "source": [
    "data = pd.DataFrame(files, columns=['image_file', 'label'])"
   ]
  },
  {
   "cell_type": "code",
   "execution_count": 39,
   "metadata": {},
   "outputs": [
    {
     "data": {
      "text/plain": [
       "',image_file,label\\r\\n0,C:/Savinu/Hands On Machine Learning Book/glioma\\\\Te-glTr_0000.jpg,glioma\\r\\n1,C:/Savinu/Hands On Machine Learning Book/glioma\\\\Te-glTr_0001.jpg,glioma\\r\\n2,C:/Savinu/Hands On Machine Learning Book/glioma\\\\Te-glTr_0002.jpg,glioma\\r\\n3,C:/Savinu/Hands On Machine Learning Book/glioma\\\\Te-glTr_0003.jpg,glioma\\r\\n4,C:/Savinu/Hands On Machine Learning Book/glioma\\\\Te-glTr_0004.jpg,glioma\\r\\n5,C:/Savinu/Hands On Machine Learning Book/glioma\\\\Te-glTr_0005.jpg,glioma\\r\\n6,C:/Savinu/Hands On Machine Learning Book/glioma\\\\Te-glTr_0006.jpg,glioma\\r\\n7,C:/Savinu/Hands On Machine Learning Book/glioma\\\\Te-glTr_0007.jpg,glioma\\r\\n8,C:/Savinu/Hands On Machine Learning Book/glioma\\\\Te-glTr_0008.jpg,glioma\\r\\n9,C:/Savinu/Hands On Machine Learning Book/glioma\\\\Te-glTr_0009.jpg,glioma\\r\\n10,C:/Savinu/Hands On Machine Learning Book/glioma\\\\Te-gl_0010.jpg,glioma\\r\\n11,C:/Savinu/Hands On Machine Learning Book/glioma\\\\Te-gl_0011.jpg,glioma\\r\\n12,C:/Savinu/Hands On Machine Learning Book/glioma\\\\Te-gl_0012.jpg,glioma\\r\\n13,C:/Savinu/Hands On Machine Learning Book/glioma\\\\Te-gl_0013.jpg,glioma\\r\\n14,C:/Savinu/Hands On Machine Learning Book/glioma\\\\Te-gl_0014.jpg,glioma\\r\\n15,C:/Savinu/Hands On Machine Learning Book/glioma\\\\Te-gl_0015.jpg,glioma\\r\\n16,C:/Savinu/Hands On Machine Learning Book/glioma\\\\Te-gl_0016.jpg,glioma\\r\\n17,C:/Savinu/Hands On Machine Learning Book/glioma\\\\Te-gl_0017.jpg,glioma\\r\\n18,C:/Savinu/Hands On Machine Learning Book/glioma\\\\Te-gl_0018.jpg,glioma\\r\\n19,C:/Savinu/Hands On Machine Learning Book/glioma\\\\Te-gl_0019.jpg,glioma\\r\\n20,C:/Savinu/Hands On Machine Learning Book/glioma\\\\Te-gl_0020.jpg,glioma\\r\\n21,C:/Savinu/Hands On Machine Learning Book/glioma\\\\Te-gl_0021.jpg,glioma\\r\\n22,C:/Savinu/Hands On Machine Learning Book/glioma\\\\Te-gl_0022.jpg,glioma\\r\\n23,C:/Savinu/Hands On Machine Learning Book/glioma\\\\Te-gl_0023.jpg,glioma\\r\\n24,C:/Savinu/Hands On Machine Learning Book/glioma\\\\Te-gl_0024.jpg,glioma\\r\\n25,C:/Savinu/Hands On Machine Learning Book/glioma\\\\Te-gl_0025.jpg,glioma\\r\\n26,C:/Savinu/Hands On Machine Learning Book/glioma\\\\Te-gl_0026.jpg,glioma\\r\\n27,C:/Savinu/Hands On Machine Learning Book/glioma\\\\Te-gl_0027.jpg,glioma\\r\\n28,C:/Savinu/Hands On Machine Learning Book/glioma\\\\Te-gl_0028.jpg,glioma\\r\\n29,C:/Savinu/Hands On Machine Learning Book/glioma\\\\Te-gl_0029.jpg,glioma\\r\\n30,C:/Savinu/Hands On Machine Learning Book/glioma\\\\Te-gl_0030.jpg,glioma\\r\\n31,C:/Savinu/Hands On Machine Learning Book/glioma\\\\Te-gl_0031.jpg,glioma\\r\\n32,C:/Savinu/Hands On Machine Learning Book/glioma\\\\Te-gl_0032.jpg,glioma\\r\\n33,C:/Savinu/Hands On Machine Learning Book/glioma\\\\Te-gl_0033.jpg,glioma\\r\\n34,C:/Savinu/Hands On Machine Learning Book/glioma\\\\Te-gl_0034.jpg,glioma\\r\\n35,C:/Savinu/Hands On Machine Learning Book/glioma\\\\Te-gl_0035.jpg,glioma\\r\\n36,C:/Savinu/Hands On Machine Learning Book/glioma\\\\Te-gl_0036.jpg,glioma\\r\\n37,C:/Savinu/Hands On Machine Learning Book/glioma\\\\Te-gl_0037.jpg,glioma\\r\\n38,C:/Savinu/Hands On Machine Learning Book/glioma\\\\Te-gl_0038.jpg,glioma\\r\\n39,C:/Savinu/Hands On Machine Learning Book/glioma\\\\Te-gl_0039.jpg,glioma\\r\\n40,C:/Savinu/Hands On Machine Learning Book/glioma\\\\Te-gl_0040.jpg,glioma\\r\\n41,C:/Savinu/Hands On Machine Learning Book/glioma\\\\Te-gl_0041.jpg,glioma\\r\\n42,C:/Savinu/Hands On Machine Learning Book/glioma\\\\Te-gl_0042.jpg,glioma\\r\\n43,C:/Savinu/Hands On Machine Learning Book/glioma\\\\Te-gl_0043.jpg,glioma\\r\\n44,C:/Savinu/Hands On Machine Learning Book/glioma\\\\Te-gl_0044.jpg,glioma\\r\\n45,C:/Savinu/Hands On Machine Learning Book/glioma\\\\Te-gl_0045.jpg,glioma\\r\\n46,C:/Savinu/Hands On Machine Learning Book/glioma\\\\Te-gl_0046.jpg,glioma\\r\\n47,C:/Savinu/Hands On Machine Learning Book/glioma\\\\Te-gl_0047.jpg,glioma\\r\\n48,C:/Savinu/Hands On Machine Learning Book/glioma\\\\Te-gl_0048.jpg,glioma\\r\\n49,C:/Savinu/Hands On Machine Learning Book/glioma\\\\Te-gl_0049.jpg,glioma\\r\\n50,C:/Savinu/Hands On Machine Learning Book/glioma\\\\Te-gl_0050.jpg,glioma\\r\\n51,C:/Savinu/Hands On Machine Learning Book/glioma\\\\Te-gl_0051.jpg,glioma\\r\\n52,C:/Savinu/Hands On Machine Learning Book/glioma\\\\Te-gl_0052.jpg,glioma\\r\\n53,C:/Savinu/Hands On Machine Learning Book/glioma\\\\Te-gl_0053.jpg,glioma\\r\\n54,C:/Savinu/Hands On Machine Learning Book/glioma\\\\Te-gl_0054.jpg,glioma\\r\\n55,C:/Savinu/Hands On Machine Learning Book/glioma\\\\Te-gl_0055.jpg,glioma\\r\\n56,C:/Savinu/Hands On Machine Learning Book/glioma\\\\Te-gl_0056.jpg,glioma\\r\\n57,C:/Savinu/Hands On Machine Learning Book/glioma\\\\Te-gl_0057.jpg,glioma\\r\\n58,C:/Savinu/Hands On Machine Learning Book/glioma\\\\Te-gl_0058.jpg,glioma\\r\\n59,C:/Savinu/Hands On Machine Learning Book/glioma\\\\Te-gl_0059.jpg,glioma\\r\\n60,C:/Savinu/Hands On Machine Learning Book/glioma\\\\Te-gl_0060.jpg,glioma\\r\\n61,C:/Savinu/Hands On Machine Learning Book/glioma\\\\Te-gl_0061.jpg,glioma\\r\\n62,C:/Savinu/Hands On Machine Learning Book/glioma\\\\Te-gl_0062.jpg,glioma\\r\\n63,C:/Savinu/Hands On Machine Learning Book/glioma\\\\Te-gl_0063.jpg,glioma\\r\\n64,C:/Savinu/Hands On Machine Learning Book/glioma\\\\Te-gl_0064.jpg,glioma\\r\\n65,C:/Savinu/Hands On Machine Learning Book/glioma\\\\Te-gl_0065.jpg,glioma\\r\\n66,C:/Savinu/Hands On Machine Learning Book/glioma\\\\Te-gl_0066.jpg,glioma\\r\\n67,C:/Savinu/Hands On Machine Learning Book/glioma\\\\Te-gl_0067.jpg,glioma\\r\\n68,C:/Savinu/Hands On Machine Learning Book/glioma\\\\Te-gl_0068.jpg,glioma\\r\\n69,C:/Savinu/Hands On Machine Learning Book/glioma\\\\Te-gl_0069.jpg,glioma\\r\\n70,C:/Savinu/Hands On Machine Learning Book/glioma\\\\Te-gl_0070.jpg,glioma\\r\\n71,C:/Savinu/Hands On Machine Learning Book/glioma\\\\Te-gl_0071.jpg,glioma\\r\\n72,C:/Savinu/Hands On Machine Learning Book/glioma\\\\Te-gl_0072.jpg,glioma\\r\\n73,C:/Savinu/Hands On Machine Learning Book/glioma\\\\Te-gl_0073.jpg,glioma\\r\\n74,C:/Savinu/Hands On Machine Learning Book/glioma\\\\Te-gl_0074.jpg,glioma\\r\\n75,C:/Savinu/Hands On Machine Learning Book/glioma\\\\Te-gl_0075.jpg,glioma\\r\\n76,C:/Savinu/Hands On Machine Learning Book/glioma\\\\Te-gl_0076.jpg,glioma\\r\\n77,C:/Savinu/Hands On Machine Learning Book/glioma\\\\Te-gl_0077.jpg,glioma\\r\\n78,C:/Savinu/Hands On Machine Learning Book/glioma\\\\Te-gl_0078.jpg,glioma\\r\\n79,C:/Savinu/Hands On Machine Learning Book/glioma\\\\Te-gl_0079.jpg,glioma\\r\\n80,C:/Savinu/Hands On Machine Learning Book/glioma\\\\Te-gl_0080.jpg,glioma\\r\\n81,C:/Savinu/Hands On Machine Learning Book/glioma\\\\Te-gl_0081.jpg,glioma\\r\\n82,C:/Savinu/Hands On Machine Learning Book/glioma\\\\Te-gl_0082.jpg,glioma\\r\\n83,C:/Savinu/Hands On Machine Learning Book/glioma\\\\Te-gl_0083.jpg,glioma\\r\\n84,C:/Savinu/Hands On Machine Learning Book/glioma\\\\Te-gl_0084.jpg,glioma\\r\\n85,C:/Savinu/Hands On Machine Learning Book/glioma\\\\Te-gl_0085.jpg,glioma\\r\\n86,C:/Savinu/Hands On Machine Learning Book/glioma\\\\Te-gl_0086.jpg,glioma\\r\\n87,C:/Savinu/Hands On Machine Learning Book/glioma\\\\Te-gl_0087.jpg,glioma\\r\\n88,C:/Savinu/Hands On Machine Learning Book/glioma\\\\Te-gl_0088.jpg,glioma\\r\\n89,C:/Savinu/Hands On Machine Learning Book/glioma\\\\Te-gl_0089.jpg,glioma\\r\\n90,C:/Savinu/Hands On Machine Learning Book/glioma\\\\Te-gl_0090.jpg,glioma\\r\\n91,C:/Savinu/Hands On Machine Learning Book/glioma\\\\Te-gl_0091.jpg,glioma\\r\\n92,C:/Savinu/Hands On Machine Learning Book/glioma\\\\Te-gl_0092.jpg,glioma\\r\\n93,C:/Savinu/Hands On Machine Learning Book/glioma\\\\Te-gl_0093.jpg,glioma\\r\\n94,C:/Savinu/Hands On Machine Learning Book/glioma\\\\Te-gl_0094.jpg,glioma\\r\\n95,C:/Savinu/Hands On Machine Learning Book/glioma\\\\Te-gl_0095.jpg,glioma\\r\\n96,C:/Savinu/Hands On Machine Learning Book/glioma\\\\Te-gl_0096.jpg,glioma\\r\\n97,C:/Savinu/Hands On Machine Learning Book/glioma\\\\Te-gl_0097.jpg,glioma\\r\\n98,C:/Savinu/Hands On Machine Learning Book/glioma\\\\Te-gl_0098.jpg,glioma\\r\\n99,C:/Savinu/Hands On Machine Learning Book/glioma\\\\Te-gl_0099.jpg,glioma\\r\\n100,C:/Savinu/Hands On Machine Learning Book/glioma\\\\Te-gl_0100.jpg,glioma\\r\\n101,C:/Savinu/Hands On Machine Learning Book/glioma\\\\Te-gl_0101.jpg,glioma\\r\\n102,C:/Savinu/Hands On Machine Learning Book/glioma\\\\Te-gl_0102.jpg,glioma\\r\\n103,C:/Savinu/Hands On Machine Learning Book/glioma\\\\Te-gl_0103.jpg,glioma\\r\\n104,C:/Savinu/Hands On Machine Learning Book/glioma\\\\Te-gl_0104.jpg,glioma\\r\\n105,C:/Savinu/Hands On Machine Learning Book/glioma\\\\Te-gl_0105.jpg,glioma\\r\\n106,C:/Savinu/Hands On Machine Learning Book/glioma\\\\Te-gl_0106.jpg,glioma\\r\\n107,C:/Savinu/Hands On Machine Learning Book/glioma\\\\Te-gl_0107.jpg,glioma\\r\\n108,C:/Savinu/Hands On Machine Learning Book/glioma\\\\Te-gl_0108.jpg,glioma\\r\\n109,C:/Savinu/Hands On Machine Learning Book/glioma\\\\Te-gl_0109.jpg,glioma\\r\\n110,C:/Savinu/Hands On Machine Learning Book/glioma\\\\Te-gl_0110.jpg,glioma\\r\\n111,C:/Savinu/Hands On Machine Learning Book/glioma\\\\Te-gl_0111.jpg,glioma\\r\\n112,C:/Savinu/Hands On Machine Learning Book/glioma\\\\Te-gl_0112.jpg,glioma\\r\\n113,C:/Savinu/Hands On Machine Learning Book/glioma\\\\Te-gl_0113.jpg,glioma\\r\\n114,C:/Savinu/Hands On Machine Learning Book/glioma\\\\Te-gl_0114.jpg,glioma\\r\\n115,C:/Savinu/Hands On Machine Learning Book/glioma\\\\Te-gl_0115.jpg,glioma\\r\\n116,C:/Savinu/Hands On Machine Learning Book/glioma\\\\Te-gl_0116.jpg,glioma\\r\\n117,C:/Savinu/Hands On Machine Learning Book/glioma\\\\Te-gl_0117.jpg,glioma\\r\\n118,C:/Savinu/Hands On Machine Learning Book/glioma\\\\Te-gl_0118.jpg,glioma\\r\\n119,C:/Savinu/Hands On Machine Learning Book/glioma\\\\Te-gl_0119.jpg,glioma\\r\\n120,C:/Savinu/Hands On Machine Learning Book/glioma\\\\Te-gl_0120.jpg,glioma\\r\\n121,C:/Savinu/Hands On Machine Learning Book/glioma\\\\Te-gl_0121.jpg,glioma\\r\\n122,C:/Savinu/Hands On Machine Learning Book/glioma\\\\Te-gl_0122.jpg,glioma\\r\\n123,C:/Savinu/Hands On Machine Learning Book/glioma\\\\Te-gl_0123.jpg,glioma\\r\\n124,C:/Savinu/Hands On Machine Learning Book/glioma\\\\Te-gl_0124.jpg,glioma\\r\\n125,C:/Savinu/Hands On Machine Learning Book/glioma\\\\Te-gl_0125.jpg,glioma\\r\\n126,C:/Savinu/Hands On Machine Learning Book/glioma\\\\Te-gl_0126.jpg,glioma\\r\\n127,C:/Savinu/Hands On Machine Learning Book/glioma\\\\Te-gl_0127.jpg,glioma\\r\\n128,C:/Savinu/Hands On Machine Learning Book/glioma\\\\Te-gl_0128.jpg,glioma\\r\\n129,C:/Savinu/Hands On Machine Learning Book/glioma\\\\Te-gl_0129.jpg,glioma\\r\\n130,C:/Savinu/Hands On Machine Learning Book/glioma\\\\Te-gl_0130.jpg,glioma\\r\\n131,C:/Savinu/Hands On Machine Learning Book/glioma\\\\Te-gl_0131.jpg,glioma\\r\\n132,C:/Savinu/Hands On Machine Learning Book/glioma\\\\Te-gl_0132.jpg,glioma\\r\\n133,C:/Savinu/Hands On Machine Learning Book/glioma\\\\Te-gl_0133.jpg,glioma\\r\\n134,C:/Savinu/Hands On Machine Learning Book/glioma\\\\Te-gl_0134.jpg,glioma\\r\\n135,C:/Savinu/Hands On Machine Learning Book/glioma\\\\Te-gl_0135.jpg,glioma\\r\\n136,C:/Savinu/Hands On Machine Learning Book/glioma\\\\Te-gl_0136.jpg,glioma\\r\\n137,C:/Savinu/Hands On Machine Learning Book/glioma\\\\Te-gl_0137.jpg,glioma\\r\\n138,C:/Savinu/Hands On Machine Learning Book/glioma\\\\Te-gl_0138.jpg,glioma\\r\\n139,C:/Savinu/Hands On Machine Learning Book/glioma\\\\Te-gl_0139.jpg,glioma\\r\\n140,C:/Savinu/Hands On Machine Learning Book/glioma\\\\Te-gl_0140.jpg,glioma\\r\\n141,C:/Savinu/Hands On Machine Learning Book/glioma\\\\Te-gl_0141.jpg,glioma\\r\\n142,C:/Savinu/Hands On Machine Learning Book/glioma\\\\Te-gl_0142.jpg,glioma\\r\\n143,C:/Savinu/Hands On Machine Learning Book/glioma\\\\Te-gl_0143.jpg,glioma\\r\\n144,C:/Savinu/Hands On Machine Learning Book/glioma\\\\Te-gl_0144.jpg,glioma\\r\\n145,C:/Savinu/Hands On Machine Learning Book/glioma\\\\Te-gl_0145.jpg,glioma\\r\\n146,C:/Savinu/Hands On Machine Learning Book/glioma\\\\Te-gl_0146.jpg,glioma\\r\\n147,C:/Savinu/Hands On Machine Learning Book/glioma\\\\Te-gl_0147.jpg,glioma\\r\\n148,C:/Savinu/Hands On Machine Learning Book/glioma\\\\Te-gl_0148.jpg,glioma\\r\\n149,C:/Savinu/Hands On Machine Learning Book/glioma\\\\Te-gl_0149.jpg,glioma\\r\\n150,C:/Savinu/Hands On Machine Learning Book/glioma\\\\Te-gl_0150.jpg,glioma\\r\\n151,C:/Savinu/Hands On Machine Learning Book/glioma\\\\Te-gl_0151.jpg,glioma\\r\\n152,C:/Savinu/Hands On Machine Learning Book/glioma\\\\Te-gl_0152.jpg,glioma\\r\\n153,C:/Savinu/Hands On Machine Learning Book/glioma\\\\Te-gl_0153.jpg,glioma\\r\\n154,C:/Savinu/Hands On Machine Learning Book/glioma\\\\Te-gl_0154.jpg,glioma\\r\\n155,C:/Savinu/Hands On Machine Learning Book/glioma\\\\Te-gl_0155.jpg,glioma\\r\\n156,C:/Savinu/Hands On Machine Learning Book/glioma\\\\Te-gl_0156.jpg,glioma\\r\\n157,C:/Savinu/Hands On Machine Learning Book/glioma\\\\Te-gl_0157.jpg,glioma\\r\\n158,C:/Savinu/Hands On Machine Learning Book/glioma\\\\Te-gl_0158.jpg,glioma\\r\\n159,C:/Savinu/Hands On Machine Learning Book/glioma\\\\Te-gl_0159.jpg,glioma\\r\\n160,C:/Savinu/Hands On Machine Learning Book/glioma\\\\Te-gl_0160.jpg,glioma\\r\\n161,C:/Savinu/Hands On Machine Learning Book/glioma\\\\Te-gl_0161.jpg,glioma\\r\\n162,C:/Savinu/Hands On Machine Learning Book/glioma\\\\Te-gl_0162.jpg,glioma\\r\\n163,C:/Savinu/Hands On Machine Learning Book/glioma\\\\Te-gl_0163.jpg,glioma\\r\\n164,C:/Savinu/Hands On Machine Learning Book/glioma\\\\Te-gl_0164.jpg,glioma\\r\\n165,C:/Savinu/Hands On Machine Learning Book/glioma\\\\Te-gl_0165.jpg,glioma\\r\\n166,C:/Savinu/Hands On Machine Learning Book/glioma\\\\Te-gl_0166.jpg,glioma\\r\\n167,C:/Savinu/Hands On Machine Learning Book/glioma\\\\Te-gl_0167.jpg,glioma\\r\\n168,C:/Savinu/Hands On Machine Learning Book/glioma\\\\Te-gl_0168.jpg,glioma\\r\\n169,C:/Savinu/Hands On Machine Learning Book/glioma\\\\Te-gl_0169.jpg,glioma\\r\\n170,C:/Savinu/Hands On Machine Learning Book/glioma\\\\Te-gl_0170.jpg,glioma\\r\\n171,C:/Savinu/Hands On Machine Learning Book/glioma\\\\Te-gl_0171.jpg,glioma\\r\\n172,C:/Savinu/Hands On Machine Learning Book/glioma\\\\Te-gl_0172.jpg,glioma\\r\\n173,C:/Savinu/Hands On Machine Learning Book/glioma\\\\Te-gl_0173.jpg,glioma\\r\\n174,C:/Savinu/Hands On Machine Learning Book/glioma\\\\Te-gl_0174.jpg,glioma\\r\\n175,C:/Savinu/Hands On Machine Learning Book/glioma\\\\Te-gl_0175.jpg,glioma\\r\\n176,C:/Savinu/Hands On Machine Learning Book/glioma\\\\Te-gl_0176.jpg,glioma\\r\\n177,C:/Savinu/Hands On Machine Learning Book/glioma\\\\Te-gl_0177.jpg,glioma\\r\\n178,C:/Savinu/Hands On Machine Learning Book/glioma\\\\Te-gl_0178.jpg,glioma\\r\\n179,C:/Savinu/Hands On Machine Learning Book/glioma\\\\Te-gl_0179.jpg,glioma\\r\\n180,C:/Savinu/Hands On Machine Learning Book/glioma\\\\Te-gl_0180.jpg,glioma\\r\\n181,C:/Savinu/Hands On Machine Learning Book/glioma\\\\Te-gl_0181.jpg,glioma\\r\\n182,C:/Savinu/Hands On Machine Learning Book/glioma\\\\Te-gl_0182.jpg,glioma\\r\\n183,C:/Savinu/Hands On Machine Learning Book/glioma\\\\Te-gl_0183.jpg,glioma\\r\\n184,C:/Savinu/Hands On Machine Learning Book/glioma\\\\Te-gl_0184.jpg,glioma\\r\\n185,C:/Savinu/Hands On Machine Learning Book/glioma\\\\Te-gl_0185.jpg,glioma\\r\\n186,C:/Savinu/Hands On Machine Learning Book/glioma\\\\Te-gl_0186.jpg,glioma\\r\\n187,C:/Savinu/Hands On Machine Learning Book/glioma\\\\Te-gl_0187.jpg,glioma\\r\\n188,C:/Savinu/Hands On Machine Learning Book/glioma\\\\Te-gl_0188.jpg,glioma\\r\\n189,C:/Savinu/Hands On Machine Learning Book/glioma\\\\Te-gl_0189.jpg,glioma\\r\\n190,C:/Savinu/Hands On Machine Learning Book/glioma\\\\Te-gl_0190.jpg,glioma\\r\\n191,C:/Savinu/Hands On Machine Learning Book/glioma\\\\Te-gl_0191.jpg,glioma\\r\\n192,C:/Savinu/Hands On Machine Learning Book/glioma\\\\Te-gl_0192.jpg,glioma\\r\\n193,C:/Savinu/Hands On Machine Learning Book/glioma\\\\Te-gl_0193.jpg,glioma\\r\\n194,C:/Savinu/Hands On Machine Learning Book/glioma\\\\Te-gl_0194.jpg,glioma\\r\\n195,C:/Savinu/Hands On Machine Learning Book/glioma\\\\Te-gl_0195.jpg,glioma\\r\\n196,C:/Savinu/Hands On Machine Learning Book/glioma\\\\Te-gl_0196.jpg,glioma\\r\\n197,C:/Savinu/Hands On Machine Learning Book/glioma\\\\Te-gl_0197.jpg,glioma\\r\\n198,C:/Savinu/Hands On Machine Learning Book/glioma\\\\Te-gl_0198.jpg,glioma\\r\\n199,C:/Savinu/Hands On Machine Learning Book/glioma\\\\Te-gl_0199.jpg,glioma\\r\\n200,C:/Savinu/Hands On Machine Learning Book/glioma\\\\Te-gl_0200.jpg,glioma\\r\\n201,C:/Savinu/Hands On Machine Learning Book/glioma\\\\Te-gl_0201.jpg,glioma\\r\\n202,C:/Savinu/Hands On Machine Learning Book/glioma\\\\Te-gl_0202.jpg,glioma\\r\\n203,C:/Savinu/Hands On Machine Learning Book/glioma\\\\Te-gl_0203.jpg,glioma\\r\\n204,C:/Savinu/Hands On Machine Learning Book/glioma\\\\Te-gl_0204.jpg,glioma\\r\\n205,C:/Savinu/Hands On Machine Learning Book/glioma\\\\Te-gl_0205.jpg,glioma\\r\\n206,C:/Savinu/Hands On Machine Learning Book/glioma\\\\Te-gl_0206.jpg,glioma\\r\\n207,C:/Savinu/Hands On Machine Learning Book/glioma\\\\Te-gl_0207.jpg,glioma\\r\\n208,C:/Savinu/Hands On Machine Learning Book/glioma\\\\Te-gl_0208.jpg,glioma\\r\\n209,C:/Savinu/Hands On Machine Learning Book/glioma\\\\Te-gl_0209.jpg,glioma\\r\\n210,C:/Savinu/Hands On Machine Learning Book/glioma\\\\Te-gl_0210.jpg,glioma\\r\\n211,C:/Savinu/Hands On Machine Learning Book/glioma\\\\Te-gl_0211.jpg,glioma\\r\\n212,C:/Savinu/Hands On Machine Learning Book/glioma\\\\Te-gl_0212.jpg,glioma\\r\\n213,C:/Savinu/Hands On Machine Learning Book/glioma\\\\Te-gl_0213.jpg,glioma\\r\\n214,C:/Savinu/Hands On Machine Learning Book/glioma\\\\Te-gl_0214.jpg,glioma\\r\\n215,C:/Savinu/Hands On Machine Learning Book/glioma\\\\Te-gl_0215.jpg,glioma\\r\\n216,C:/Savinu/Hands On Machine Learning Book/glioma\\\\Te-gl_0216.jpg,glioma\\r\\n217,C:/Savinu/Hands On Machine Learning Book/glioma\\\\Te-gl_0217.jpg,glioma\\r\\n218,C:/Savinu/Hands On Machine Learning Book/glioma\\\\Te-gl_0218.jpg,glioma\\r\\n219,C:/Savinu/Hands On Machine Learning Book/glioma\\\\Te-gl_0219.jpg,glioma\\r\\n220,C:/Savinu/Hands On Machine Learning Book/glioma\\\\Te-gl_0220.jpg,glioma\\r\\n221,C:/Savinu/Hands On Machine Learning Book/glioma\\\\Te-gl_0221.jpg,glioma\\r\\n222,C:/Savinu/Hands On Machine Learning Book/glioma\\\\Te-gl_0222.jpg,glioma\\r\\n223,C:/Savinu/Hands On Machine Learning Book/glioma\\\\Te-gl_0223.jpg,glioma\\r\\n224,C:/Savinu/Hands On Machine Learning Book/glioma\\\\Te-gl_0224.jpg,glioma\\r\\n225,C:/Savinu/Hands On Machine Learning Book/glioma\\\\Te-gl_0225.jpg,glioma\\r\\n226,C:/Savinu/Hands On Machine Learning Book/glioma\\\\Te-gl_0226.jpg,glioma\\r\\n227,C:/Savinu/Hands On Machine Learning Book/glioma\\\\Te-gl_0227.jpg,glioma\\r\\n228,C:/Savinu/Hands On Machine Learning Book/glioma\\\\Te-gl_0228.jpg,glioma\\r\\n229,C:/Savinu/Hands On Machine Learning Book/glioma\\\\Te-gl_0229.jpg,glioma\\r\\n230,C:/Savinu/Hands On Machine Learning Book/glioma\\\\Te-gl_0230.jpg,glioma\\r\\n231,C:/Savinu/Hands On Machine Learning Book/glioma\\\\Te-gl_0231.jpg,glioma\\r\\n232,C:/Savinu/Hands On Machine Learning Book/glioma\\\\Te-gl_0232.jpg,glioma\\r\\n233,C:/Savinu/Hands On Machine Learning Book/glioma\\\\Te-gl_0233.jpg,glioma\\r\\n234,C:/Savinu/Hands On Machine Learning Book/glioma\\\\Te-gl_0234.jpg,glioma\\r\\n235,C:/Savinu/Hands On Machine Learning Book/glioma\\\\Te-gl_0235.jpg,glioma\\r\\n236,C:/Savinu/Hands On Machine Learning Book/glioma\\\\Te-gl_0236.jpg,glioma\\r\\n237,C:/Savinu/Hands On Machine Learning Book/glioma\\\\Te-gl_0237.jpg,glioma\\r\\n238,C:/Savinu/Hands On Machine Learning Book/glioma\\\\Te-gl_0238.jpg,glioma\\r\\n239,C:/Savinu/Hands On Machine Learning Book/glioma\\\\Te-gl_0239.jpg,glioma\\r\\n240,C:/Savinu/Hands On Machine Learning Book/glioma\\\\Te-gl_0240.jpg,glioma\\r\\n241,C:/Savinu/Hands On Machine Learning Book/glioma\\\\Te-gl_0241.jpg,glioma\\r\\n242,C:/Savinu/Hands On Machine Learning Book/glioma\\\\Te-gl_0242.jpg,glioma\\r\\n243,C:/Savinu/Hands On Machine Learning Book/glioma\\\\Te-gl_0243.jpg,glioma\\r\\n244,C:/Savinu/Hands On Machine Learning Book/glioma\\\\Te-gl_0244.jpg,glioma\\r\\n245,C:/Savinu/Hands On Machine Learning Book/glioma\\\\Te-gl_0245.jpg,glioma\\r\\n246,C:/Savinu/Hands On Machine Learning Book/glioma\\\\Te-gl_0246.jpg,glioma\\r\\n247,C:/Savinu/Hands On Machine Learning Book/glioma\\\\Te-gl_0247.jpg,glioma\\r\\n248,C:/Savinu/Hands On Machine Learning Book/glioma\\\\Te-gl_0248.jpg,glioma\\r\\n249,C:/Savinu/Hands On Machine Learning Book/glioma\\\\Te-gl_0249.jpg,glioma\\r\\n250,C:/Savinu/Hands On Machine Learning Book/glioma\\\\Te-gl_0250.jpg,glioma\\r\\n251,C:/Savinu/Hands On Machine Learning Book/glioma\\\\Te-gl_0251.jpg,glioma\\r\\n252,C:/Savinu/Hands On Machine Learning Book/glioma\\\\Te-gl_0252.jpg,glioma\\r\\n253,C:/Savinu/Hands On Machine Learning Book/glioma\\\\Te-gl_0253.jpg,glioma\\r\\n254,C:/Savinu/Hands On Machine Learning Book/glioma\\\\Te-gl_0254.jpg,glioma\\r\\n255,C:/Savinu/Hands On Machine Learning Book/glioma\\\\Te-gl_0255.jpg,glioma\\r\\n256,C:/Savinu/Hands On Machine Learning Book/glioma\\\\Te-gl_0256.jpg,glioma\\r\\n257,C:/Savinu/Hands On Machine Learning Book/glioma\\\\Te-gl_0257.jpg,glioma\\r\\n258,C:/Savinu/Hands On Machine Learning Book/glioma\\\\Te-gl_0258.jpg,glioma\\r\\n259,C:/Savinu/Hands On Machine Learning Book/glioma\\\\Te-gl_0259.jpg,glioma\\r\\n260,C:/Savinu/Hands On Machine Learning Book/glioma\\\\Te-gl_0260.jpg,glioma\\r\\n261,C:/Savinu/Hands On Machine Learning Book/glioma\\\\Te-gl_0261.jpg,glioma\\r\\n262,C:/Savinu/Hands On Machine Learning Book/glioma\\\\Te-gl_0262.jpg,glioma\\r\\n263,C:/Savinu/Hands On Machine Learning Book/glioma\\\\Te-gl_0263.jpg,glioma\\r\\n264,C:/Savinu/Hands On Machine Learning Book/glioma\\\\Te-gl_0264.jpg,glioma\\r\\n265,C:/Savinu/Hands On Machine Learning Book/glioma\\\\Te-gl_0265.jpg,glioma\\r\\n266,C:/Savinu/Hands On Machine Learning Book/glioma\\\\Te-gl_0266.jpg,glioma\\r\\n267,C:/Savinu/Hands On Machine Learning Book/glioma\\\\Te-gl_0267.jpg,glioma\\r\\n268,C:/Savinu/Hands On Machine Learning Book/glioma\\\\Te-gl_0268.jpg,glioma\\r\\n269,C:/Savinu/Hands On Machine Learning Book/glioma\\\\Te-gl_0269.jpg,glioma\\r\\n270,C:/Savinu/Hands On Machine Learning Book/glioma\\\\Te-gl_0270.jpg,glioma\\r\\n271,C:/Savinu/Hands On Machine Learning Book/glioma\\\\Te-gl_0271.jpg,glioma\\r\\n272,C:/Savinu/Hands On Machine Learning Book/glioma\\\\Te-gl_0272.jpg,glioma\\r\\n273,C:/Savinu/Hands On Machine Learning Book/glioma\\\\Te-gl_0273.jpg,glioma\\r\\n274,C:/Savinu/Hands On Machine Learning Book/glioma\\\\Te-gl_0274.jpg,glioma\\r\\n275,C:/Savinu/Hands On Machine Learning Book/glioma\\\\Te-gl_0275.jpg,glioma\\r\\n276,C:/Savinu/Hands On Machine Learning Book/glioma\\\\Te-gl_0276.jpg,glioma\\r\\n277,C:/Savinu/Hands On Machine Learning Book/glioma\\\\Te-gl_0277.jpg,glioma\\r\\n278,C:/Savinu/Hands On Machine Learning Book/glioma\\\\Te-gl_0278.jpg,glioma\\r\\n279,C:/Savinu/Hands On Machine Learning Book/glioma\\\\Te-gl_0279.jpg,glioma\\r\\n280,C:/Savinu/Hands On Machine Learning Book/glioma\\\\Te-gl_0280.jpg,glioma\\r\\n281,C:/Savinu/Hands On Machine Learning Book/glioma\\\\Te-gl_0281.jpg,glioma\\r\\n282,C:/Savinu/Hands On Machine Learning Book/glioma\\\\Te-gl_0282.jpg,glioma\\r\\n283,C:/Savinu/Hands On Machine Learning Book/glioma\\\\Te-gl_0283.jpg,glioma\\r\\n284,C:/Savinu/Hands On Machine Learning Book/glioma\\\\Te-gl_0284.jpg,glioma\\r\\n285,C:/Savinu/Hands On Machine Learning Book/glioma\\\\Te-gl_0285.jpg,glioma\\r\\n286,C:/Savinu/Hands On Machine Learning Book/glioma\\\\Te-gl_0286.jpg,glioma\\r\\n287,C:/Savinu/Hands On Machine Learning Book/glioma\\\\Te-gl_0287.jpg,glioma\\r\\n288,C:/Savinu/Hands On Machine Learning Book/glioma\\\\Te-gl_0288.jpg,glioma\\r\\n289,C:/Savinu/Hands On Machine Learning Book/glioma\\\\Te-gl_0289.jpg,glioma\\r\\n290,C:/Savinu/Hands On Machine Learning Book/glioma\\\\Te-gl_0290.jpg,glioma\\r\\n291,C:/Savinu/Hands On Machine Learning Book/glioma\\\\Te-gl_0291.jpg,glioma\\r\\n292,C:/Savinu/Hands On Machine Learning Book/glioma\\\\Te-gl_0292.jpg,glioma\\r\\n293,C:/Savinu/Hands On Machine Learning Book/glioma\\\\Te-gl_0293.jpg,glioma\\r\\n294,C:/Savinu/Hands On Machine Learning Book/glioma\\\\Te-gl_0294.jpg,glioma\\r\\n295,C:/Savinu/Hands On Machine Learning Book/glioma\\\\Te-gl_0295.jpg,glioma\\r\\n296,C:/Savinu/Hands On Machine Learning Book/glioma\\\\Te-gl_0296.jpg,glioma\\r\\n297,C:/Savinu/Hands On Machine Learning Book/glioma\\\\Te-gl_0297.jpg,glioma\\r\\n298,C:/Savinu/Hands On Machine Learning Book/glioma\\\\Te-gl_0298.jpg,glioma\\r\\n299,C:/Savinu/Hands On Machine Learning Book/glioma\\\\Te-gl_0299.jpg,glioma\\r\\n300,C:/Savinu/Hands On Machine Learning Book/meningioma\\\\Te-meTr_0000.jpg,meningioma\\r\\n301,C:/Savinu/Hands On Machine Learning Book/meningioma\\\\Te-meTr_0001.jpg,meningioma\\r\\n302,C:/Savinu/Hands On Machine Learning Book/meningioma\\\\Te-meTr_0002.jpg,meningioma\\r\\n303,C:/Savinu/Hands On Machine Learning Book/meningioma\\\\Te-meTr_0003.jpg,meningioma\\r\\n304,C:/Savinu/Hands On Machine Learning Book/meningioma\\\\Te-meTr_0004.jpg,meningioma\\r\\n305,C:/Savinu/Hands On Machine Learning Book/meningioma\\\\Te-meTr_0005.jpg,meningioma\\r\\n306,C:/Savinu/Hands On Machine Learning Book/meningioma\\\\Te-meTr_0006.jpg,meningioma\\r\\n307,C:/Savinu/Hands On Machine Learning Book/meningioma\\\\Te-meTr_0007.jpg,meningioma\\r\\n308,C:/Savinu/Hands On Machine Learning Book/meningioma\\\\Te-meTr_0008.jpg,meningioma\\r\\n309,C:/Savinu/Hands On Machine Learning Book/meningioma\\\\Te-meTr_0009.jpg,meningioma\\r\\n310,C:/Savinu/Hands On Machine Learning Book/meningioma\\\\Te-me_0010.jpg,meningioma\\r\\n311,C:/Savinu/Hands On Machine Learning Book/meningioma\\\\Te-me_0011.jpg,meningioma\\r\\n312,C:/Savinu/Hands On Machine Learning Book/meningioma\\\\Te-me_0012.jpg,meningioma\\r\\n313,C:/Savinu/Hands On Machine Learning Book/meningioma\\\\Te-me_0013.jpg,meningioma\\r\\n314,C:/Savinu/Hands On Machine Learning Book/meningioma\\\\Te-me_0014.jpg,meningioma\\r\\n315,C:/Savinu/Hands On Machine Learning Book/meningioma\\\\Te-me_0015.jpg,meningioma\\r\\n316,C:/Savinu/Hands On Machine Learning Book/meningioma\\\\Te-me_0016.jpg,meningioma\\r\\n317,C:/Savinu/Hands On Machine Learning Book/meningioma\\\\Te-me_0017.jpg,meningioma\\r\\n318,C:/Savinu/Hands On Machine Learning Book/meningioma\\\\Te-me_0018.jpg,meningioma\\r\\n319,C:/Savinu/Hands On Machine Learning Book/meningioma\\\\Te-me_0019.jpg,meningioma\\r\\n320,C:/Savinu/Hands On Machine Learning Book/meningioma\\\\Te-me_0020.jpg,meningioma\\r\\n321,C:/Savinu/Hands On Machine Learning Book/meningioma\\\\Te-me_0021.jpg,meningioma\\r\\n322,C:/Savinu/Hands On Machine Learning Book/meningioma\\\\Te-me_0022.jpg,meningioma\\r\\n323,C:/Savinu/Hands On Machine Learning Book/meningioma\\\\Te-me_0023.jpg,meningioma\\r\\n324,C:/Savinu/Hands On Machine Learning Book/meningioma\\\\Te-me_0024.jpg,meningioma\\r\\n325,C:/Savinu/Hands On Machine Learning Book/meningioma\\\\Te-me_0025.jpg,meningioma\\r\\n326,C:/Savinu/Hands On Machine Learning Book/meningioma\\\\Te-me_0026.jpg,meningioma\\r\\n327,C:/Savinu/Hands On Machine Learning Book/meningioma\\\\Te-me_0027.jpg,meningioma\\r\\n328,C:/Savinu/Hands On Machine Learning Book/meningioma\\\\Te-me_0028.jpg,meningioma\\r\\n329,C:/Savinu/Hands On Machine Learning Book/meningioma\\\\Te-me_0029.jpg,meningioma\\r\\n330,C:/Savinu/Hands On Machine Learning Book/meningioma\\\\Te-me_0030.jpg,meningioma\\r\\n331,C:/Savinu/Hands On Machine Learning Book/meningioma\\\\Te-me_0031.jpg,meningioma\\r\\n332,C:/Savinu/Hands On Machine Learning Book/meningioma\\\\Te-me_0032.jpg,meningioma\\r\\n333,C:/Savinu/Hands On Machine Learning Book/meningioma\\\\Te-me_0033.jpg,meningioma\\r\\n334,C:/Savinu/Hands On Machine Learning Book/meningioma\\\\Te-me_0034.jpg,meningioma\\r\\n335,C:/Savinu/Hands On Machine Learning Book/meningioma\\\\Te-me_0035.jpg,meningioma\\r\\n336,C:/Savinu/Hands On Machine Learning Book/meningioma\\\\Te-me_0036.jpg,meningioma\\r\\n337,C:/Savinu/Hands On Machine Learning Book/meningioma\\\\Te-me_0037.jpg,meningioma\\r\\n338,C:/Savinu/Hands On Machine Learning Book/meningioma\\\\Te-me_0038.jpg,meningioma\\r\\n339,C:/Savinu/Hands On Machine Learning Book/meningioma\\\\Te-me_0039.jpg,meningioma\\r\\n340,C:/Savinu/Hands On Machine Learning Book/meningioma\\\\Te-me_0040.jpg,meningioma\\r\\n341,C:/Savinu/Hands On Machine Learning Book/meningioma\\\\Te-me_0041.jpg,meningioma\\r\\n342,C:/Savinu/Hands On Machine Learning Book/meningioma\\\\Te-me_0042.jpg,meningioma\\r\\n343,C:/Savinu/Hands On Machine Learning Book/meningioma\\\\Te-me_0043.jpg,meningioma\\r\\n344,C:/Savinu/Hands On Machine Learning Book/meningioma\\\\Te-me_0044.jpg,meningioma\\r\\n345,C:/Savinu/Hands On Machine Learning Book/meningioma\\\\Te-me_0045.jpg,meningioma\\r\\n346,C:/Savinu/Hands On Machine Learning Book/meningioma\\\\Te-me_0046.jpg,meningioma\\r\\n347,C:/Savinu/Hands On Machine Learning Book/meningioma\\\\Te-me_0047.jpg,meningioma\\r\\n348,C:/Savinu/Hands On Machine Learning Book/meningioma\\\\Te-me_0048.jpg,meningioma\\r\\n349,C:/Savinu/Hands On Machine Learning Book/meningioma\\\\Te-me_0049.jpg,meningioma\\r\\n350,C:/Savinu/Hands On Machine Learning Book/meningioma\\\\Te-me_0050.jpg,meningioma\\r\\n351,C:/Savinu/Hands On Machine Learning Book/meningioma\\\\Te-me_0051.jpg,meningioma\\r\\n352,C:/Savinu/Hands On Machine Learning Book/meningioma\\\\Te-me_0052.jpg,meningioma\\r\\n353,C:/Savinu/Hands On Machine Learning Book/meningioma\\\\Te-me_0053.jpg,meningioma\\r\\n354,C:/Savinu/Hands On Machine Learning Book/meningioma\\\\Te-me_0054.jpg,meningioma\\r\\n355,C:/Savinu/Hands On Machine Learning Book/meningioma\\\\Te-me_0055.jpg,meningioma\\r\\n356,C:/Savinu/Hands On Machine Learning Book/meningioma\\\\Te-me_0056.jpg,meningioma\\r\\n357,C:/Savinu/Hands On Machine Learning Book/meningioma\\\\Te-me_0057.jpg,meningioma\\r\\n358,C:/Savinu/Hands On Machine Learning Book/meningioma\\\\Te-me_0058.jpg,meningioma\\r\\n359,C:/Savinu/Hands On Machine Learning Book/meningioma\\\\Te-me_0059.jpg,meningioma\\r\\n360,C:/Savinu/Hands On Machine Learning Book/meningioma\\\\Te-me_0060.jpg,meningioma\\r\\n361,C:/Savinu/Hands On Machine Learning Book/meningioma\\\\Te-me_0061.jpg,meningioma\\r\\n362,C:/Savinu/Hands On Machine Learning Book/meningioma\\\\Te-me_0062.jpg,meningioma\\r\\n363,C:/Savinu/Hands On Machine Learning Book/meningioma\\\\Te-me_0063.jpg,meningioma\\r\\n364,C:/Savinu/Hands On Machine Learning Book/meningioma\\\\Te-me_0064.jpg,meningioma\\r\\n365,C:/Savinu/Hands On Machine Learning Book/meningioma\\\\Te-me_0065.jpg,meningioma\\r\\n366,C:/Savinu/Hands On Machine Learning Book/meningioma\\\\Te-me_0066.jpg,meningioma\\r\\n367,C:/Savinu/Hands On Machine Learning Book/meningioma\\\\Te-me_0067.jpg,meningioma\\r\\n368,C:/Savinu/Hands On Machine Learning Book/meningioma\\\\Te-me_0068.jpg,meningioma\\r\\n369,C:/Savinu/Hands On Machine Learning Book/meningioma\\\\Te-me_0069.jpg,meningioma\\r\\n370,C:/Savinu/Hands On Machine Learning Book/meningioma\\\\Te-me_0070.jpg,meningioma\\r\\n371,C:/Savinu/Hands On Machine Learning Book/meningioma\\\\Te-me_0071.jpg,meningioma\\r\\n372,C:/Savinu/Hands On Machine Learning Book/meningioma\\\\Te-me_0072.jpg,meningioma\\r\\n373,C:/Savinu/Hands On Machine Learning Book/meningioma\\\\Te-me_0073.jpg,meningioma\\r\\n374,C:/Savinu/Hands On Machine Learning Book/meningioma\\\\Te-me_0074.jpg,meningioma\\r\\n375,C:/Savinu/Hands On Machine Learning Book/meningioma\\\\Te-me_0075.jpg,meningioma\\r\\n376,C:/Savinu/Hands On Machine Learning Book/meningioma\\\\Te-me_0076.jpg,meningioma\\r\\n377,C:/Savinu/Hands On Machine Learning Book/meningioma\\\\Te-me_0077.jpg,meningioma\\r\\n378,C:/Savinu/Hands On Machine Learning Book/meningioma\\\\Te-me_0078.jpg,meningioma\\r\\n379,C:/Savinu/Hands On Machine Learning Book/meningioma\\\\Te-me_0079.jpg,meningioma\\r\\n380,C:/Savinu/Hands On Machine Learning Book/meningioma\\\\Te-me_0080.jpg,meningioma\\r\\n381,C:/Savinu/Hands On Machine Learning Book/meningioma\\\\Te-me_0081.jpg,meningioma\\r\\n382,C:/Savinu/Hands On Machine Learning Book/meningioma\\\\Te-me_0082.jpg,meningioma\\r\\n383,C:/Savinu/Hands On Machine Learning Book/meningioma\\\\Te-me_0083.jpg,meningioma\\r\\n384,C:/Savinu/Hands On Machine Learning Book/meningioma\\\\Te-me_0084.jpg,meningioma\\r\\n385,C:/Savinu/Hands On Machine Learning Book/meningioma\\\\Te-me_0085.jpg,meningioma\\r\\n386,C:/Savinu/Hands On Machine Learning Book/meningioma\\\\Te-me_0086.jpg,meningioma\\r\\n387,C:/Savinu/Hands On Machine Learning Book/meningioma\\\\Te-me_0087.jpg,meningioma\\r\\n388,C:/Savinu/Hands On Machine Learning Book/meningioma\\\\Te-me_0088.jpg,meningioma\\r\\n389,C:/Savinu/Hands On Machine Learning Book/meningioma\\\\Te-me_0089.jpg,meningioma\\r\\n390,C:/Savinu/Hands On Machine Learning Book/meningioma\\\\Te-me_0090.jpg,meningioma\\r\\n391,C:/Savinu/Hands On Machine Learning Book/meningioma\\\\Te-me_0091.jpg,meningioma\\r\\n392,C:/Savinu/Hands On Machine Learning Book/meningioma\\\\Te-me_0092.jpg,meningioma\\r\\n393,C:/Savinu/Hands On Machine Learning Book/meningioma\\\\Te-me_0093.jpg,meningioma\\r\\n394,C:/Savinu/Hands On Machine Learning Book/meningioma\\\\Te-me_0094.jpg,meningioma\\r\\n395,C:/Savinu/Hands On Machine Learning Book/meningioma\\\\Te-me_0095.jpg,meningioma\\r\\n396,C:/Savinu/Hands On Machine Learning Book/meningioma\\\\Te-me_0096.jpg,meningioma\\r\\n397,C:/Savinu/Hands On Machine Learning Book/meningioma\\\\Te-me_0097.jpg,meningioma\\r\\n398,C:/Savinu/Hands On Machine Learning Book/meningioma\\\\Te-me_0098.jpg,meningioma\\r\\n399,C:/Savinu/Hands On Machine Learning Book/meningioma\\\\Te-me_0099.jpg,meningioma\\r\\n400,C:/Savinu/Hands On Machine Learning Book/meningioma\\\\Te-me_0100.jpg,meningioma\\r\\n401,C:/Savinu/Hands On Machine Learning Book/meningioma\\\\Te-me_0101.jpg,meningioma\\r\\n402,C:/Savinu/Hands On Machine Learning Book/meningioma\\\\Te-me_0102.jpg,meningioma\\r\\n403,C:/Savinu/Hands On Machine Learning Book/meningioma\\\\Te-me_0103.jpg,meningioma\\r\\n404,C:/Savinu/Hands On Machine Learning Book/meningioma\\\\Te-me_0104.jpg,meningioma\\r\\n405,C:/Savinu/Hands On Machine Learning Book/meningioma\\\\Te-me_0105.jpg,meningioma\\r\\n406,C:/Savinu/Hands On Machine Learning Book/meningioma\\\\Te-me_0106.jpg,meningioma\\r\\n407,C:/Savinu/Hands On Machine Learning Book/meningioma\\\\Te-me_0107.jpg,meningioma\\r\\n408,C:/Savinu/Hands On Machine Learning Book/meningioma\\\\Te-me_0108.jpg,meningioma\\r\\n409,C:/Savinu/Hands On Machine Learning Book/meningioma\\\\Te-me_0109.jpg,meningioma\\r\\n410,C:/Savinu/Hands On Machine Learning Book/meningioma\\\\Te-me_0110.jpg,meningioma\\r\\n411,C:/Savinu/Hands On Machine Learning Book/meningioma\\\\Te-me_0111.jpg,meningioma\\r\\n412,C:/Savinu/Hands On Machine Learning Book/meningioma\\\\Te-me_0112.jpg,meningioma\\r\\n413,C:/Savinu/Hands On Machine Learning Book/meningioma\\\\Te-me_0113.jpg,meningioma\\r\\n414,C:/Savinu/Hands On Machine Learning Book/meningioma\\\\Te-me_0114.jpg,meningioma\\r\\n415,C:/Savinu/Hands On Machine Learning Book/meningioma\\\\Te-me_0115.jpg,meningioma\\r\\n416,C:/Savinu/Hands On Machine Learning Book/meningioma\\\\Te-me_0116.jpg,meningioma\\r\\n417,C:/Savinu/Hands On Machine Learning Book/meningioma\\\\Te-me_0117.jpg,meningioma\\r\\n418,C:/Savinu/Hands On Machine Learning Book/meningioma\\\\Te-me_0118.jpg,meningioma\\r\\n419,C:/Savinu/Hands On Machine Learning Book/meningioma\\\\Te-me_0119.jpg,meningioma\\r\\n420,C:/Savinu/Hands On Machine Learning Book/meningioma\\\\Te-me_0120.jpg,meningioma\\r\\n421,C:/Savinu/Hands On Machine Learning Book/meningioma\\\\Te-me_0121.jpg,meningioma\\r\\n422,C:/Savinu/Hands On Machine Learning Book/meningioma\\\\Te-me_0122.jpg,meningioma\\r\\n423,C:/Savinu/Hands On Machine Learning Book/meningioma\\\\Te-me_0123.jpg,meningioma\\r\\n424,C:/Savinu/Hands On Machine Learning Book/meningioma\\\\Te-me_0124.jpg,meningioma\\r\\n425,C:/Savinu/Hands On Machine Learning Book/meningioma\\\\Te-me_0125.jpg,meningioma\\r\\n426,C:/Savinu/Hands On Machine Learning Book/meningioma\\\\Te-me_0126.jpg,meningioma\\r\\n427,C:/Savinu/Hands On Machine Learning Book/meningioma\\\\Te-me_0127.jpg,meningioma\\r\\n428,C:/Savinu/Hands On Machine Learning Book/meningioma\\\\Te-me_0128.jpg,meningioma\\r\\n429,C:/Savinu/Hands On Machine Learning Book/meningioma\\\\Te-me_0129.jpg,meningioma\\r\\n430,C:/Savinu/Hands On Machine Learning Book/meningioma\\\\Te-me_0130.jpg,meningioma\\r\\n431,C:/Savinu/Hands On Machine Learning Book/meningioma\\\\Te-me_0131.jpg,meningioma\\r\\n432,C:/Savinu/Hands On Machine Learning Book/meningioma\\\\Te-me_0132.jpg,meningioma\\r\\n433,C:/Savinu/Hands On Machine Learning Book/meningioma\\\\Te-me_0133.jpg,meningioma\\r\\n434,C:/Savinu/Hands On Machine Learning Book/meningioma\\\\Te-me_0134.jpg,meningioma\\r\\n435,C:/Savinu/Hands On Machine Learning Book/meningioma\\\\Te-me_0135.jpg,meningioma\\r\\n436,C:/Savinu/Hands On Machine Learning Book/meningioma\\\\Te-me_0136.jpg,meningioma\\r\\n437,C:/Savinu/Hands On Machine Learning Book/meningioma\\\\Te-me_0137.jpg,meningioma\\r\\n438,C:/Savinu/Hands On Machine Learning Book/meningioma\\\\Te-me_0138.jpg,meningioma\\r\\n439,C:/Savinu/Hands On Machine Learning Book/meningioma\\\\Te-me_0139.jpg,meningioma\\r\\n440,C:/Savinu/Hands On Machine Learning Book/meningioma\\\\Te-me_0140.jpg,meningioma\\r\\n441,C:/Savinu/Hands On Machine Learning Book/meningioma\\\\Te-me_0141.jpg,meningioma\\r\\n442,C:/Savinu/Hands On Machine Learning Book/meningioma\\\\Te-me_0142.jpg,meningioma\\r\\n443,C:/Savinu/Hands On Machine Learning Book/meningioma\\\\Te-me_0143.jpg,meningioma\\r\\n444,C:/Savinu/Hands On Machine Learning Book/meningioma\\\\Te-me_0144.jpg,meningioma\\r\\n445,C:/Savinu/Hands On Machine Learning Book/meningioma\\\\Te-me_0145.jpg,meningioma\\r\\n446,C:/Savinu/Hands On Machine Learning Book/meningioma\\\\Te-me_0146.jpg,meningioma\\r\\n447,C:/Savinu/Hands On Machine Learning Book/meningioma\\\\Te-me_0147.jpg,meningioma\\r\\n448,C:/Savinu/Hands On Machine Learning Book/meningioma\\\\Te-me_0148.jpg,meningioma\\r\\n449,C:/Savinu/Hands On Machine Learning Book/meningioma\\\\Te-me_0149.jpg,meningioma\\r\\n450,C:/Savinu/Hands On Machine Learning Book/meningioma\\\\Te-me_0150.jpg,meningioma\\r\\n451,C:/Savinu/Hands On Machine Learning Book/meningioma\\\\Te-me_0151.jpg,meningioma\\r\\n452,C:/Savinu/Hands On Machine Learning Book/meningioma\\\\Te-me_0152.jpg,meningioma\\r\\n453,C:/Savinu/Hands On Machine Learning Book/meningioma\\\\Te-me_0153.jpg,meningioma\\r\\n454,C:/Savinu/Hands On Machine Learning Book/meningioma\\\\Te-me_0154.jpg,meningioma\\r\\n455,C:/Savinu/Hands On Machine Learning Book/meningioma\\\\Te-me_0155.jpg,meningioma\\r\\n456,C:/Savinu/Hands On Machine Learning Book/meningioma\\\\Te-me_0156.jpg,meningioma\\r\\n457,C:/Savinu/Hands On Machine Learning Book/meningioma\\\\Te-me_0157.jpg,meningioma\\r\\n458,C:/Savinu/Hands On Machine Learning Book/meningioma\\\\Te-me_0158.jpg,meningioma\\r\\n459,C:/Savinu/Hands On Machine Learning Book/meningioma\\\\Te-me_0159.jpg,meningioma\\r\\n460,C:/Savinu/Hands On Machine Learning Book/meningioma\\\\Te-me_0160.jpg,meningioma\\r\\n461,C:/Savinu/Hands On Machine Learning Book/meningioma\\\\Te-me_0161.jpg,meningioma\\r\\n462,C:/Savinu/Hands On Machine Learning Book/meningioma\\\\Te-me_0162.jpg,meningioma\\r\\n463,C:/Savinu/Hands On Machine Learning Book/meningioma\\\\Te-me_0163.jpg,meningioma\\r\\n464,C:/Savinu/Hands On Machine Learning Book/meningioma\\\\Te-me_0164.jpg,meningioma\\r\\n465,C:/Savinu/Hands On Machine Learning Book/meningioma\\\\Te-me_0165.jpg,meningioma\\r\\n466,C:/Savinu/Hands On Machine Learning Book/meningioma\\\\Te-me_0166.jpg,meningioma\\r\\n467,C:/Savinu/Hands On Machine Learning Book/meningioma\\\\Te-me_0167.jpg,meningioma\\r\\n468,C:/Savinu/Hands On Machine Learning Book/meningioma\\\\Te-me_0168.jpg,meningioma\\r\\n469,C:/Savinu/Hands On Machine Learning Book/meningioma\\\\Te-me_0169.jpg,meningioma\\r\\n470,C:/Savinu/Hands On Machine Learning Book/meningioma\\\\Te-me_0170.jpg,meningioma\\r\\n471,C:/Savinu/Hands On Machine Learning Book/meningioma\\\\Te-me_0171.jpg,meningioma\\r\\n472,C:/Savinu/Hands On Machine Learning Book/meningioma\\\\Te-me_0172.jpg,meningioma\\r\\n473,C:/Savinu/Hands On Machine Learning Book/meningioma\\\\Te-me_0173.jpg,meningioma\\r\\n474,C:/Savinu/Hands On Machine Learning Book/meningioma\\\\Te-me_0174.jpg,meningioma\\r\\n475,C:/Savinu/Hands On Machine Learning Book/meningioma\\\\Te-me_0175.jpg,meningioma\\r\\n476,C:/Savinu/Hands On Machine Learning Book/meningioma\\\\Te-me_0176.jpg,meningioma\\r\\n477,C:/Savinu/Hands On Machine Learning Book/meningioma\\\\Te-me_0177.jpg,meningioma\\r\\n478,C:/Savinu/Hands On Machine Learning Book/meningioma\\\\Te-me_0178.jpg,meningioma\\r\\n479,C:/Savinu/Hands On Machine Learning Book/meningioma\\\\Te-me_0179.jpg,meningioma\\r\\n480,C:/Savinu/Hands On Machine Learning Book/meningioma\\\\Te-me_0180.jpg,meningioma\\r\\n481,C:/Savinu/Hands On Machine Learning Book/meningioma\\\\Te-me_0181.jpg,meningioma\\r\\n482,C:/Savinu/Hands On Machine Learning Book/meningioma\\\\Te-me_0182.jpg,meningioma\\r\\n483,C:/Savinu/Hands On Machine Learning Book/meningioma\\\\Te-me_0183.jpg,meningioma\\r\\n484,C:/Savinu/Hands On Machine Learning Book/meningioma\\\\Te-me_0184.jpg,meningioma\\r\\n485,C:/Savinu/Hands On Machine Learning Book/meningioma\\\\Te-me_0185.jpg,meningioma\\r\\n486,C:/Savinu/Hands On Machine Learning Book/meningioma\\\\Te-me_0186.jpg,meningioma\\r\\n487,C:/Savinu/Hands On Machine Learning Book/meningioma\\\\Te-me_0187.jpg,meningioma\\r\\n488,C:/Savinu/Hands On Machine Learning Book/meningioma\\\\Te-me_0188.jpg,meningioma\\r\\n489,C:/Savinu/Hands On Machine Learning Book/meningioma\\\\Te-me_0189.jpg,meningioma\\r\\n490,C:/Savinu/Hands On Machine Learning Book/meningioma\\\\Te-me_0190.jpg,meningioma\\r\\n491,C:/Savinu/Hands On Machine Learning Book/meningioma\\\\Te-me_0191.jpg,meningioma\\r\\n492,C:/Savinu/Hands On Machine Learning Book/meningioma\\\\Te-me_0192.jpg,meningioma\\r\\n493,C:/Savinu/Hands On Machine Learning Book/meningioma\\\\Te-me_0193.jpg,meningioma\\r\\n494,C:/Savinu/Hands On Machine Learning Book/meningioma\\\\Te-me_0194.jpg,meningioma\\r\\n495,C:/Savinu/Hands On Machine Learning Book/meningioma\\\\Te-me_0195.jpg,meningioma\\r\\n496,C:/Savinu/Hands On Machine Learning Book/meningioma\\\\Te-me_0196.jpg,meningioma\\r\\n497,C:/Savinu/Hands On Machine Learning Book/meningioma\\\\Te-me_0197.jpg,meningioma\\r\\n498,C:/Savinu/Hands On Machine Learning Book/meningioma\\\\Te-me_0198.jpg,meningioma\\r\\n499,C:/Savinu/Hands On Machine Learning Book/meningioma\\\\Te-me_0199.jpg,meningioma\\r\\n500,C:/Savinu/Hands On Machine Learning Book/meningioma\\\\Te-me_0200.jpg,meningioma\\r\\n501,C:/Savinu/Hands On Machine Learning Book/meningioma\\\\Te-me_0201.jpg,meningioma\\r\\n502,C:/Savinu/Hands On Machine Learning Book/meningioma\\\\Te-me_0202.jpg,meningioma\\r\\n503,C:/Savinu/Hands On Machine Learning Book/meningioma\\\\Te-me_0203.jpg,meningioma\\r\\n504,C:/Savinu/Hands On Machine Learning Book/meningioma\\\\Te-me_0204.jpg,meningioma\\r\\n505,C:/Savinu/Hands On Machine Learning Book/meningioma\\\\Te-me_0205.jpg,meningioma\\r\\n506,C:/Savinu/Hands On Machine Learning Book/meningioma\\\\Te-me_0206.jpg,meningioma\\r\\n507,C:/Savinu/Hands On Machine Learning Book/meningioma\\\\Te-me_0207.jpg,meningioma\\r\\n508,C:/Savinu/Hands On Machine Learning Book/meningioma\\\\Te-me_0208.jpg,meningioma\\r\\n509,C:/Savinu/Hands On Machine Learning Book/meningioma\\\\Te-me_0209.jpg,meningioma\\r\\n510,C:/Savinu/Hands On Machine Learning Book/meningioma\\\\Te-me_0210.jpg,meningioma\\r\\n511,C:/Savinu/Hands On Machine Learning Book/meningioma\\\\Te-me_0211.jpg,meningioma\\r\\n512,C:/Savinu/Hands On Machine Learning Book/meningioma\\\\Te-me_0212.jpg,meningioma\\r\\n513,C:/Savinu/Hands On Machine Learning Book/meningioma\\\\Te-me_0213.jpg,meningioma\\r\\n514,C:/Savinu/Hands On Machine Learning Book/meningioma\\\\Te-me_0214.jpg,meningioma\\r\\n515,C:/Savinu/Hands On Machine Learning Book/meningioma\\\\Te-me_0215.jpg,meningioma\\r\\n516,C:/Savinu/Hands On Machine Learning Book/meningioma\\\\Te-me_0216.jpg,meningioma\\r\\n517,C:/Savinu/Hands On Machine Learning Book/meningioma\\\\Te-me_0217.jpg,meningioma\\r\\n518,C:/Savinu/Hands On Machine Learning Book/meningioma\\\\Te-me_0218.jpg,meningioma\\r\\n519,C:/Savinu/Hands On Machine Learning Book/meningioma\\\\Te-me_0219.jpg,meningioma\\r\\n520,C:/Savinu/Hands On Machine Learning Book/meningioma\\\\Te-me_0220.jpg,meningioma\\r\\n521,C:/Savinu/Hands On Machine Learning Book/meningioma\\\\Te-me_0221.jpg,meningioma\\r\\n522,C:/Savinu/Hands On Machine Learning Book/meningioma\\\\Te-me_0222.jpg,meningioma\\r\\n523,C:/Savinu/Hands On Machine Learning Book/meningioma\\\\Te-me_0223.jpg,meningioma\\r\\n524,C:/Savinu/Hands On Machine Learning Book/meningioma\\\\Te-me_0224.jpg,meningioma\\r\\n525,C:/Savinu/Hands On Machine Learning Book/meningioma\\\\Te-me_0225.jpg,meningioma\\r\\n526,C:/Savinu/Hands On Machine Learning Book/meningioma\\\\Te-me_0226.jpg,meningioma\\r\\n527,C:/Savinu/Hands On Machine Learning Book/meningioma\\\\Te-me_0227.jpg,meningioma\\r\\n528,C:/Savinu/Hands On Machine Learning Book/meningioma\\\\Te-me_0228.jpg,meningioma\\r\\n529,C:/Savinu/Hands On Machine Learning Book/meningioma\\\\Te-me_0229.jpg,meningioma\\r\\n530,C:/Savinu/Hands On Machine Learning Book/meningioma\\\\Te-me_0230.jpg,meningioma\\r\\n531,C:/Savinu/Hands On Machine Learning Book/meningioma\\\\Te-me_0231.jpg,meningioma\\r\\n532,C:/Savinu/Hands On Machine Learning Book/meningioma\\\\Te-me_0232.jpg,meningioma\\r\\n533,C:/Savinu/Hands On Machine Learning Book/meningioma\\\\Te-me_0233.jpg,meningioma\\r\\n534,C:/Savinu/Hands On Machine Learning Book/meningioma\\\\Te-me_0234.jpg,meningioma\\r\\n535,C:/Savinu/Hands On Machine Learning Book/meningioma\\\\Te-me_0235.jpg,meningioma\\r\\n536,C:/Savinu/Hands On Machine Learning Book/meningioma\\\\Te-me_0236.jpg,meningioma\\r\\n537,C:/Savinu/Hands On Machine Learning Book/meningioma\\\\Te-me_0237.jpg,meningioma\\r\\n538,C:/Savinu/Hands On Machine Learning Book/meningioma\\\\Te-me_0238.jpg,meningioma\\r\\n539,C:/Savinu/Hands On Machine Learning Book/meningioma\\\\Te-me_0239.jpg,meningioma\\r\\n540,C:/Savinu/Hands On Machine Learning Book/meningioma\\\\Te-me_0240.jpg,meningioma\\r\\n541,C:/Savinu/Hands On Machine Learning Book/meningioma\\\\Te-me_0241.jpg,meningioma\\r\\n542,C:/Savinu/Hands On Machine Learning Book/meningioma\\\\Te-me_0242.jpg,meningioma\\r\\n543,C:/Savinu/Hands On Machine Learning Book/meningioma\\\\Te-me_0243.jpg,meningioma\\r\\n544,C:/Savinu/Hands On Machine Learning Book/meningioma\\\\Te-me_0244.jpg,meningioma\\r\\n545,C:/Savinu/Hands On Machine Learning Book/meningioma\\\\Te-me_0245.jpg,meningioma\\r\\n546,C:/Savinu/Hands On Machine Learning Book/meningioma\\\\Te-me_0246.jpg,meningioma\\r\\n547,C:/Savinu/Hands On Machine Learning Book/meningioma\\\\Te-me_0247.jpg,meningioma\\r\\n548,C:/Savinu/Hands On Machine Learning Book/meningioma\\\\Te-me_0248.jpg,meningioma\\r\\n549,C:/Savinu/Hands On Machine Learning Book/meningioma\\\\Te-me_0249.jpg,meningioma\\r\\n550,C:/Savinu/Hands On Machine Learning Book/meningioma\\\\Te-me_0250.jpg,meningioma\\r\\n551,C:/Savinu/Hands On Machine Learning Book/meningioma\\\\Te-me_0251.jpg,meningioma\\r\\n552,C:/Savinu/Hands On Machine Learning Book/meningioma\\\\Te-me_0252.jpg,meningioma\\r\\n553,C:/Savinu/Hands On Machine Learning Book/meningioma\\\\Te-me_0253.jpg,meningioma\\r\\n554,C:/Savinu/Hands On Machine Learning Book/meningioma\\\\Te-me_0254.jpg,meningioma\\r\\n555,C:/Savinu/Hands On Machine Learning Book/meningioma\\\\Te-me_0255.jpg,meningioma\\r\\n556,C:/Savinu/Hands On Machine Learning Book/meningioma\\\\Te-me_0256.jpg,meningioma\\r\\n557,C:/Savinu/Hands On Machine Learning Book/meningioma\\\\Te-me_0257.jpg,meningioma\\r\\n558,C:/Savinu/Hands On Machine Learning Book/meningioma\\\\Te-me_0258.jpg,meningioma\\r\\n559,C:/Savinu/Hands On Machine Learning Book/meningioma\\\\Te-me_0259.jpg,meningioma\\r\\n560,C:/Savinu/Hands On Machine Learning Book/meningioma\\\\Te-me_0260.jpg,meningioma\\r\\n561,C:/Savinu/Hands On Machine Learning Book/meningioma\\\\Te-me_0261.jpg,meningioma\\r\\n562,C:/Savinu/Hands On Machine Learning Book/meningioma\\\\Te-me_0262.jpg,meningioma\\r\\n563,C:/Savinu/Hands On Machine Learning Book/meningioma\\\\Te-me_0263.jpg,meningioma\\r\\n564,C:/Savinu/Hands On Machine Learning Book/meningioma\\\\Te-me_0264.jpg,meningioma\\r\\n565,C:/Savinu/Hands On Machine Learning Book/meningioma\\\\Te-me_0265.jpg,meningioma\\r\\n566,C:/Savinu/Hands On Machine Learning Book/meningioma\\\\Te-me_0266.jpg,meningioma\\r\\n567,C:/Savinu/Hands On Machine Learning Book/meningioma\\\\Te-me_0267.jpg,meningioma\\r\\n568,C:/Savinu/Hands On Machine Learning Book/meningioma\\\\Te-me_0268.jpg,meningioma\\r\\n569,C:/Savinu/Hands On Machine Learning Book/meningioma\\\\Te-me_0269.jpg,meningioma\\r\\n570,C:/Savinu/Hands On Machine Learning Book/meningioma\\\\Te-me_0270.jpg,meningioma\\r\\n571,C:/Savinu/Hands On Machine Learning Book/meningioma\\\\Te-me_0271.jpg,meningioma\\r\\n572,C:/Savinu/Hands On Machine Learning Book/meningioma\\\\Te-me_0272.jpg,meningioma\\r\\n573,C:/Savinu/Hands On Machine Learning Book/meningioma\\\\Te-me_0273.jpg,meningioma\\r\\n574,C:/Savinu/Hands On Machine Learning Book/meningioma\\\\Te-me_0274.jpg,meningioma\\r\\n575,C:/Savinu/Hands On Machine Learning Book/meningioma\\\\Te-me_0275.jpg,meningioma\\r\\n576,C:/Savinu/Hands On Machine Learning Book/meningioma\\\\Te-me_0276.jpg,meningioma\\r\\n577,C:/Savinu/Hands On Machine Learning Book/meningioma\\\\Te-me_0277.jpg,meningioma\\r\\n578,C:/Savinu/Hands On Machine Learning Book/meningioma\\\\Te-me_0278.jpg,meningioma\\r\\n579,C:/Savinu/Hands On Machine Learning Book/meningioma\\\\Te-me_0279.jpg,meningioma\\r\\n580,C:/Savinu/Hands On Machine Learning Book/meningioma\\\\Te-me_0280.jpg,meningioma\\r\\n581,C:/Savinu/Hands On Machine Learning Book/meningioma\\\\Te-me_0281.jpg,meningioma\\r\\n582,C:/Savinu/Hands On Machine Learning Book/meningioma\\\\Te-me_0282.jpg,meningioma\\r\\n583,C:/Savinu/Hands On Machine Learning Book/meningioma\\\\Te-me_0283.jpg,meningioma\\r\\n584,C:/Savinu/Hands On Machine Learning Book/meningioma\\\\Te-me_0284.jpg,meningioma\\r\\n585,C:/Savinu/Hands On Machine Learning Book/meningioma\\\\Te-me_0285.jpg,meningioma\\r\\n586,C:/Savinu/Hands On Machine Learning Book/meningioma\\\\Te-me_0286.jpg,meningioma\\r\\n587,C:/Savinu/Hands On Machine Learning Book/meningioma\\\\Te-me_0287.jpg,meningioma\\r\\n588,C:/Savinu/Hands On Machine Learning Book/meningioma\\\\Te-me_0288.jpg,meningioma\\r\\n589,C:/Savinu/Hands On Machine Learning Book/meningioma\\\\Te-me_0289.jpg,meningioma\\r\\n590,C:/Savinu/Hands On Machine Learning Book/meningioma\\\\Te-me_0290.jpg,meningioma\\r\\n591,C:/Savinu/Hands On Machine Learning Book/meningioma\\\\Te-me_0291.jpg,meningioma\\r\\n592,C:/Savinu/Hands On Machine Learning Book/meningioma\\\\Te-me_0292.jpg,meningioma\\r\\n593,C:/Savinu/Hands On Machine Learning Book/meningioma\\\\Te-me_0293.jpg,meningioma\\r\\n594,C:/Savinu/Hands On Machine Learning Book/meningioma\\\\Te-me_0294.jpg,meningioma\\r\\n595,C:/Savinu/Hands On Machine Learning Book/meningioma\\\\Te-me_0295.jpg,meningioma\\r\\n596,C:/Savinu/Hands On Machine Learning Book/meningioma\\\\Te-me_0296.jpg,meningioma\\r\\n597,C:/Savinu/Hands On Machine Learning Book/meningioma\\\\Te-me_0297.jpg,meningioma\\r\\n598,C:/Savinu/Hands On Machine Learning Book/meningioma\\\\Te-me_0298.jpg,meningioma\\r\\n599,C:/Savinu/Hands On Machine Learning Book/meningioma\\\\Te-me_0299.jpg,meningioma\\r\\n600,C:/Savinu/Hands On Machine Learning Book/meningioma\\\\Te-me_0300.jpg,meningioma\\r\\n601,C:/Savinu/Hands On Machine Learning Book/meningioma\\\\Te-me_0301.jpg,meningioma\\r\\n602,C:/Savinu/Hands On Machine Learning Book/meningioma\\\\Te-me_0302.jpg,meningioma\\r\\n603,C:/Savinu/Hands On Machine Learning Book/meningioma\\\\Te-me_0303.jpg,meningioma\\r\\n604,C:/Savinu/Hands On Machine Learning Book/meningioma\\\\Te-me_0304.jpg,meningioma\\r\\n605,C:/Savinu/Hands On Machine Learning Book/meningioma\\\\Te-me_0305.jpg,meningioma\\r\\n606,C:/Savinu/Hands On Machine Learning Book/pituitary\\\\Te-piTr_0000.jpg,pituitary\\r\\n607,C:/Savinu/Hands On Machine Learning Book/pituitary\\\\Te-piTr_0001.jpg,pituitary\\r\\n608,C:/Savinu/Hands On Machine Learning Book/pituitary\\\\Te-piTr_0002.jpg,pituitary\\r\\n609,C:/Savinu/Hands On Machine Learning Book/pituitary\\\\Te-piTr_0003.jpg,pituitary\\r\\n610,C:/Savinu/Hands On Machine Learning Book/pituitary\\\\Te-piTr_0004.jpg,pituitary\\r\\n611,C:/Savinu/Hands On Machine Learning Book/pituitary\\\\Te-piTr_0005.jpg,pituitary\\r\\n612,C:/Savinu/Hands On Machine Learning Book/pituitary\\\\Te-piTr_0006.jpg,pituitary\\r\\n613,C:/Savinu/Hands On Machine Learning Book/pituitary\\\\Te-piTr_0007.jpg,pituitary\\r\\n614,C:/Savinu/Hands On Machine Learning Book/pituitary\\\\Te-piTr_0008.jpg,pituitary\\r\\n615,C:/Savinu/Hands On Machine Learning Book/pituitary\\\\Te-piTr_0009.jpg,pituitary\\r\\n616,C:/Savinu/Hands On Machine Learning Book/pituitary\\\\Te-pi_0010.jpg,pituitary\\r\\n617,C:/Savinu/Hands On Machine Learning Book/pituitary\\\\Te-pi_0011.jpg,pituitary\\r\\n618,C:/Savinu/Hands On Machine Learning Book/pituitary\\\\Te-pi_0012.jpg,pituitary\\r\\n619,C:/Savinu/Hands On Machine Learning Book/pituitary\\\\Te-pi_0013.jpg,pituitary\\r\\n620,C:/Savinu/Hands On Machine Learning Book/pituitary\\\\Te-pi_0014.jpg,pituitary\\r\\n621,C:/Savinu/Hands On Machine Learning Book/pituitary\\\\Te-pi_0015.jpg,pituitary\\r\\n622,C:/Savinu/Hands On Machine Learning Book/pituitary\\\\Te-pi_0016.jpg,pituitary\\r\\n623,C:/Savinu/Hands On Machine Learning Book/pituitary\\\\Te-pi_0017.jpg,pituitary\\r\\n624,C:/Savinu/Hands On Machine Learning Book/pituitary\\\\Te-pi_0018.jpg,pituitary\\r\\n625,C:/Savinu/Hands On Machine Learning Book/pituitary\\\\Te-pi_0019.jpg,pituitary\\r\\n626,C:/Savinu/Hands On Machine Learning Book/pituitary\\\\Te-pi_0020.jpg,pituitary\\r\\n627,C:/Savinu/Hands On Machine Learning Book/pituitary\\\\Te-pi_0021.jpg,pituitary\\r\\n628,C:/Savinu/Hands On Machine Learning Book/pituitary\\\\Te-pi_0022.jpg,pituitary\\r\\n629,C:/Savinu/Hands On Machine Learning Book/pituitary\\\\Te-pi_0023.jpg,pituitary\\r\\n630,C:/Savinu/Hands On Machine Learning Book/pituitary\\\\Te-pi_0024.jpg,pituitary\\r\\n631,C:/Savinu/Hands On Machine Learning Book/pituitary\\\\Te-pi_0025.jpg,pituitary\\r\\n632,C:/Savinu/Hands On Machine Learning Book/pituitary\\\\Te-pi_0026.jpg,pituitary\\r\\n633,C:/Savinu/Hands On Machine Learning Book/pituitary\\\\Te-pi_0027.jpg,pituitary\\r\\n634,C:/Savinu/Hands On Machine Learning Book/pituitary\\\\Te-pi_0028.jpg,pituitary\\r\\n635,C:/Savinu/Hands On Machine Learning Book/pituitary\\\\Te-pi_0029.jpg,pituitary\\r\\n636,C:/Savinu/Hands On Machine Learning Book/pituitary\\\\Te-pi_0030.jpg,pituitary\\r\\n637,C:/Savinu/Hands On Machine Learning Book/pituitary\\\\Te-pi_0031.jpg,pituitary\\r\\n638,C:/Savinu/Hands On Machine Learning Book/pituitary\\\\Te-pi_0032.jpg,pituitary\\r\\n639,C:/Savinu/Hands On Machine Learning Book/pituitary\\\\Te-pi_0033.jpg,pituitary\\r\\n640,C:/Savinu/Hands On Machine Learning Book/pituitary\\\\Te-pi_0034.jpg,pituitary\\r\\n641,C:/Savinu/Hands On Machine Learning Book/pituitary\\\\Te-pi_0035.jpg,pituitary\\r\\n642,C:/Savinu/Hands On Machine Learning Book/pituitary\\\\Te-pi_0036.jpg,pituitary\\r\\n643,C:/Savinu/Hands On Machine Learning Book/pituitary\\\\Te-pi_0037.jpg,pituitary\\r\\n644,C:/Savinu/Hands On Machine Learning Book/pituitary\\\\Te-pi_0038.jpg,pituitary\\r\\n645,C:/Savinu/Hands On Machine Learning Book/pituitary\\\\Te-pi_0039.jpg,pituitary\\r\\n646,C:/Savinu/Hands On Machine Learning Book/pituitary\\\\Te-pi_0040.jpg,pituitary\\r\\n647,C:/Savinu/Hands On Machine Learning Book/pituitary\\\\Te-pi_0041.jpg,pituitary\\r\\n648,C:/Savinu/Hands On Machine Learning Book/pituitary\\\\Te-pi_0042.jpg,pituitary\\r\\n649,C:/Savinu/Hands On Machine Learning Book/pituitary\\\\Te-pi_0043.jpg,pituitary\\r\\n650,C:/Savinu/Hands On Machine Learning Book/pituitary\\\\Te-pi_0044.jpg,pituitary\\r\\n651,C:/Savinu/Hands On Machine Learning Book/pituitary\\\\Te-pi_0045.jpg,pituitary\\r\\n652,C:/Savinu/Hands On Machine Learning Book/pituitary\\\\Te-pi_0046.jpg,pituitary\\r\\n653,C:/Savinu/Hands On Machine Learning Book/pituitary\\\\Te-pi_0047.jpg,pituitary\\r\\n654,C:/Savinu/Hands On Machine Learning Book/pituitary\\\\Te-pi_0048.jpg,pituitary\\r\\n655,C:/Savinu/Hands On Machine Learning Book/pituitary\\\\Te-pi_0049.jpg,pituitary\\r\\n656,C:/Savinu/Hands On Machine Learning Book/pituitary\\\\Te-pi_0050.jpg,pituitary\\r\\n657,C:/Savinu/Hands On Machine Learning Book/pituitary\\\\Te-pi_0051.jpg,pituitary\\r\\n658,C:/Savinu/Hands On Machine Learning Book/pituitary\\\\Te-pi_0052.jpg,pituitary\\r\\n659,C:/Savinu/Hands On Machine Learning Book/pituitary\\\\Te-pi_0053.jpg,pituitary\\r\\n660,C:/Savinu/Hands On Machine Learning Book/pituitary\\\\Te-pi_0054.jpg,pituitary\\r\\n661,C:/Savinu/Hands On Machine Learning Book/pituitary\\\\Te-pi_0055.jpg,pituitary\\r\\n662,C:/Savinu/Hands On Machine Learning Book/pituitary\\\\Te-pi_0056.jpg,pituitary\\r\\n663,C:/Savinu/Hands On Machine Learning Book/pituitary\\\\Te-pi_0057.jpg,pituitary\\r\\n664,C:/Savinu/Hands On Machine Learning Book/pituitary\\\\Te-pi_0058.jpg,pituitary\\r\\n665,C:/Savinu/Hands On Machine Learning Book/pituitary\\\\Te-pi_0059.jpg,pituitary\\r\\n666,C:/Savinu/Hands On Machine Learning Book/pituitary\\\\Te-pi_0060.jpg,pituitary\\r\\n667,C:/Savinu/Hands On Machine Learning Book/pituitary\\\\Te-pi_0061.jpg,pituitary\\r\\n668,C:/Savinu/Hands On Machine Learning Book/pituitary\\\\Te-pi_0062.jpg,pituitary\\r\\n669,C:/Savinu/Hands On Machine Learning Book/pituitary\\\\Te-pi_0063.jpg,pituitary\\r\\n670,C:/Savinu/Hands On Machine Learning Book/pituitary\\\\Te-pi_0064.jpg,pituitary\\r\\n671,C:/Savinu/Hands On Machine Learning Book/pituitary\\\\Te-pi_0065.jpg,pituitary\\r\\n672,C:/Savinu/Hands On Machine Learning Book/pituitary\\\\Te-pi_0066.jpg,pituitary\\r\\n673,C:/Savinu/Hands On Machine Learning Book/pituitary\\\\Te-pi_0067.jpg,pituitary\\r\\n674,C:/Savinu/Hands On Machine Learning Book/pituitary\\\\Te-pi_0068.jpg,pituitary\\r\\n675,C:/Savinu/Hands On Machine Learning Book/pituitary\\\\Te-pi_0069.jpg,pituitary\\r\\n676,C:/Savinu/Hands On Machine Learning Book/pituitary\\\\Te-pi_0070.jpg,pituitary\\r\\n677,C:/Savinu/Hands On Machine Learning Book/pituitary\\\\Te-pi_0071.jpg,pituitary\\r\\n678,C:/Savinu/Hands On Machine Learning Book/pituitary\\\\Te-pi_0072.jpg,pituitary\\r\\n679,C:/Savinu/Hands On Machine Learning Book/pituitary\\\\Te-pi_0073.jpg,pituitary\\r\\n680,C:/Savinu/Hands On Machine Learning Book/pituitary\\\\Te-pi_0074.jpg,pituitary\\r\\n681,C:/Savinu/Hands On Machine Learning Book/pituitary\\\\Te-pi_0075.jpg,pituitary\\r\\n682,C:/Savinu/Hands On Machine Learning Book/pituitary\\\\Te-pi_0076.jpg,pituitary\\r\\n683,C:/Savinu/Hands On Machine Learning Book/pituitary\\\\Te-pi_0077.jpg,pituitary\\r\\n684,C:/Savinu/Hands On Machine Learning Book/pituitary\\\\Te-pi_0078.jpg,pituitary\\r\\n685,C:/Savinu/Hands On Machine Learning Book/pituitary\\\\Te-pi_0079.jpg,pituitary\\r\\n686,C:/Savinu/Hands On Machine Learning Book/pituitary\\\\Te-pi_0080.jpg,pituitary\\r\\n687,C:/Savinu/Hands On Machine Learning Book/pituitary\\\\Te-pi_0081.jpg,pituitary\\r\\n688,C:/Savinu/Hands On Machine Learning Book/pituitary\\\\Te-pi_0082.jpg,pituitary\\r\\n689,C:/Savinu/Hands On Machine Learning Book/pituitary\\\\Te-pi_0083.jpg,pituitary\\r\\n690,C:/Savinu/Hands On Machine Learning Book/pituitary\\\\Te-pi_0084.jpg,pituitary\\r\\n691,C:/Savinu/Hands On Machine Learning Book/pituitary\\\\Te-pi_0085.jpg,pituitary\\r\\n692,C:/Savinu/Hands On Machine Learning Book/pituitary\\\\Te-pi_0086.jpg,pituitary\\r\\n693,C:/Savinu/Hands On Machine Learning Book/pituitary\\\\Te-pi_0087.jpg,pituitary\\r\\n694,C:/Savinu/Hands On Machine Learning Book/pituitary\\\\Te-pi_0088.jpg,pituitary\\r\\n695,C:/Savinu/Hands On Machine Learning Book/pituitary\\\\Te-pi_0089.jpg,pituitary\\r\\n696,C:/Savinu/Hands On Machine Learning Book/pituitary\\\\Te-pi_0090.jpg,pituitary\\r\\n697,C:/Savinu/Hands On Machine Learning Book/pituitary\\\\Te-pi_0091.jpg,pituitary\\r\\n698,C:/Savinu/Hands On Machine Learning Book/pituitary\\\\Te-pi_0092.jpg,pituitary\\r\\n699,C:/Savinu/Hands On Machine Learning Book/pituitary\\\\Te-pi_0093.jpg,pituitary\\r\\n700,C:/Savinu/Hands On Machine Learning Book/pituitary\\\\Te-pi_0094.jpg,pituitary\\r\\n701,C:/Savinu/Hands On Machine Learning Book/pituitary\\\\Te-pi_0095.jpg,pituitary\\r\\n702,C:/Savinu/Hands On Machine Learning Book/pituitary\\\\Te-pi_0096.jpg,pituitary\\r\\n703,C:/Savinu/Hands On Machine Learning Book/pituitary\\\\Te-pi_0097.jpg,pituitary\\r\\n704,C:/Savinu/Hands On Machine Learning Book/pituitary\\\\Te-pi_0098.jpg,pituitary\\r\\n705,C:/Savinu/Hands On Machine Learning Book/pituitary\\\\Te-pi_0099.jpg,pituitary\\r\\n706,C:/Savinu/Hands On Machine Learning Book/pituitary\\\\Te-pi_0100.jpg,pituitary\\r\\n707,C:/Savinu/Hands On Machine Learning Book/pituitary\\\\Te-pi_0101.jpg,pituitary\\r\\n708,C:/Savinu/Hands On Machine Learning Book/pituitary\\\\Te-pi_0102.jpg,pituitary\\r\\n709,C:/Savinu/Hands On Machine Learning Book/pituitary\\\\Te-pi_0103.jpg,pituitary\\r\\n710,C:/Savinu/Hands On Machine Learning Book/pituitary\\\\Te-pi_0104.jpg,pituitary\\r\\n711,C:/Savinu/Hands On Machine Learning Book/pituitary\\\\Te-pi_0105.jpg,pituitary\\r\\n712,C:/Savinu/Hands On Machine Learning Book/pituitary\\\\Te-pi_0106.jpg,pituitary\\r\\n713,C:/Savinu/Hands On Machine Learning Book/pituitary\\\\Te-pi_0107.jpg,pituitary\\r\\n714,C:/Savinu/Hands On Machine Learning Book/pituitary\\\\Te-pi_0108.jpg,pituitary\\r\\n715,C:/Savinu/Hands On Machine Learning Book/pituitary\\\\Te-pi_0109.jpg,pituitary\\r\\n716,C:/Savinu/Hands On Machine Learning Book/pituitary\\\\Te-pi_0110.jpg,pituitary\\r\\n717,C:/Savinu/Hands On Machine Learning Book/pituitary\\\\Te-pi_0111.jpg,pituitary\\r\\n718,C:/Savinu/Hands On Machine Learning Book/pituitary\\\\Te-pi_0112.jpg,pituitary\\r\\n719,C:/Savinu/Hands On Machine Learning Book/pituitary\\\\Te-pi_0113.jpg,pituitary\\r\\n720,C:/Savinu/Hands On Machine Learning Book/pituitary\\\\Te-pi_0114.jpg,pituitary\\r\\n721,C:/Savinu/Hands On Machine Learning Book/pituitary\\\\Te-pi_0115.jpg,pituitary\\r\\n722,C:/Savinu/Hands On Machine Learning Book/pituitary\\\\Te-pi_0116.jpg,pituitary\\r\\n723,C:/Savinu/Hands On Machine Learning Book/pituitary\\\\Te-pi_0117.jpg,pituitary\\r\\n724,C:/Savinu/Hands On Machine Learning Book/pituitary\\\\Te-pi_0118.jpg,pituitary\\r\\n725,C:/Savinu/Hands On Machine Learning Book/pituitary\\\\Te-pi_0119.jpg,pituitary\\r\\n726,C:/Savinu/Hands On Machine Learning Book/pituitary\\\\Te-pi_0120.jpg,pituitary\\r\\n727,C:/Savinu/Hands On Machine Learning Book/pituitary\\\\Te-pi_0121.jpg,pituitary\\r\\n728,C:/Savinu/Hands On Machine Learning Book/pituitary\\\\Te-pi_0122.jpg,pituitary\\r\\n729,C:/Savinu/Hands On Machine Learning Book/pituitary\\\\Te-pi_0123.jpg,pituitary\\r\\n730,C:/Savinu/Hands On Machine Learning Book/pituitary\\\\Te-pi_0124.jpg,pituitary\\r\\n731,C:/Savinu/Hands On Machine Learning Book/pituitary\\\\Te-pi_0125.jpg,pituitary\\r\\n732,C:/Savinu/Hands On Machine Learning Book/pituitary\\\\Te-pi_0126.jpg,pituitary\\r\\n733,C:/Savinu/Hands On Machine Learning Book/pituitary\\\\Te-pi_0127.jpg,pituitary\\r\\n734,C:/Savinu/Hands On Machine Learning Book/pituitary\\\\Te-pi_0128.jpg,pituitary\\r\\n735,C:/Savinu/Hands On Machine Learning Book/pituitary\\\\Te-pi_0129.jpg,pituitary\\r\\n736,C:/Savinu/Hands On Machine Learning Book/pituitary\\\\Te-pi_0130.jpg,pituitary\\r\\n737,C:/Savinu/Hands On Machine Learning Book/pituitary\\\\Te-pi_0131.jpg,pituitary\\r\\n738,C:/Savinu/Hands On Machine Learning Book/pituitary\\\\Te-pi_0132.jpg,pituitary\\r\\n739,C:/Savinu/Hands On Machine Learning Book/pituitary\\\\Te-pi_0133.jpg,pituitary\\r\\n740,C:/Savinu/Hands On Machine Learning Book/pituitary\\\\Te-pi_0134.jpg,pituitary\\r\\n741,C:/Savinu/Hands On Machine Learning Book/pituitary\\\\Te-pi_0135.jpg,pituitary\\r\\n742,C:/Savinu/Hands On Machine Learning Book/pituitary\\\\Te-pi_0136.jpg,pituitary\\r\\n743,C:/Savinu/Hands On Machine Learning Book/pituitary\\\\Te-pi_0137.jpg,pituitary\\r\\n744,C:/Savinu/Hands On Machine Learning Book/pituitary\\\\Te-pi_0138.jpg,pituitary\\r\\n745,C:/Savinu/Hands On Machine Learning Book/pituitary\\\\Te-pi_0139.jpg,pituitary\\r\\n746,C:/Savinu/Hands On Machine Learning Book/pituitary\\\\Te-pi_0140.jpg,pituitary\\r\\n747,C:/Savinu/Hands On Machine Learning Book/pituitary\\\\Te-pi_0141.jpg,pituitary\\r\\n748,C:/Savinu/Hands On Machine Learning Book/pituitary\\\\Te-pi_0142.jpg,pituitary\\r\\n749,C:/Savinu/Hands On Machine Learning Book/pituitary\\\\Te-pi_0143.jpg,pituitary\\r\\n750,C:/Savinu/Hands On Machine Learning Book/pituitary\\\\Te-pi_0144.jpg,pituitary\\r\\n751,C:/Savinu/Hands On Machine Learning Book/pituitary\\\\Te-pi_0145.jpg,pituitary\\r\\n752,C:/Savinu/Hands On Machine Learning Book/pituitary\\\\Te-pi_0146.jpg,pituitary\\r\\n753,C:/Savinu/Hands On Machine Learning Book/pituitary\\\\Te-pi_0147.jpg,pituitary\\r\\n754,C:/Savinu/Hands On Machine Learning Book/pituitary\\\\Te-pi_0148.jpg,pituitary\\r\\n755,C:/Savinu/Hands On Machine Learning Book/pituitary\\\\Te-pi_0149.jpg,pituitary\\r\\n756,C:/Savinu/Hands On Machine Learning Book/pituitary\\\\Te-pi_0150.jpg,pituitary\\r\\n757,C:/Savinu/Hands On Machine Learning Book/pituitary\\\\Te-pi_0151.jpg,pituitary\\r\\n758,C:/Savinu/Hands On Machine Learning Book/pituitary\\\\Te-pi_0152.jpg,pituitary\\r\\n759,C:/Savinu/Hands On Machine Learning Book/pituitary\\\\Te-pi_0153.jpg,pituitary\\r\\n760,C:/Savinu/Hands On Machine Learning Book/pituitary\\\\Te-pi_0154.jpg,pituitary\\r\\n761,C:/Savinu/Hands On Machine Learning Book/pituitary\\\\Te-pi_0155.jpg,pituitary\\r\\n762,C:/Savinu/Hands On Machine Learning Book/pituitary\\\\Te-pi_0156.jpg,pituitary\\r\\n763,C:/Savinu/Hands On Machine Learning Book/pituitary\\\\Te-pi_0157.jpg,pituitary\\r\\n764,C:/Savinu/Hands On Machine Learning Book/pituitary\\\\Te-pi_0158.jpg,pituitary\\r\\n765,C:/Savinu/Hands On Machine Learning Book/pituitary\\\\Te-pi_0159.jpg,pituitary\\r\\n766,C:/Savinu/Hands On Machine Learning Book/pituitary\\\\Te-pi_0160.jpg,pituitary\\r\\n767,C:/Savinu/Hands On Machine Learning Book/pituitary\\\\Te-pi_0161.jpg,pituitary\\r\\n768,C:/Savinu/Hands On Machine Learning Book/pituitary\\\\Te-pi_0162.jpg,pituitary\\r\\n769,C:/Savinu/Hands On Machine Learning Book/pituitary\\\\Te-pi_0163.jpg,pituitary\\r\\n770,C:/Savinu/Hands On Machine Learning Book/pituitary\\\\Te-pi_0164.jpg,pituitary\\r\\n771,C:/Savinu/Hands On Machine Learning Book/pituitary\\\\Te-pi_0165.jpg,pituitary\\r\\n772,C:/Savinu/Hands On Machine Learning Book/pituitary\\\\Te-pi_0166.jpg,pituitary\\r\\n773,C:/Savinu/Hands On Machine Learning Book/pituitary\\\\Te-pi_0167.jpg,pituitary\\r\\n774,C:/Savinu/Hands On Machine Learning Book/pituitary\\\\Te-pi_0168.jpg,pituitary\\r\\n775,C:/Savinu/Hands On Machine Learning Book/pituitary\\\\Te-pi_0169.jpg,pituitary\\r\\n776,C:/Savinu/Hands On Machine Learning Book/pituitary\\\\Te-pi_0170.jpg,pituitary\\r\\n777,C:/Savinu/Hands On Machine Learning Book/pituitary\\\\Te-pi_0171.jpg,pituitary\\r\\n778,C:/Savinu/Hands On Machine Learning Book/pituitary\\\\Te-pi_0172.jpg,pituitary\\r\\n779,C:/Savinu/Hands On Machine Learning Book/pituitary\\\\Te-pi_0173.jpg,pituitary\\r\\n780,C:/Savinu/Hands On Machine Learning Book/pituitary\\\\Te-pi_0174.jpg,pituitary\\r\\n781,C:/Savinu/Hands On Machine Learning Book/pituitary\\\\Te-pi_0175.jpg,pituitary\\r\\n782,C:/Savinu/Hands On Machine Learning Book/pituitary\\\\Te-pi_0176.jpg,pituitary\\r\\n783,C:/Savinu/Hands On Machine Learning Book/pituitary\\\\Te-pi_0177.jpg,pituitary\\r\\n784,C:/Savinu/Hands On Machine Learning Book/pituitary\\\\Te-pi_0178.jpg,pituitary\\r\\n785,C:/Savinu/Hands On Machine Learning Book/pituitary\\\\Te-pi_0179.jpg,pituitary\\r\\n786,C:/Savinu/Hands On Machine Learning Book/pituitary\\\\Te-pi_0180.jpg,pituitary\\r\\n787,C:/Savinu/Hands On Machine Learning Book/pituitary\\\\Te-pi_0181.jpg,pituitary\\r\\n788,C:/Savinu/Hands On Machine Learning Book/pituitary\\\\Te-pi_0182.jpg,pituitary\\r\\n789,C:/Savinu/Hands On Machine Learning Book/pituitary\\\\Te-pi_0183.jpg,pituitary\\r\\n790,C:/Savinu/Hands On Machine Learning Book/pituitary\\\\Te-pi_0184.jpg,pituitary\\r\\n791,C:/Savinu/Hands On Machine Learning Book/pituitary\\\\Te-pi_0185.jpg,pituitary\\r\\n792,C:/Savinu/Hands On Machine Learning Book/pituitary\\\\Te-pi_0186.jpg,pituitary\\r\\n793,C:/Savinu/Hands On Machine Learning Book/pituitary\\\\Te-pi_0187.jpg,pituitary\\r\\n794,C:/Savinu/Hands On Machine Learning Book/pituitary\\\\Te-pi_0188.jpg,pituitary\\r\\n795,C:/Savinu/Hands On Machine Learning Book/pituitary\\\\Te-pi_0189.jpg,pituitary\\r\\n796,C:/Savinu/Hands On Machine Learning Book/pituitary\\\\Te-pi_0190.jpg,pituitary\\r\\n797,C:/Savinu/Hands On Machine Learning Book/pituitary\\\\Te-pi_0191.jpg,pituitary\\r\\n798,C:/Savinu/Hands On Machine Learning Book/pituitary\\\\Te-pi_0192.jpg,pituitary\\r\\n799,C:/Savinu/Hands On Machine Learning Book/pituitary\\\\Te-pi_0193.jpg,pituitary\\r\\n800,C:/Savinu/Hands On Machine Learning Book/pituitary\\\\Te-pi_0194.jpg,pituitary\\r\\n801,C:/Savinu/Hands On Machine Learning Book/pituitary\\\\Te-pi_0195.jpg,pituitary\\r\\n802,C:/Savinu/Hands On Machine Learning Book/pituitary\\\\Te-pi_0196.jpg,pituitary\\r\\n803,C:/Savinu/Hands On Machine Learning Book/pituitary\\\\Te-pi_0197.jpg,pituitary\\r\\n804,C:/Savinu/Hands On Machine Learning Book/pituitary\\\\Te-pi_0198.jpg,pituitary\\r\\n805,C:/Savinu/Hands On Machine Learning Book/pituitary\\\\Te-pi_0199.jpg,pituitary\\r\\n806,C:/Savinu/Hands On Machine Learning Book/pituitary\\\\Te-pi_0200.jpg,pituitary\\r\\n807,C:/Savinu/Hands On Machine Learning Book/pituitary\\\\Te-pi_0201.jpg,pituitary\\r\\n808,C:/Savinu/Hands On Machine Learning Book/pituitary\\\\Te-pi_0202.jpg,pituitary\\r\\n809,C:/Savinu/Hands On Machine Learning Book/pituitary\\\\Te-pi_0203.jpg,pituitary\\r\\n810,C:/Savinu/Hands On Machine Learning Book/pituitary\\\\Te-pi_0204.jpg,pituitary\\r\\n811,C:/Savinu/Hands On Machine Learning Book/pituitary\\\\Te-pi_0205.jpg,pituitary\\r\\n812,C:/Savinu/Hands On Machine Learning Book/pituitary\\\\Te-pi_0206.jpg,pituitary\\r\\n813,C:/Savinu/Hands On Machine Learning Book/pituitary\\\\Te-pi_0207.jpg,pituitary\\r\\n814,C:/Savinu/Hands On Machine Learning Book/pituitary\\\\Te-pi_0208.jpg,pituitary\\r\\n815,C:/Savinu/Hands On Machine Learning Book/pituitary\\\\Te-pi_0209.jpg,pituitary\\r\\n816,C:/Savinu/Hands On Machine Learning Book/pituitary\\\\Te-pi_0210.jpg,pituitary\\r\\n817,C:/Savinu/Hands On Machine Learning Book/pituitary\\\\Te-pi_0211.jpg,pituitary\\r\\n818,C:/Savinu/Hands On Machine Learning Book/pituitary\\\\Te-pi_0212.jpg,pituitary\\r\\n819,C:/Savinu/Hands On Machine Learning Book/pituitary\\\\Te-pi_0213.jpg,pituitary\\r\\n820,C:/Savinu/Hands On Machine Learning Book/pituitary\\\\Te-pi_0214.jpg,pituitary\\r\\n821,C:/Savinu/Hands On Machine Learning Book/pituitary\\\\Te-pi_0215.jpg,pituitary\\r\\n822,C:/Savinu/Hands On Machine Learning Book/pituitary\\\\Te-pi_0216.jpg,pituitary\\r\\n823,C:/Savinu/Hands On Machine Learning Book/pituitary\\\\Te-pi_0217.jpg,pituitary\\r\\n824,C:/Savinu/Hands On Machine Learning Book/pituitary\\\\Te-pi_0218.jpg,pituitary\\r\\n825,C:/Savinu/Hands On Machine Learning Book/pituitary\\\\Te-pi_0219.jpg,pituitary\\r\\n826,C:/Savinu/Hands On Machine Learning Book/pituitary\\\\Te-pi_0220.jpg,pituitary\\r\\n827,C:/Savinu/Hands On Machine Learning Book/pituitary\\\\Te-pi_0221.jpg,pituitary\\r\\n828,C:/Savinu/Hands On Machine Learning Book/pituitary\\\\Te-pi_0222.jpg,pituitary\\r\\n829,C:/Savinu/Hands On Machine Learning Book/pituitary\\\\Te-pi_0223.jpg,pituitary\\r\\n830,C:/Savinu/Hands On Machine Learning Book/pituitary\\\\Te-pi_0224.jpg,pituitary\\r\\n831,C:/Savinu/Hands On Machine Learning Book/pituitary\\\\Te-pi_0225.jpg,pituitary\\r\\n832,C:/Savinu/Hands On Machine Learning Book/pituitary\\\\Te-pi_0226.jpg,pituitary\\r\\n833,C:/Savinu/Hands On Machine Learning Book/pituitary\\\\Te-pi_0227.jpg,pituitary\\r\\n834,C:/Savinu/Hands On Machine Learning Book/pituitary\\\\Te-pi_0228.jpg,pituitary\\r\\n835,C:/Savinu/Hands On Machine Learning Book/pituitary\\\\Te-pi_0229.jpg,pituitary\\r\\n836,C:/Savinu/Hands On Machine Learning Book/pituitary\\\\Te-pi_0230.jpg,pituitary\\r\\n837,C:/Savinu/Hands On Machine Learning Book/pituitary\\\\Te-pi_0231.jpg,pituitary\\r\\n838,C:/Savinu/Hands On Machine Learning Book/pituitary\\\\Te-pi_0232.jpg,pituitary\\r\\n839,C:/Savinu/Hands On Machine Learning Book/pituitary\\\\Te-pi_0233.jpg,pituitary\\r\\n840,C:/Savinu/Hands On Machine Learning Book/pituitary\\\\Te-pi_0234.jpg,pituitary\\r\\n841,C:/Savinu/Hands On Machine Learning Book/pituitary\\\\Te-pi_0235.jpg,pituitary\\r\\n842,C:/Savinu/Hands On Machine Learning Book/pituitary\\\\Te-pi_0236.jpg,pituitary\\r\\n843,C:/Savinu/Hands On Machine Learning Book/pituitary\\\\Te-pi_0237.jpg,pituitary\\r\\n844,C:/Savinu/Hands On Machine Learning Book/pituitary\\\\Te-pi_0238.jpg,pituitary\\r\\n845,C:/Savinu/Hands On Machine Learning Book/pituitary\\\\Te-pi_0239.jpg,pituitary\\r\\n846,C:/Savinu/Hands On Machine Learning Book/pituitary\\\\Te-pi_0240.jpg,pituitary\\r\\n847,C:/Savinu/Hands On Machine Learning Book/pituitary\\\\Te-pi_0241.jpg,pituitary\\r\\n848,C:/Savinu/Hands On Machine Learning Book/pituitary\\\\Te-pi_0242.jpg,pituitary\\r\\n849,C:/Savinu/Hands On Machine Learning Book/pituitary\\\\Te-pi_0243.jpg,pituitary\\r\\n850,C:/Savinu/Hands On Machine Learning Book/pituitary\\\\Te-pi_0244.jpg,pituitary\\r\\n851,C:/Savinu/Hands On Machine Learning Book/pituitary\\\\Te-pi_0245.jpg,pituitary\\r\\n852,C:/Savinu/Hands On Machine Learning Book/pituitary\\\\Te-pi_0246.jpg,pituitary\\r\\n853,C:/Savinu/Hands On Machine Learning Book/pituitary\\\\Te-pi_0247.jpg,pituitary\\r\\n854,C:/Savinu/Hands On Machine Learning Book/pituitary\\\\Te-pi_0248.jpg,pituitary\\r\\n855,C:/Savinu/Hands On Machine Learning Book/pituitary\\\\Te-pi_0249.jpg,pituitary\\r\\n856,C:/Savinu/Hands On Machine Learning Book/pituitary\\\\Te-pi_0250.jpg,pituitary\\r\\n857,C:/Savinu/Hands On Machine Learning Book/pituitary\\\\Te-pi_0251.jpg,pituitary\\r\\n858,C:/Savinu/Hands On Machine Learning Book/pituitary\\\\Te-pi_0252.jpg,pituitary\\r\\n859,C:/Savinu/Hands On Machine Learning Book/pituitary\\\\Te-pi_0253.jpg,pituitary\\r\\n860,C:/Savinu/Hands On Machine Learning Book/pituitary\\\\Te-pi_0254.jpg,pituitary\\r\\n861,C:/Savinu/Hands On Machine Learning Book/pituitary\\\\Te-pi_0255.jpg,pituitary\\r\\n862,C:/Savinu/Hands On Machine Learning Book/pituitary\\\\Te-pi_0256.jpg,pituitary\\r\\n863,C:/Savinu/Hands On Machine Learning Book/pituitary\\\\Te-pi_0257.jpg,pituitary\\r\\n864,C:/Savinu/Hands On Machine Learning Book/pituitary\\\\Te-pi_0258.jpg,pituitary\\r\\n865,C:/Savinu/Hands On Machine Learning Book/pituitary\\\\Te-pi_0259.jpg,pituitary\\r\\n866,C:/Savinu/Hands On Machine Learning Book/pituitary\\\\Te-pi_0260.jpg,pituitary\\r\\n867,C:/Savinu/Hands On Machine Learning Book/pituitary\\\\Te-pi_0261.jpg,pituitary\\r\\n868,C:/Savinu/Hands On Machine Learning Book/pituitary\\\\Te-pi_0262.jpg,pituitary\\r\\n869,C:/Savinu/Hands On Machine Learning Book/pituitary\\\\Te-pi_0263.jpg,pituitary\\r\\n870,C:/Savinu/Hands On Machine Learning Book/pituitary\\\\Te-pi_0264.jpg,pituitary\\r\\n871,C:/Savinu/Hands On Machine Learning Book/pituitary\\\\Te-pi_0265.jpg,pituitary\\r\\n872,C:/Savinu/Hands On Machine Learning Book/pituitary\\\\Te-pi_0266.jpg,pituitary\\r\\n873,C:/Savinu/Hands On Machine Learning Book/pituitary\\\\Te-pi_0267.jpg,pituitary\\r\\n874,C:/Savinu/Hands On Machine Learning Book/pituitary\\\\Te-pi_0268.jpg,pituitary\\r\\n875,C:/Savinu/Hands On Machine Learning Book/pituitary\\\\Te-pi_0269.jpg,pituitary\\r\\n876,C:/Savinu/Hands On Machine Learning Book/pituitary\\\\Te-pi_0270.jpg,pituitary\\r\\n877,C:/Savinu/Hands On Machine Learning Book/pituitary\\\\Te-pi_0271.jpg,pituitary\\r\\n878,C:/Savinu/Hands On Machine Learning Book/pituitary\\\\Te-pi_0272.jpg,pituitary\\r\\n879,C:/Savinu/Hands On Machine Learning Book/pituitary\\\\Te-pi_0273.jpg,pituitary\\r\\n880,C:/Savinu/Hands On Machine Learning Book/pituitary\\\\Te-pi_0274.jpg,pituitary\\r\\n881,C:/Savinu/Hands On Machine Learning Book/pituitary\\\\Te-pi_0275.jpg,pituitary\\r\\n882,C:/Savinu/Hands On Machine Learning Book/pituitary\\\\Te-pi_0276.jpg,pituitary\\r\\n883,C:/Savinu/Hands On Machine Learning Book/pituitary\\\\Te-pi_0277.jpg,pituitary\\r\\n884,C:/Savinu/Hands On Machine Learning Book/pituitary\\\\Te-pi_0278.jpg,pituitary\\r\\n885,C:/Savinu/Hands On Machine Learning Book/pituitary\\\\Te-pi_0279.jpg,pituitary\\r\\n886,C:/Savinu/Hands On Machine Learning Book/pituitary\\\\Te-pi_0280.jpg,pituitary\\r\\n887,C:/Savinu/Hands On Machine Learning Book/pituitary\\\\Te-pi_0281.jpg,pituitary\\r\\n888,C:/Savinu/Hands On Machine Learning Book/pituitary\\\\Te-pi_0282.jpg,pituitary\\r\\n889,C:/Savinu/Hands On Machine Learning Book/pituitary\\\\Te-pi_0283.jpg,pituitary\\r\\n890,C:/Savinu/Hands On Machine Learning Book/pituitary\\\\Te-pi_0284.jpg,pituitary\\r\\n891,C:/Savinu/Hands On Machine Learning Book/pituitary\\\\Te-pi_0285.jpg,pituitary\\r\\n892,C:/Savinu/Hands On Machine Learning Book/pituitary\\\\Te-pi_0286.jpg,pituitary\\r\\n893,C:/Savinu/Hands On Machine Learning Book/pituitary\\\\Te-pi_0287.jpg,pituitary\\r\\n894,C:/Savinu/Hands On Machine Learning Book/pituitary\\\\Te-pi_0288.jpg,pituitary\\r\\n895,C:/Savinu/Hands On Machine Learning Book/pituitary\\\\Te-pi_0289.jpg,pituitary\\r\\n896,C:/Savinu/Hands On Machine Learning Book/pituitary\\\\Te-pi_0290.jpg,pituitary\\r\\n897,C:/Savinu/Hands On Machine Learning Book/pituitary\\\\Te-pi_0291.jpg,pituitary\\r\\n898,C:/Savinu/Hands On Machine Learning Book/pituitary\\\\Te-pi_0292.jpg,pituitary\\r\\n899,C:/Savinu/Hands On Machine Learning Book/pituitary\\\\Te-pi_0293.jpg,pituitary\\r\\n900,C:/Savinu/Hands On Machine Learning Book/pituitary\\\\Te-pi_0294.jpg,pituitary\\r\\n901,C:/Savinu/Hands On Machine Learning Book/pituitary\\\\Te-pi_0295.jpg,pituitary\\r\\n902,C:/Savinu/Hands On Machine Learning Book/pituitary\\\\Te-pi_0296.jpg,pituitary\\r\\n903,C:/Savinu/Hands On Machine Learning Book/pituitary\\\\Te-pi_0297.jpg,pituitary\\r\\n904,C:/Savinu/Hands On Machine Learning Book/pituitary\\\\Te-pi_0298.jpg,pituitary\\r\\n905,C:/Savinu/Hands On Machine Learning Book/pituitary\\\\Te-pi_0299.jpg,pituitary\\r\\n906,C:/Savinu/Hands On Machine Learning Book/notumor\\\\Te-noTr_0000.jpg,no_tumor\\r\\n907,C:/Savinu/Hands On Machine Learning Book/notumor\\\\Te-noTr_0001.jpg,no_tumor\\r\\n908,C:/Savinu/Hands On Machine Learning Book/notumor\\\\Te-noTr_0002.jpg,no_tumor\\r\\n909,C:/Savinu/Hands On Machine Learning Book/notumor\\\\Te-noTr_0003.jpg,no_tumor\\r\\n910,C:/Savinu/Hands On Machine Learning Book/notumor\\\\Te-noTr_0004.jpg,no_tumor\\r\\n911,C:/Savinu/Hands On Machine Learning Book/notumor\\\\Te-noTr_0005.jpg,no_tumor\\r\\n912,C:/Savinu/Hands On Machine Learning Book/notumor\\\\Te-noTr_0006.jpg,no_tumor\\r\\n913,C:/Savinu/Hands On Machine Learning Book/notumor\\\\Te-noTr_0007.jpg,no_tumor\\r\\n914,C:/Savinu/Hands On Machine Learning Book/notumor\\\\Te-noTr_0008.jpg,no_tumor\\r\\n915,C:/Savinu/Hands On Machine Learning Book/notumor\\\\Te-noTr_0009.jpg,no_tumor\\r\\n916,C:/Savinu/Hands On Machine Learning Book/notumor\\\\Te-no_0010.jpg,no_tumor\\r\\n917,C:/Savinu/Hands On Machine Learning Book/notumor\\\\Te-no_0011.jpg,no_tumor\\r\\n918,C:/Savinu/Hands On Machine Learning Book/notumor\\\\Te-no_0012.jpg,no_tumor\\r\\n919,C:/Savinu/Hands On Machine Learning Book/notumor\\\\Te-no_0013.jpg,no_tumor\\r\\n920,C:/Savinu/Hands On Machine Learning Book/notumor\\\\Te-no_0014.jpg,no_tumor\\r\\n921,C:/Savinu/Hands On Machine Learning Book/notumor\\\\Te-no_0015.jpg,no_tumor\\r\\n922,C:/Savinu/Hands On Machine Learning Book/notumor\\\\Te-no_0016.jpg,no_tumor\\r\\n923,C:/Savinu/Hands On Machine Learning Book/notumor\\\\Te-no_0017.jpg,no_tumor\\r\\n924,C:/Savinu/Hands On Machine Learning Book/notumor\\\\Te-no_0018.jpg,no_tumor\\r\\n925,C:/Savinu/Hands On Machine Learning Book/notumor\\\\Te-no_0019.jpg,no_tumor\\r\\n926,C:/Savinu/Hands On Machine Learning Book/notumor\\\\Te-no_0020.jpg,no_tumor\\r\\n927,C:/Savinu/Hands On Machine Learning Book/notumor\\\\Te-no_0021.jpg,no_tumor\\r\\n928,C:/Savinu/Hands On Machine Learning Book/notumor\\\\Te-no_0022.jpg,no_tumor\\r\\n929,C:/Savinu/Hands On Machine Learning Book/notumor\\\\Te-no_0023.jpg,no_tumor\\r\\n930,C:/Savinu/Hands On Machine Learning Book/notumor\\\\Te-no_0024.jpg,no_tumor\\r\\n931,C:/Savinu/Hands On Machine Learning Book/notumor\\\\Te-no_0025.jpg,no_tumor\\r\\n932,C:/Savinu/Hands On Machine Learning Book/notumor\\\\Te-no_0026.jpg,no_tumor\\r\\n933,C:/Savinu/Hands On Machine Learning Book/notumor\\\\Te-no_0027.jpg,no_tumor\\r\\n934,C:/Savinu/Hands On Machine Learning Book/notumor\\\\Te-no_0028.jpg,no_tumor\\r\\n935,C:/Savinu/Hands On Machine Learning Book/notumor\\\\Te-no_0029.jpg,no_tumor\\r\\n936,C:/Savinu/Hands On Machine Learning Book/notumor\\\\Te-no_0030.jpg,no_tumor\\r\\n937,C:/Savinu/Hands On Machine Learning Book/notumor\\\\Te-no_0031.jpg,no_tumor\\r\\n938,C:/Savinu/Hands On Machine Learning Book/notumor\\\\Te-no_0032.jpg,no_tumor\\r\\n939,C:/Savinu/Hands On Machine Learning Book/notumor\\\\Te-no_0033.jpg,no_tumor\\r\\n940,C:/Savinu/Hands On Machine Learning Book/notumor\\\\Te-no_0034.jpg,no_tumor\\r\\n941,C:/Savinu/Hands On Machine Learning Book/notumor\\\\Te-no_0035.jpg,no_tumor\\r\\n942,C:/Savinu/Hands On Machine Learning Book/notumor\\\\Te-no_0036.jpg,no_tumor\\r\\n943,C:/Savinu/Hands On Machine Learning Book/notumor\\\\Te-no_0037.jpg,no_tumor\\r\\n944,C:/Savinu/Hands On Machine Learning Book/notumor\\\\Te-no_0038.jpg,no_tumor\\r\\n945,C:/Savinu/Hands On Machine Learning Book/notumor\\\\Te-no_0039.jpg,no_tumor\\r\\n946,C:/Savinu/Hands On Machine Learning Book/notumor\\\\Te-no_0040.jpg,no_tumor\\r\\n947,C:/Savinu/Hands On Machine Learning Book/notumor\\\\Te-no_0041.jpg,no_tumor\\r\\n948,C:/Savinu/Hands On Machine Learning Book/notumor\\\\Te-no_0042.jpg,no_tumor\\r\\n949,C:/Savinu/Hands On Machine Learning Book/notumor\\\\Te-no_0043.jpg,no_tumor\\r\\n950,C:/Savinu/Hands On Machine Learning Book/notumor\\\\Te-no_0044.jpg,no_tumor\\r\\n951,C:/Savinu/Hands On Machine Learning Book/notumor\\\\Te-no_0045.jpg,no_tumor\\r\\n952,C:/Savinu/Hands On Machine Learning Book/notumor\\\\Te-no_0046.jpg,no_tumor\\r\\n953,C:/Savinu/Hands On Machine Learning Book/notumor\\\\Te-no_0047.jpg,no_tumor\\r\\n954,C:/Savinu/Hands On Machine Learning Book/notumor\\\\Te-no_0048.jpg,no_tumor\\r\\n955,C:/Savinu/Hands On Machine Learning Book/notumor\\\\Te-no_0049.jpg,no_tumor\\r\\n956,C:/Savinu/Hands On Machine Learning Book/notumor\\\\Te-no_0050.jpg,no_tumor\\r\\n957,C:/Savinu/Hands On Machine Learning Book/notumor\\\\Te-no_0051.jpg,no_tumor\\r\\n958,C:/Savinu/Hands On Machine Learning Book/notumor\\\\Te-no_0052.jpg,no_tumor\\r\\n959,C:/Savinu/Hands On Machine Learning Book/notumor\\\\Te-no_0053.jpg,no_tumor\\r\\n960,C:/Savinu/Hands On Machine Learning Book/notumor\\\\Te-no_0054.jpg,no_tumor\\r\\n961,C:/Savinu/Hands On Machine Learning Book/notumor\\\\Te-no_0055.jpg,no_tumor\\r\\n962,C:/Savinu/Hands On Machine Learning Book/notumor\\\\Te-no_0056.jpg,no_tumor\\r\\n963,C:/Savinu/Hands On Machine Learning Book/notumor\\\\Te-no_0057.jpg,no_tumor\\r\\n964,C:/Savinu/Hands On Machine Learning Book/notumor\\\\Te-no_0058.jpg,no_tumor\\r\\n965,C:/Savinu/Hands On Machine Learning Book/notumor\\\\Te-no_0059.jpg,no_tumor\\r\\n966,C:/Savinu/Hands On Machine Learning Book/notumor\\\\Te-no_0060.jpg,no_tumor\\r\\n967,C:/Savinu/Hands On Machine Learning Book/notumor\\\\Te-no_0061.jpg,no_tumor\\r\\n968,C:/Savinu/Hands On Machine Learning Book/notumor\\\\Te-no_0062.jpg,no_tumor\\r\\n969,C:/Savinu/Hands On Machine Learning Book/notumor\\\\Te-no_0063.jpg,no_tumor\\r\\n970,C:/Savinu/Hands On Machine Learning Book/notumor\\\\Te-no_0064.jpg,no_tumor\\r\\n971,C:/Savinu/Hands On Machine Learning Book/notumor\\\\Te-no_0065.jpg,no_tumor\\r\\n972,C:/Savinu/Hands On Machine Learning Book/notumor\\\\Te-no_0066.jpg,no_tumor\\r\\n973,C:/Savinu/Hands On Machine Learning Book/notumor\\\\Te-no_0067.jpg,no_tumor\\r\\n974,C:/Savinu/Hands On Machine Learning Book/notumor\\\\Te-no_0068.jpg,no_tumor\\r\\n975,C:/Savinu/Hands On Machine Learning Book/notumor\\\\Te-no_0069.jpg,no_tumor\\r\\n976,C:/Savinu/Hands On Machine Learning Book/notumor\\\\Te-no_0070.jpg,no_tumor\\r\\n977,C:/Savinu/Hands On Machine Learning Book/notumor\\\\Te-no_0071.jpg,no_tumor\\r\\n978,C:/Savinu/Hands On Machine Learning Book/notumor\\\\Te-no_0072.jpg,no_tumor\\r\\n979,C:/Savinu/Hands On Machine Learning Book/notumor\\\\Te-no_0073.jpg,no_tumor\\r\\n980,C:/Savinu/Hands On Machine Learning Book/notumor\\\\Te-no_0074.jpg,no_tumor\\r\\n981,C:/Savinu/Hands On Machine Learning Book/notumor\\\\Te-no_0075.jpg,no_tumor\\r\\n982,C:/Savinu/Hands On Machine Learning Book/notumor\\\\Te-no_0076.jpg,no_tumor\\r\\n983,C:/Savinu/Hands On Machine Learning Book/notumor\\\\Te-no_0077.jpg,no_tumor\\r\\n984,C:/Savinu/Hands On Machine Learning Book/notumor\\\\Te-no_0078.jpg,no_tumor\\r\\n985,C:/Savinu/Hands On Machine Learning Book/notumor\\\\Te-no_0079.jpg,no_tumor\\r\\n986,C:/Savinu/Hands On Machine Learning Book/notumor\\\\Te-no_0080.jpg,no_tumor\\r\\n987,C:/Savinu/Hands On Machine Learning Book/notumor\\\\Te-no_0081.jpg,no_tumor\\r\\n988,C:/Savinu/Hands On Machine Learning Book/notumor\\\\Te-no_0082.jpg,no_tumor\\r\\n989,C:/Savinu/Hands On Machine Learning Book/notumor\\\\Te-no_0083.jpg,no_tumor\\r\\n990,C:/Savinu/Hands On Machine Learning Book/notumor\\\\Te-no_0084.jpg,no_tumor\\r\\n991,C:/Savinu/Hands On Machine Learning Book/notumor\\\\Te-no_0085.jpg,no_tumor\\r\\n992,C:/Savinu/Hands On Machine Learning Book/notumor\\\\Te-no_0086.jpg,no_tumor\\r\\n993,C:/Savinu/Hands On Machine Learning Book/notumor\\\\Te-no_0087.jpg,no_tumor\\r\\n994,C:/Savinu/Hands On Machine Learning Book/notumor\\\\Te-no_0088.jpg,no_tumor\\r\\n995,C:/Savinu/Hands On Machine Learning Book/notumor\\\\Te-no_0089.jpg,no_tumor\\r\\n996,C:/Savinu/Hands On Machine Learning Book/notumor\\\\Te-no_0090.jpg,no_tumor\\r\\n997,C:/Savinu/Hands On Machine Learning Book/notumor\\\\Te-no_0091.jpg,no_tumor\\r\\n998,C:/Savinu/Hands On Machine Learning Book/notumor\\\\Te-no_0092.jpg,no_tumor\\r\\n999,C:/Savinu/Hands On Machine Learning Book/notumor\\\\Te-no_0093.jpg,no_tumor\\r\\n1000,C:/Savinu/Hands On Machine Learning Book/notumor\\\\Te-no_0094.jpg,no_tumor\\r\\n1001,C:/Savinu/Hands On Machine Learning Book/notumor\\\\Te-no_0095.jpg,no_tumor\\r\\n1002,C:/Savinu/Hands On Machine Learning Book/notumor\\\\Te-no_0096.jpg,no_tumor\\r\\n1003,C:/Savinu/Hands On Machine Learning Book/notumor\\\\Te-no_0097.jpg,no_tumor\\r\\n1004,C:/Savinu/Hands On Machine Learning Book/notumor\\\\Te-no_0098.jpg,no_tumor\\r\\n1005,C:/Savinu/Hands On Machine Learning Book/notumor\\\\Te-no_0099.jpg,no_tumor\\r\\n1006,C:/Savinu/Hands On Machine Learning Book/notumor\\\\Te-no_0100.jpg,no_tumor\\r\\n1007,C:/Savinu/Hands On Machine Learning Book/notumor\\\\Te-no_0101.jpg,no_tumor\\r\\n1008,C:/Savinu/Hands On Machine Learning Book/notumor\\\\Te-no_0102.jpg,no_tumor\\r\\n1009,C:/Savinu/Hands On Machine Learning Book/notumor\\\\Te-no_0103.jpg,no_tumor\\r\\n1010,C:/Savinu/Hands On Machine Learning Book/notumor\\\\Te-no_0104.jpg,no_tumor\\r\\n1011,C:/Savinu/Hands On Machine Learning Book/notumor\\\\Te-no_0105.jpg,no_tumor\\r\\n1012,C:/Savinu/Hands On Machine Learning Book/notumor\\\\Te-no_0106.jpg,no_tumor\\r\\n1013,C:/Savinu/Hands On Machine Learning Book/notumor\\\\Te-no_0107.jpg,no_tumor\\r\\n1014,C:/Savinu/Hands On Machine Learning Book/notumor\\\\Te-no_0108.jpg,no_tumor\\r\\n1015,C:/Savinu/Hands On Machine Learning Book/notumor\\\\Te-no_0109.jpg,no_tumor\\r\\n1016,C:/Savinu/Hands On Machine Learning Book/notumor\\\\Te-no_0110.jpg,no_tumor\\r\\n1017,C:/Savinu/Hands On Machine Learning Book/notumor\\\\Te-no_0111.jpg,no_tumor\\r\\n1018,C:/Savinu/Hands On Machine Learning Book/notumor\\\\Te-no_0112.jpg,no_tumor\\r\\n1019,C:/Savinu/Hands On Machine Learning Book/notumor\\\\Te-no_0113.jpg,no_tumor\\r\\n1020,C:/Savinu/Hands On Machine Learning Book/notumor\\\\Te-no_0114.jpg,no_tumor\\r\\n1021,C:/Savinu/Hands On Machine Learning Book/notumor\\\\Te-no_0115.jpg,no_tumor\\r\\n1022,C:/Savinu/Hands On Machine Learning Book/notumor\\\\Te-no_0116.jpg,no_tumor\\r\\n1023,C:/Savinu/Hands On Machine Learning Book/notumor\\\\Te-no_0117.jpg,no_tumor\\r\\n1024,C:/Savinu/Hands On Machine Learning Book/notumor\\\\Te-no_0118.jpg,no_tumor\\r\\n1025,C:/Savinu/Hands On Machine Learning Book/notumor\\\\Te-no_0119.jpg,no_tumor\\r\\n1026,C:/Savinu/Hands On Machine Learning Book/notumor\\\\Te-no_0120.jpg,no_tumor\\r\\n1027,C:/Savinu/Hands On Machine Learning Book/notumor\\\\Te-no_0121.jpg,no_tumor\\r\\n1028,C:/Savinu/Hands On Machine Learning Book/notumor\\\\Te-no_0122.jpg,no_tumor\\r\\n1029,C:/Savinu/Hands On Machine Learning Book/notumor\\\\Te-no_0123.jpg,no_tumor\\r\\n1030,C:/Savinu/Hands On Machine Learning Book/notumor\\\\Te-no_0124.jpg,no_tumor\\r\\n1031,C:/Savinu/Hands On Machine Learning Book/notumor\\\\Te-no_0125.jpg,no_tumor\\r\\n1032,C:/Savinu/Hands On Machine Learning Book/notumor\\\\Te-no_0126.jpg,no_tumor\\r\\n1033,C:/Savinu/Hands On Machine Learning Book/notumor\\\\Te-no_0127.jpg,no_tumor\\r\\n1034,C:/Savinu/Hands On Machine Learning Book/notumor\\\\Te-no_0128.jpg,no_tumor\\r\\n1035,C:/Savinu/Hands On Machine Learning Book/notumor\\\\Te-no_0129.jpg,no_tumor\\r\\n1036,C:/Savinu/Hands On Machine Learning Book/notumor\\\\Te-no_0130.jpg,no_tumor\\r\\n1037,C:/Savinu/Hands On Machine Learning Book/notumor\\\\Te-no_0131.jpg,no_tumor\\r\\n1038,C:/Savinu/Hands On Machine Learning Book/notumor\\\\Te-no_0132.jpg,no_tumor\\r\\n1039,C:/Savinu/Hands On Machine Learning Book/notumor\\\\Te-no_0133.jpg,no_tumor\\r\\n1040,C:/Savinu/Hands On Machine Learning Book/notumor\\\\Te-no_0134.jpg,no_tumor\\r\\n1041,C:/Savinu/Hands On Machine Learning Book/notumor\\\\Te-no_0135.jpg,no_tumor\\r\\n1042,C:/Savinu/Hands On Machine Learning Book/notumor\\\\Te-no_0136.jpg,no_tumor\\r\\n1043,C:/Savinu/Hands On Machine Learning Book/notumor\\\\Te-no_0137.jpg,no_tumor\\r\\n1044,C:/Savinu/Hands On Machine Learning Book/notumor\\\\Te-no_0138.jpg,no_tumor\\r\\n1045,C:/Savinu/Hands On Machine Learning Book/notumor\\\\Te-no_0139.jpg,no_tumor\\r\\n1046,C:/Savinu/Hands On Machine Learning Book/notumor\\\\Te-no_0140.jpg,no_tumor\\r\\n1047,C:/Savinu/Hands On Machine Learning Book/notumor\\\\Te-no_0141.jpg,no_tumor\\r\\n1048,C:/Savinu/Hands On Machine Learning Book/notumor\\\\Te-no_0142.jpg,no_tumor\\r\\n1049,C:/Savinu/Hands On Machine Learning Book/notumor\\\\Te-no_0143.jpg,no_tumor\\r\\n1050,C:/Savinu/Hands On Machine Learning Book/notumor\\\\Te-no_0144.jpg,no_tumor\\r\\n1051,C:/Savinu/Hands On Machine Learning Book/notumor\\\\Te-no_0145.jpg,no_tumor\\r\\n1052,C:/Savinu/Hands On Machine Learning Book/notumor\\\\Te-no_0146.jpg,no_tumor\\r\\n1053,C:/Savinu/Hands On Machine Learning Book/notumor\\\\Te-no_0147.jpg,no_tumor\\r\\n1054,C:/Savinu/Hands On Machine Learning Book/notumor\\\\Te-no_0148.jpg,no_tumor\\r\\n1055,C:/Savinu/Hands On Machine Learning Book/notumor\\\\Te-no_0149.jpg,no_tumor\\r\\n1056,C:/Savinu/Hands On Machine Learning Book/notumor\\\\Te-no_0150.jpg,no_tumor\\r\\n1057,C:/Savinu/Hands On Machine Learning Book/notumor\\\\Te-no_0151.jpg,no_tumor\\r\\n1058,C:/Savinu/Hands On Machine Learning Book/notumor\\\\Te-no_0152.jpg,no_tumor\\r\\n1059,C:/Savinu/Hands On Machine Learning Book/notumor\\\\Te-no_0153.jpg,no_tumor\\r\\n1060,C:/Savinu/Hands On Machine Learning Book/notumor\\\\Te-no_0154.jpg,no_tumor\\r\\n1061,C:/Savinu/Hands On Machine Learning Book/notumor\\\\Te-no_0155.jpg,no_tumor\\r\\n1062,C:/Savinu/Hands On Machine Learning Book/notumor\\\\Te-no_0156.jpg,no_tumor\\r\\n1063,C:/Savinu/Hands On Machine Learning Book/notumor\\\\Te-no_0157.jpg,no_tumor\\r\\n1064,C:/Savinu/Hands On Machine Learning Book/notumor\\\\Te-no_0158.jpg,no_tumor\\r\\n1065,C:/Savinu/Hands On Machine Learning Book/notumor\\\\Te-no_0159.jpg,no_tumor\\r\\n1066,C:/Savinu/Hands On Machine Learning Book/notumor\\\\Te-no_0160.jpg,no_tumor\\r\\n1067,C:/Savinu/Hands On Machine Learning Book/notumor\\\\Te-no_0161.jpg,no_tumor\\r\\n1068,C:/Savinu/Hands On Machine Learning Book/notumor\\\\Te-no_0162.jpg,no_tumor\\r\\n1069,C:/Savinu/Hands On Machine Learning Book/notumor\\\\Te-no_0163.jpg,no_tumor\\r\\n1070,C:/Savinu/Hands On Machine Learning Book/notumor\\\\Te-no_0164.jpg,no_tumor\\r\\n1071,C:/Savinu/Hands On Machine Learning Book/notumor\\\\Te-no_0165.jpg,no_tumor\\r\\n1072,C:/Savinu/Hands On Machine Learning Book/notumor\\\\Te-no_0166.jpg,no_tumor\\r\\n1073,C:/Savinu/Hands On Machine Learning Book/notumor\\\\Te-no_0167.jpg,no_tumor\\r\\n1074,C:/Savinu/Hands On Machine Learning Book/notumor\\\\Te-no_0168.jpg,no_tumor\\r\\n1075,C:/Savinu/Hands On Machine Learning Book/notumor\\\\Te-no_0169.jpg,no_tumor\\r\\n1076,C:/Savinu/Hands On Machine Learning Book/notumor\\\\Te-no_0170.jpg,no_tumor\\r\\n1077,C:/Savinu/Hands On Machine Learning Book/notumor\\\\Te-no_0171.jpg,no_tumor\\r\\n1078,C:/Savinu/Hands On Machine Learning Book/notumor\\\\Te-no_0172.jpg,no_tumor\\r\\n1079,C:/Savinu/Hands On Machine Learning Book/notumor\\\\Te-no_0173.jpg,no_tumor\\r\\n1080,C:/Savinu/Hands On Machine Learning Book/notumor\\\\Te-no_0174.jpg,no_tumor\\r\\n1081,C:/Savinu/Hands On Machine Learning Book/notumor\\\\Te-no_0175.jpg,no_tumor\\r\\n1082,C:/Savinu/Hands On Machine Learning Book/notumor\\\\Te-no_0176.jpg,no_tumor\\r\\n1083,C:/Savinu/Hands On Machine Learning Book/notumor\\\\Te-no_0177.jpg,no_tumor\\r\\n1084,C:/Savinu/Hands On Machine Learning Book/notumor\\\\Te-no_0178.jpg,no_tumor\\r\\n1085,C:/Savinu/Hands On Machine Learning Book/notumor\\\\Te-no_0179.jpg,no_tumor\\r\\n1086,C:/Savinu/Hands On Machine Learning Book/notumor\\\\Te-no_0180.jpg,no_tumor\\r\\n1087,C:/Savinu/Hands On Machine Learning Book/notumor\\\\Te-no_0181.jpg,no_tumor\\r\\n1088,C:/Savinu/Hands On Machine Learning Book/notumor\\\\Te-no_0182.jpg,no_tumor\\r\\n1089,C:/Savinu/Hands On Machine Learning Book/notumor\\\\Te-no_0183.jpg,no_tumor\\r\\n1090,C:/Savinu/Hands On Machine Learning Book/notumor\\\\Te-no_0184.jpg,no_tumor\\r\\n1091,C:/Savinu/Hands On Machine Learning Book/notumor\\\\Te-no_0185.jpg,no_tumor\\r\\n1092,C:/Savinu/Hands On Machine Learning Book/notumor\\\\Te-no_0186.jpg,no_tumor\\r\\n1093,C:/Savinu/Hands On Machine Learning Book/notumor\\\\Te-no_0187.jpg,no_tumor\\r\\n1094,C:/Savinu/Hands On Machine Learning Book/notumor\\\\Te-no_0188.jpg,no_tumor\\r\\n1095,C:/Savinu/Hands On Machine Learning Book/notumor\\\\Te-no_0189.jpg,no_tumor\\r\\n1096,C:/Savinu/Hands On Machine Learning Book/notumor\\\\Te-no_0190.jpg,no_tumor\\r\\n1097,C:/Savinu/Hands On Machine Learning Book/notumor\\\\Te-no_0191.jpg,no_tumor\\r\\n1098,C:/Savinu/Hands On Machine Learning Book/notumor\\\\Te-no_0192.jpg,no_tumor\\r\\n1099,C:/Savinu/Hands On Machine Learning Book/notumor\\\\Te-no_0193.jpg,no_tumor\\r\\n1100,C:/Savinu/Hands On Machine Learning Book/notumor\\\\Te-no_0194.jpg,no_tumor\\r\\n1101,C:/Savinu/Hands On Machine Learning Book/notumor\\\\Te-no_0195.jpg,no_tumor\\r\\n1102,C:/Savinu/Hands On Machine Learning Book/notumor\\\\Te-no_0196.jpg,no_tumor\\r\\n1103,C:/Savinu/Hands On Machine Learning Book/notumor\\\\Te-no_0197.jpg,no_tumor\\r\\n1104,C:/Savinu/Hands On Machine Learning Book/notumor\\\\Te-no_0198.jpg,no_tumor\\r\\n1105,C:/Savinu/Hands On Machine Learning Book/notumor\\\\Te-no_0199.jpg,no_tumor\\r\\n1106,C:/Savinu/Hands On Machine Learning Book/notumor\\\\Te-no_0200.jpg,no_tumor\\r\\n1107,C:/Savinu/Hands On Machine Learning Book/notumor\\\\Te-no_0201.jpg,no_tumor\\r\\n1108,C:/Savinu/Hands On Machine Learning Book/notumor\\\\Te-no_0202.jpg,no_tumor\\r\\n1109,C:/Savinu/Hands On Machine Learning Book/notumor\\\\Te-no_0203.jpg,no_tumor\\r\\n1110,C:/Savinu/Hands On Machine Learning Book/notumor\\\\Te-no_0204.jpg,no_tumor\\r\\n1111,C:/Savinu/Hands On Machine Learning Book/notumor\\\\Te-no_0205.jpg,no_tumor\\r\\n1112,C:/Savinu/Hands On Machine Learning Book/notumor\\\\Te-no_0206.jpg,no_tumor\\r\\n1113,C:/Savinu/Hands On Machine Learning Book/notumor\\\\Te-no_0207.jpg,no_tumor\\r\\n1114,C:/Savinu/Hands On Machine Learning Book/notumor\\\\Te-no_0208.jpg,no_tumor\\r\\n1115,C:/Savinu/Hands On Machine Learning Book/notumor\\\\Te-no_0209.jpg,no_tumor\\r\\n1116,C:/Savinu/Hands On Machine Learning Book/notumor\\\\Te-no_0210.jpg,no_tumor\\r\\n1117,C:/Savinu/Hands On Machine Learning Book/notumor\\\\Te-no_0211.jpg,no_tumor\\r\\n1118,C:/Savinu/Hands On Machine Learning Book/notumor\\\\Te-no_0212.jpg,no_tumor\\r\\n1119,C:/Savinu/Hands On Machine Learning Book/notumor\\\\Te-no_0213.jpg,no_tumor\\r\\n1120,C:/Savinu/Hands On Machine Learning Book/notumor\\\\Te-no_0214.jpg,no_tumor\\r\\n1121,C:/Savinu/Hands On Machine Learning Book/notumor\\\\Te-no_0215.jpg,no_tumor\\r\\n1122,C:/Savinu/Hands On Machine Learning Book/notumor\\\\Te-no_0216.jpg,no_tumor\\r\\n1123,C:/Savinu/Hands On Machine Learning Book/notumor\\\\Te-no_0217.jpg,no_tumor\\r\\n1124,C:/Savinu/Hands On Machine Learning Book/notumor\\\\Te-no_0218.jpg,no_tumor\\r\\n1125,C:/Savinu/Hands On Machine Learning Book/notumor\\\\Te-no_0219.jpg,no_tumor\\r\\n1126,C:/Savinu/Hands On Machine Learning Book/notumor\\\\Te-no_0220.jpg,no_tumor\\r\\n1127,C:/Savinu/Hands On Machine Learning Book/notumor\\\\Te-no_0221.jpg,no_tumor\\r\\n1128,C:/Savinu/Hands On Machine Learning Book/notumor\\\\Te-no_0222.jpg,no_tumor\\r\\n1129,C:/Savinu/Hands On Machine Learning Book/notumor\\\\Te-no_0223.jpg,no_tumor\\r\\n1130,C:/Savinu/Hands On Machine Learning Book/notumor\\\\Te-no_0224.jpg,no_tumor\\r\\n1131,C:/Savinu/Hands On Machine Learning Book/notumor\\\\Te-no_0225.jpg,no_tumor\\r\\n1132,C:/Savinu/Hands On Machine Learning Book/notumor\\\\Te-no_0226.jpg,no_tumor\\r\\n1133,C:/Savinu/Hands On Machine Learning Book/notumor\\\\Te-no_0227.jpg,no_tumor\\r\\n1134,C:/Savinu/Hands On Machine Learning Book/notumor\\\\Te-no_0228.jpg,no_tumor\\r\\n1135,C:/Savinu/Hands On Machine Learning Book/notumor\\\\Te-no_0229.jpg,no_tumor\\r\\n1136,C:/Savinu/Hands On Machine Learning Book/notumor\\\\Te-no_0230.jpg,no_tumor\\r\\n1137,C:/Savinu/Hands On Machine Learning Book/notumor\\\\Te-no_0231.jpg,no_tumor\\r\\n1138,C:/Savinu/Hands On Machine Learning Book/notumor\\\\Te-no_0232.jpg,no_tumor\\r\\n1139,C:/Savinu/Hands On Machine Learning Book/notumor\\\\Te-no_0233.jpg,no_tumor\\r\\n1140,C:/Savinu/Hands On Machine Learning Book/notumor\\\\Te-no_0234.jpg,no_tumor\\r\\n1141,C:/Savinu/Hands On Machine Learning Book/notumor\\\\Te-no_0235.jpg,no_tumor\\r\\n1142,C:/Savinu/Hands On Machine Learning Book/notumor\\\\Te-no_0236.jpg,no_tumor\\r\\n1143,C:/Savinu/Hands On Machine Learning Book/notumor\\\\Te-no_0237.jpg,no_tumor\\r\\n1144,C:/Savinu/Hands On Machine Learning Book/notumor\\\\Te-no_0238.jpg,no_tumor\\r\\n1145,C:/Savinu/Hands On Machine Learning Book/notumor\\\\Te-no_0239.jpg,no_tumor\\r\\n1146,C:/Savinu/Hands On Machine Learning Book/notumor\\\\Te-no_0240.jpg,no_tumor\\r\\n1147,C:/Savinu/Hands On Machine Learning Book/notumor\\\\Te-no_0241.jpg,no_tumor\\r\\n1148,C:/Savinu/Hands On Machine Learning Book/notumor\\\\Te-no_0242.jpg,no_tumor\\r\\n1149,C:/Savinu/Hands On Machine Learning Book/notumor\\\\Te-no_0243.jpg,no_tumor\\r\\n1150,C:/Savinu/Hands On Machine Learning Book/notumor\\\\Te-no_0244.jpg,no_tumor\\r\\n1151,C:/Savinu/Hands On Machine Learning Book/notumor\\\\Te-no_0245.jpg,no_tumor\\r\\n1152,C:/Savinu/Hands On Machine Learning Book/notumor\\\\Te-no_0246.jpg,no_tumor\\r\\n1153,C:/Savinu/Hands On Machine Learning Book/notumor\\\\Te-no_0247.jpg,no_tumor\\r\\n1154,C:/Savinu/Hands On Machine Learning Book/notumor\\\\Te-no_0248.jpg,no_tumor\\r\\n1155,C:/Savinu/Hands On Machine Learning Book/notumor\\\\Te-no_0249.jpg,no_tumor\\r\\n1156,C:/Savinu/Hands On Machine Learning Book/notumor\\\\Te-no_0250.jpg,no_tumor\\r\\n1157,C:/Savinu/Hands On Machine Learning Book/notumor\\\\Te-no_0251.jpg,no_tumor\\r\\n1158,C:/Savinu/Hands On Machine Learning Book/notumor\\\\Te-no_0252.jpg,no_tumor\\r\\n1159,C:/Savinu/Hands On Machine Learning Book/notumor\\\\Te-no_0253.jpg,no_tumor\\r\\n1160,C:/Savinu/Hands On Machine Learning Book/notumor\\\\Te-no_0254.jpg,no_tumor\\r\\n1161,C:/Savinu/Hands On Machine Learning Book/notumor\\\\Te-no_0255.jpg,no_tumor\\r\\n1162,C:/Savinu/Hands On Machine Learning Book/notumor\\\\Te-no_0256.jpg,no_tumor\\r\\n1163,C:/Savinu/Hands On Machine Learning Book/notumor\\\\Te-no_0257.jpg,no_tumor\\r\\n1164,C:/Savinu/Hands On Machine Learning Book/notumor\\\\Te-no_0258.jpg,no_tumor\\r\\n1165,C:/Savinu/Hands On Machine Learning Book/notumor\\\\Te-no_0259.jpg,no_tumor\\r\\n1166,C:/Savinu/Hands On Machine Learning Book/notumor\\\\Te-no_0260.jpg,no_tumor\\r\\n1167,C:/Savinu/Hands On Machine Learning Book/notumor\\\\Te-no_0261.jpg,no_tumor\\r\\n1168,C:/Savinu/Hands On Machine Learning Book/notumor\\\\Te-no_0262.jpg,no_tumor\\r\\n1169,C:/Savinu/Hands On Machine Learning Book/notumor\\\\Te-no_0263.jpg,no_tumor\\r\\n1170,C:/Savinu/Hands On Machine Learning Book/notumor\\\\Te-no_0264.jpg,no_tumor\\r\\n1171,C:/Savinu/Hands On Machine Learning Book/notumor\\\\Te-no_0265.jpg,no_tumor\\r\\n1172,C:/Savinu/Hands On Machine Learning Book/notumor\\\\Te-no_0266.jpg,no_tumor\\r\\n1173,C:/Savinu/Hands On Machine Learning Book/notumor\\\\Te-no_0267.jpg,no_tumor\\r\\n1174,C:/Savinu/Hands On Machine Learning Book/notumor\\\\Te-no_0268.jpg,no_tumor\\r\\n1175,C:/Savinu/Hands On Machine Learning Book/notumor\\\\Te-no_0269.jpg,no_tumor\\r\\n1176,C:/Savinu/Hands On Machine Learning Book/notumor\\\\Te-no_0270.jpg,no_tumor\\r\\n1177,C:/Savinu/Hands On Machine Learning Book/notumor\\\\Te-no_0271.jpg,no_tumor\\r\\n1178,C:/Savinu/Hands On Machine Learning Book/notumor\\\\Te-no_0272.jpg,no_tumor\\r\\n1179,C:/Savinu/Hands On Machine Learning Book/notumor\\\\Te-no_0273.jpg,no_tumor\\r\\n1180,C:/Savinu/Hands On Machine Learning Book/notumor\\\\Te-no_0274.jpg,no_tumor\\r\\n1181,C:/Savinu/Hands On Machine Learning Book/notumor\\\\Te-no_0275.jpg,no_tumor\\r\\n1182,C:/Savinu/Hands On Machine Learning Book/notumor\\\\Te-no_0276.jpg,no_tumor\\r\\n1183,C:/Savinu/Hands On Machine Learning Book/notumor\\\\Te-no_0277.jpg,no_tumor\\r\\n1184,C:/Savinu/Hands On Machine Learning Book/notumor\\\\Te-no_0278.jpg,no_tumor\\r\\n1185,C:/Savinu/Hands On Machine Learning Book/notumor\\\\Te-no_0279.jpg,no_tumor\\r\\n1186,C:/Savinu/Hands On Machine Learning Book/notumor\\\\Te-no_0280.jpg,no_tumor\\r\\n1187,C:/Savinu/Hands On Machine Learning Book/notumor\\\\Te-no_0281.jpg,no_tumor\\r\\n1188,C:/Savinu/Hands On Machine Learning Book/notumor\\\\Te-no_0282.jpg,no_tumor\\r\\n1189,C:/Savinu/Hands On Machine Learning Book/notumor\\\\Te-no_0283.jpg,no_tumor\\r\\n1190,C:/Savinu/Hands On Machine Learning Book/notumor\\\\Te-no_0284.jpg,no_tumor\\r\\n1191,C:/Savinu/Hands On Machine Learning Book/notumor\\\\Te-no_0285.jpg,no_tumor\\r\\n1192,C:/Savinu/Hands On Machine Learning Book/notumor\\\\Te-no_0286.jpg,no_tumor\\r\\n1193,C:/Savinu/Hands On Machine Learning Book/notumor\\\\Te-no_0287.jpg,no_tumor\\r\\n1194,C:/Savinu/Hands On Machine Learning Book/notumor\\\\Te-no_0288.jpg,no_tumor\\r\\n1195,C:/Savinu/Hands On Machine Learning Book/notumor\\\\Te-no_0289.jpg,no_tumor\\r\\n1196,C:/Savinu/Hands On Machine Learning Book/notumor\\\\Te-no_0290.jpg,no_tumor\\r\\n1197,C:/Savinu/Hands On Machine Learning Book/notumor\\\\Te-no_0291.jpg,no_tumor\\r\\n1198,C:/Savinu/Hands On Machine Learning Book/notumor\\\\Te-no_0292.jpg,no_tumor\\r\\n1199,C:/Savinu/Hands On Machine Learning Book/notumor\\\\Te-no_0293.jpg,no_tumor\\r\\n1200,C:/Savinu/Hands On Machine Learning Book/notumor\\\\Te-no_0294.jpg,no_tumor\\r\\n1201,C:/Savinu/Hands On Machine Learning Book/notumor\\\\Te-no_0295.jpg,no_tumor\\r\\n1202,C:/Savinu/Hands On Machine Learning Book/notumor\\\\Te-no_0296.jpg,no_tumor\\r\\n1203,C:/Savinu/Hands On Machine Learning Book/notumor\\\\Te-no_0297.jpg,no_tumor\\r\\n1204,C:/Savinu/Hands On Machine Learning Book/notumor\\\\Te-no_0298.jpg,no_tumor\\r\\n1205,C:/Savinu/Hands On Machine Learning Book/notumor\\\\Te-no_0299.jpg,no_tumor\\r\\n1206,C:/Savinu/Hands On Machine Learning Book/notumor\\\\Te-no_0300.jpg,no_tumor\\r\\n1207,C:/Savinu/Hands On Machine Learning Book/notumor\\\\Te-no_0301.jpg,no_tumor\\r\\n1208,C:/Savinu/Hands On Machine Learning Book/notumor\\\\Te-no_0302.jpg,no_tumor\\r\\n1209,C:/Savinu/Hands On Machine Learning Book/notumor\\\\Te-no_0303.jpg,no_tumor\\r\\n1210,C:/Savinu/Hands On Machine Learning Book/notumor\\\\Te-no_0304.jpg,no_tumor\\r\\n1211,C:/Savinu/Hands On Machine Learning Book/notumor\\\\Te-no_0305.jpg,no_tumor\\r\\n1212,C:/Savinu/Hands On Machine Learning Book/notumor\\\\Te-no_0306.jpg,no_tumor\\r\\n1213,C:/Savinu/Hands On Machine Learning Book/notumor\\\\Te-no_0307.jpg,no_tumor\\r\\n1214,C:/Savinu/Hands On Machine Learning Book/notumor\\\\Te-no_0308.jpg,no_tumor\\r\\n1215,C:/Savinu/Hands On Machine Learning Book/notumor\\\\Te-no_0309.jpg,no_tumor\\r\\n1216,C:/Savinu/Hands On Machine Learning Book/notumor\\\\Te-no_0310.jpg,no_tumor\\r\\n1217,C:/Savinu/Hands On Machine Learning Book/notumor\\\\Te-no_0311.jpg,no_tumor\\r\\n1218,C:/Savinu/Hands On Machine Learning Book/notumor\\\\Te-no_0312.jpg,no_tumor\\r\\n1219,C:/Savinu/Hands On Machine Learning Book/notumor\\\\Te-no_0313.jpg,no_tumor\\r\\n1220,C:/Savinu/Hands On Machine Learning Book/notumor\\\\Te-no_0314.jpg,no_tumor\\r\\n1221,C:/Savinu/Hands On Machine Learning Book/notumor\\\\Te-no_0315.jpg,no_tumor\\r\\n1222,C:/Savinu/Hands On Machine Learning Book/notumor\\\\Te-no_0316.jpg,no_tumor\\r\\n1223,C:/Savinu/Hands On Machine Learning Book/notumor\\\\Te-no_0317.jpg,no_tumor\\r\\n1224,C:/Savinu/Hands On Machine Learning Book/notumor\\\\Te-no_0318.jpg,no_tumor\\r\\n1225,C:/Savinu/Hands On Machine Learning Book/notumor\\\\Te-no_0319.jpg,no_tumor\\r\\n1226,C:/Savinu/Hands On Machine Learning Book/notumor\\\\Te-no_0320.jpg,no_tumor\\r\\n1227,C:/Savinu/Hands On Machine Learning Book/notumor\\\\Te-no_0321.jpg,no_tumor\\r\\n1228,C:/Savinu/Hands On Machine Learning Book/notumor\\\\Te-no_0322.jpg,no_tumor\\r\\n1229,C:/Savinu/Hands On Machine Learning Book/notumor\\\\Te-no_0323.jpg,no_tumor\\r\\n1230,C:/Savinu/Hands On Machine Learning Book/notumor\\\\Te-no_0324.jpg,no_tumor\\r\\n1231,C:/Savinu/Hands On Machine Learning Book/notumor\\\\Te-no_0325.jpg,no_tumor\\r\\n1232,C:/Savinu/Hands On Machine Learning Book/notumor\\\\Te-no_0326.jpg,no_tumor\\r\\n1233,C:/Savinu/Hands On Machine Learning Book/notumor\\\\Te-no_0327.jpg,no_tumor\\r\\n1234,C:/Savinu/Hands On Machine Learning Book/notumor\\\\Te-no_0328.jpg,no_tumor\\r\\n1235,C:/Savinu/Hands On Machine Learning Book/notumor\\\\Te-no_0329.jpg,no_tumor\\r\\n1236,C:/Savinu/Hands On Machine Learning Book/notumor\\\\Te-no_0330.jpg,no_tumor\\r\\n1237,C:/Savinu/Hands On Machine Learning Book/notumor\\\\Te-no_0331.jpg,no_tumor\\r\\n1238,C:/Savinu/Hands On Machine Learning Book/notumor\\\\Te-no_0332.jpg,no_tumor\\r\\n1239,C:/Savinu/Hands On Machine Learning Book/notumor\\\\Te-no_0333.jpg,no_tumor\\r\\n1240,C:/Savinu/Hands On Machine Learning Book/notumor\\\\Te-no_0334.jpg,no_tumor\\r\\n1241,C:/Savinu/Hands On Machine Learning Book/notumor\\\\Te-no_0335.jpg,no_tumor\\r\\n1242,C:/Savinu/Hands On Machine Learning Book/notumor\\\\Te-no_0336.jpg,no_tumor\\r\\n1243,C:/Savinu/Hands On Machine Learning Book/notumor\\\\Te-no_0337.jpg,no_tumor\\r\\n1244,C:/Savinu/Hands On Machine Learning Book/notumor\\\\Te-no_0338.jpg,no_tumor\\r\\n1245,C:/Savinu/Hands On Machine Learning Book/notumor\\\\Te-no_0339.jpg,no_tumor\\r\\n1246,C:/Savinu/Hands On Machine Learning Book/notumor\\\\Te-no_0340.jpg,no_tumor\\r\\n1247,C:/Savinu/Hands On Machine Learning Book/notumor\\\\Te-no_0341.jpg,no_tumor\\r\\n1248,C:/Savinu/Hands On Machine Learning Book/notumor\\\\Te-no_0342.jpg,no_tumor\\r\\n1249,C:/Savinu/Hands On Machine Learning Book/notumor\\\\Te-no_0343.jpg,no_tumor\\r\\n1250,C:/Savinu/Hands On Machine Learning Book/notumor\\\\Te-no_0344.jpg,no_tumor\\r\\n1251,C:/Savinu/Hands On Machine Learning Book/notumor\\\\Te-no_0345.jpg,no_tumor\\r\\n1252,C:/Savinu/Hands On Machine Learning Book/notumor\\\\Te-no_0346.jpg,no_tumor\\r\\n1253,C:/Savinu/Hands On Machine Learning Book/notumor\\\\Te-no_0347.jpg,no_tumor\\r\\n1254,C:/Savinu/Hands On Machine Learning Book/notumor\\\\Te-no_0348.jpg,no_tumor\\r\\n1255,C:/Savinu/Hands On Machine Learning Book/notumor\\\\Te-no_0349.jpg,no_tumor\\r\\n1256,C:/Savinu/Hands On Machine Learning Book/notumor\\\\Te-no_0350.jpg,no_tumor\\r\\n1257,C:/Savinu/Hands On Machine Learning Book/notumor\\\\Te-no_0351.jpg,no_tumor\\r\\n1258,C:/Savinu/Hands On Machine Learning Book/notumor\\\\Te-no_0352.jpg,no_tumor\\r\\n1259,C:/Savinu/Hands On Machine Learning Book/notumor\\\\Te-no_0353.jpg,no_tumor\\r\\n1260,C:/Savinu/Hands On Machine Learning Book/notumor\\\\Te-no_0354.jpg,no_tumor\\r\\n1261,C:/Savinu/Hands On Machine Learning Book/notumor\\\\Te-no_0355.jpg,no_tumor\\r\\n1262,C:/Savinu/Hands On Machine Learning Book/notumor\\\\Te-no_0356.jpg,no_tumor\\r\\n1263,C:/Savinu/Hands On Machine Learning Book/notumor\\\\Te-no_0357.jpg,no_tumor\\r\\n1264,C:/Savinu/Hands On Machine Learning Book/notumor\\\\Te-no_0358.jpg,no_tumor\\r\\n1265,C:/Savinu/Hands On Machine Learning Book/notumor\\\\Te-no_0359.jpg,no_tumor\\r\\n1266,C:/Savinu/Hands On Machine Learning Book/notumor\\\\Te-no_0360.jpg,no_tumor\\r\\n1267,C:/Savinu/Hands On Machine Learning Book/notumor\\\\Te-no_0361.jpg,no_tumor\\r\\n1268,C:/Savinu/Hands On Machine Learning Book/notumor\\\\Te-no_0362.jpg,no_tumor\\r\\n1269,C:/Savinu/Hands On Machine Learning Book/notumor\\\\Te-no_0363.jpg,no_tumor\\r\\n1270,C:/Savinu/Hands On Machine Learning Book/notumor\\\\Te-no_0364.jpg,no_tumor\\r\\n1271,C:/Savinu/Hands On Machine Learning Book/notumor\\\\Te-no_0365.jpg,no_tumor\\r\\n1272,C:/Savinu/Hands On Machine Learning Book/notumor\\\\Te-no_0366.jpg,no_tumor\\r\\n1273,C:/Savinu/Hands On Machine Learning Book/notumor\\\\Te-no_0367.jpg,no_tumor\\r\\n1274,C:/Savinu/Hands On Machine Learning Book/notumor\\\\Te-no_0368.jpg,no_tumor\\r\\n1275,C:/Savinu/Hands On Machine Learning Book/notumor\\\\Te-no_0369.jpg,no_tumor\\r\\n1276,C:/Savinu/Hands On Machine Learning Book/notumor\\\\Te-no_0370.jpg,no_tumor\\r\\n1277,C:/Savinu/Hands On Machine Learning Book/notumor\\\\Te-no_0371.jpg,no_tumor\\r\\n1278,C:/Savinu/Hands On Machine Learning Book/notumor\\\\Te-no_0372.jpg,no_tumor\\r\\n1279,C:/Savinu/Hands On Machine Learning Book/notumor\\\\Te-no_0373.jpg,no_tumor\\r\\n1280,C:/Savinu/Hands On Machine Learning Book/notumor\\\\Te-no_0374.jpg,no_tumor\\r\\n1281,C:/Savinu/Hands On Machine Learning Book/notumor\\\\Te-no_0375.jpg,no_tumor\\r\\n1282,C:/Savinu/Hands On Machine Learning Book/notumor\\\\Te-no_0376.jpg,no_tumor\\r\\n1283,C:/Savinu/Hands On Machine Learning Book/notumor\\\\Te-no_0377.jpg,no_tumor\\r\\n1284,C:/Savinu/Hands On Machine Learning Book/notumor\\\\Te-no_0378.jpg,no_tumor\\r\\n1285,C:/Savinu/Hands On Machine Learning Book/notumor\\\\Te-no_0379.jpg,no_tumor\\r\\n1286,C:/Savinu/Hands On Machine Learning Book/notumor\\\\Te-no_0380.jpg,no_tumor\\r\\n1287,C:/Savinu/Hands On Machine Learning Book/notumor\\\\Te-no_0381.jpg,no_tumor\\r\\n1288,C:/Savinu/Hands On Machine Learning Book/notumor\\\\Te-no_0382.jpg,no_tumor\\r\\n1289,C:/Savinu/Hands On Machine Learning Book/notumor\\\\Te-no_0383.jpg,no_tumor\\r\\n1290,C:/Savinu/Hands On Machine Learning Book/notumor\\\\Te-no_0384.jpg,no_tumor\\r\\n1291,C:/Savinu/Hands On Machine Learning Book/notumor\\\\Te-no_0385.jpg,no_tumor\\r\\n1292,C:/Savinu/Hands On Machine Learning Book/notumor\\\\Te-no_0386.jpg,no_tumor\\r\\n1293,C:/Savinu/Hands On Machine Learning Book/notumor\\\\Te-no_0387.jpg,no_tumor\\r\\n1294,C:/Savinu/Hands On Machine Learning Book/notumor\\\\Te-no_0388.jpg,no_tumor\\r\\n1295,C:/Savinu/Hands On Machine Learning Book/notumor\\\\Te-no_0389.jpg,no_tumor\\r\\n1296,C:/Savinu/Hands On Machine Learning Book/notumor\\\\Te-no_0390.jpg,no_tumor\\r\\n1297,C:/Savinu/Hands On Machine Learning Book/notumor\\\\Te-no_0391.jpg,no_tumor\\r\\n1298,C:/Savinu/Hands On Machine Learning Book/notumor\\\\Te-no_0392.jpg,no_tumor\\r\\n1299,C:/Savinu/Hands On Machine Learning Book/notumor\\\\Te-no_0393.jpg,no_tumor\\r\\n1300,C:/Savinu/Hands On Machine Learning Book/notumor\\\\Te-no_0394.jpg,no_tumor\\r\\n1301,C:/Savinu/Hands On Machine Learning Book/notumor\\\\Te-no_0395.jpg,no_tumor\\r\\n1302,C:/Savinu/Hands On Machine Learning Book/notumor\\\\Te-no_0396.jpg,no_tumor\\r\\n1303,C:/Savinu/Hands On Machine Learning Book/notumor\\\\Te-no_0397.jpg,no_tumor\\r\\n1304,C:/Savinu/Hands On Machine Learning Book/notumor\\\\Te-no_0398.jpg,no_tumor\\r\\n1305,C:/Savinu/Hands On Machine Learning Book/notumor\\\\Te-no_0399.jpg,no_tumor\\r\\n1306,C:/Savinu/Hands On Machine Learning Book/notumor\\\\Te-no_0400.jpg,no_tumor\\r\\n1307,C:/Savinu/Hands On Machine Learning Book/notumor\\\\Te-no_0401.jpg,no_tumor\\r\\n1308,C:/Savinu/Hands On Machine Learning Book/notumor\\\\Te-no_0402.jpg,no_tumor\\r\\n1309,C:/Savinu/Hands On Machine Learning Book/notumor\\\\Te-no_0403.jpg,no_tumor\\r\\n1310,C:/Savinu/Hands On Machine Learning Book/notumor\\\\Te-no_0404.jpg,no_tumor\\r\\n'"
      ]
     },
     "execution_count": 39,
     "metadata": {},
     "output_type": "execute_result"
    }
   ],
   "source": [
    "data.to_csv()"
   ]
  },
  {
   "cell_type": "code",
   "execution_count": 40,
   "metadata": {},
   "outputs": [
    {
     "data": {
      "text/html": [
       "<div>\n",
       "<style scoped>\n",
       "    .dataframe tbody tr th:only-of-type {\n",
       "        vertical-align: middle;\n",
       "    }\n",
       "\n",
       "    .dataframe tbody tr th {\n",
       "        vertical-align: top;\n",
       "    }\n",
       "\n",
       "    .dataframe thead th {\n",
       "        text-align: right;\n",
       "    }\n",
       "</style>\n",
       "<table border=\"1\" class=\"dataframe\">\n",
       "  <thead>\n",
       "    <tr style=\"text-align: right;\">\n",
       "      <th></th>\n",
       "      <th>image_file</th>\n",
       "      <th>label</th>\n",
       "    </tr>\n",
       "  </thead>\n",
       "  <tbody>\n",
       "    <tr>\n",
       "      <th>0</th>\n",
       "      <td>C:/Savinu/Hands On Machine Learning Book/gliom...</td>\n",
       "      <td>glioma</td>\n",
       "    </tr>\n",
       "    <tr>\n",
       "      <th>1</th>\n",
       "      <td>C:/Savinu/Hands On Machine Learning Book/gliom...</td>\n",
       "      <td>glioma</td>\n",
       "    </tr>\n",
       "    <tr>\n",
       "      <th>2</th>\n",
       "      <td>C:/Savinu/Hands On Machine Learning Book/gliom...</td>\n",
       "      <td>glioma</td>\n",
       "    </tr>\n",
       "    <tr>\n",
       "      <th>3</th>\n",
       "      <td>C:/Savinu/Hands On Machine Learning Book/gliom...</td>\n",
       "      <td>glioma</td>\n",
       "    </tr>\n",
       "    <tr>\n",
       "      <th>4</th>\n",
       "      <td>C:/Savinu/Hands On Machine Learning Book/gliom...</td>\n",
       "      <td>glioma</td>\n",
       "    </tr>\n",
       "    <tr>\n",
       "      <th>...</th>\n",
       "      <td>...</td>\n",
       "      <td>...</td>\n",
       "    </tr>\n",
       "    <tr>\n",
       "      <th>1306</th>\n",
       "      <td>C:/Savinu/Hands On Machine Learning Book/notum...</td>\n",
       "      <td>no_tumor</td>\n",
       "    </tr>\n",
       "    <tr>\n",
       "      <th>1307</th>\n",
       "      <td>C:/Savinu/Hands On Machine Learning Book/notum...</td>\n",
       "      <td>no_tumor</td>\n",
       "    </tr>\n",
       "    <tr>\n",
       "      <th>1308</th>\n",
       "      <td>C:/Savinu/Hands On Machine Learning Book/notum...</td>\n",
       "      <td>no_tumor</td>\n",
       "    </tr>\n",
       "    <tr>\n",
       "      <th>1309</th>\n",
       "      <td>C:/Savinu/Hands On Machine Learning Book/notum...</td>\n",
       "      <td>no_tumor</td>\n",
       "    </tr>\n",
       "    <tr>\n",
       "      <th>1310</th>\n",
       "      <td>C:/Savinu/Hands On Machine Learning Book/notum...</td>\n",
       "      <td>no_tumor</td>\n",
       "    </tr>\n",
       "  </tbody>\n",
       "</table>\n",
       "<p>1311 rows × 2 columns</p>\n",
       "</div>"
      ],
      "text/plain": [
       "                                             image_file     label\n",
       "0     C:/Savinu/Hands On Machine Learning Book/gliom...    glioma\n",
       "1     C:/Savinu/Hands On Machine Learning Book/gliom...    glioma\n",
       "2     C:/Savinu/Hands On Machine Learning Book/gliom...    glioma\n",
       "3     C:/Savinu/Hands On Machine Learning Book/gliom...    glioma\n",
       "4     C:/Savinu/Hands On Machine Learning Book/gliom...    glioma\n",
       "...                                                 ...       ...\n",
       "1306  C:/Savinu/Hands On Machine Learning Book/notum...  no_tumor\n",
       "1307  C:/Savinu/Hands On Machine Learning Book/notum...  no_tumor\n",
       "1308  C:/Savinu/Hands On Machine Learning Book/notum...  no_tumor\n",
       "1309  C:/Savinu/Hands On Machine Learning Book/notum...  no_tumor\n",
       "1310  C:/Savinu/Hands On Machine Learning Book/notum...  no_tumor\n",
       "\n",
       "[1311 rows x 2 columns]"
      ]
     },
     "execution_count": 40,
     "metadata": {},
     "output_type": "execute_result"
    }
   ],
   "source": [
    "data"
   ]
  },
  {
   "cell_type": "code",
   "execution_count": 41,
   "metadata": {},
   "outputs": [],
   "source": [
    "list_of_images = data.image_file\n",
    "image_diagnoses = data.label"
   ]
  },
  {
   "cell_type": "code",
   "execution_count": 42,
   "metadata": {},
   "outputs": [
    {
     "data": {
      "text/plain": [
       "0       C:/Savinu/Hands On Machine Learning Book/gliom...\n",
       "1       C:/Savinu/Hands On Machine Learning Book/gliom...\n",
       "2       C:/Savinu/Hands On Machine Learning Book/gliom...\n",
       "3       C:/Savinu/Hands On Machine Learning Book/gliom...\n",
       "4       C:/Savinu/Hands On Machine Learning Book/gliom...\n",
       "                              ...                        \n",
       "1306    C:/Savinu/Hands On Machine Learning Book/notum...\n",
       "1307    C:/Savinu/Hands On Machine Learning Book/notum...\n",
       "1308    C:/Savinu/Hands On Machine Learning Book/notum...\n",
       "1309    C:/Savinu/Hands On Machine Learning Book/notum...\n",
       "1310    C:/Savinu/Hands On Machine Learning Book/notum...\n",
       "Name: image_file, Length: 1311, dtype: object"
      ]
     },
     "execution_count": 42,
     "metadata": {},
     "output_type": "execute_result"
    }
   ],
   "source": [
    "list_of_images"
   ]
  },
  {
   "cell_type": "code",
   "execution_count": 43,
   "metadata": {},
   "outputs": [
    {
     "data": {
      "text/plain": [
       "0         glioma\n",
       "1         glioma\n",
       "2         glioma\n",
       "3         glioma\n",
       "4         glioma\n",
       "          ...   \n",
       "1306    no_tumor\n",
       "1307    no_tumor\n",
       "1308    no_tumor\n",
       "1309    no_tumor\n",
       "1310    no_tumor\n",
       "Name: label, Length: 1311, dtype: object"
      ]
     },
     "execution_count": 43,
     "metadata": {},
     "output_type": "execute_result"
    }
   ],
   "source": [
    "image_diagnoses"
   ]
  },
  {
   "cell_type": "code",
   "execution_count": 44,
   "metadata": {},
   "outputs": [],
   "source": [
    "images = []"
   ]
  },
  {
   "cell_type": "code",
   "execution_count": 45,
   "metadata": {},
   "outputs": [],
   "source": [
    "import cv2"
   ]
  },
  {
   "cell_type": "code",
   "execution_count": 46,
   "metadata": {},
   "outputs": [],
   "source": [
    "for path in list_of_images:\n",
    "    image1 = Image.open(path).convert(\"RGB\")\n",
    "    imgarr1 = image1.resize((128, 128))\n",
    "    image = np.array(imgarr1).astype('float32') / 255.0\n",
    "    images.append(image)"
   ]
  },
  {
   "cell_type": "code",
   "execution_count": 47,
   "metadata": {},
   "outputs": [
    {
     "data": {
      "text/plain": [
       "array([[[0., 0., 0.],\n",
       "        [0., 0., 0.],\n",
       "        [0., 0., 0.],\n",
       "        ...,\n",
       "        [0., 0., 0.],\n",
       "        [0., 0., 0.],\n",
       "        [0., 0., 0.]],\n",
       "\n",
       "       [[0., 0., 0.],\n",
       "        [0., 0., 0.],\n",
       "        [0., 0., 0.],\n",
       "        ...,\n",
       "        [0., 0., 0.],\n",
       "        [0., 0., 0.],\n",
       "        [0., 0., 0.]],\n",
       "\n",
       "       [[0., 0., 0.],\n",
       "        [0., 0., 0.],\n",
       "        [0., 0., 0.],\n",
       "        ...,\n",
       "        [0., 0., 0.],\n",
       "        [0., 0., 0.],\n",
       "        [0., 0., 0.]],\n",
       "\n",
       "       ...,\n",
       "\n",
       "       [[0., 0., 0.],\n",
       "        [0., 0., 0.],\n",
       "        [0., 0., 0.],\n",
       "        ...,\n",
       "        [0., 0., 0.],\n",
       "        [0., 0., 0.],\n",
       "        [0., 0., 0.]],\n",
       "\n",
       "       [[0., 0., 0.],\n",
       "        [0., 0., 0.],\n",
       "        [0., 0., 0.],\n",
       "        ...,\n",
       "        [0., 0., 0.],\n",
       "        [0., 0., 0.],\n",
       "        [0., 0., 0.]],\n",
       "\n",
       "       [[0., 0., 0.],\n",
       "        [0., 0., 0.],\n",
       "        [0., 0., 0.],\n",
       "        ...,\n",
       "        [0., 0., 0.],\n",
       "        [0., 0., 0.],\n",
       "        [0., 0., 0.]]], dtype=float32)"
      ]
     },
     "execution_count": 47,
     "metadata": {},
     "output_type": "execute_result"
    }
   ],
   "source": [
    "images[0]"
   ]
  },
  {
   "cell_type": "code",
   "execution_count": 48,
   "metadata": {},
   "outputs": [],
   "source": [
    "os.environ['KERAS_BACKEND'] = 'torch'"
   ]
  },
  {
   "cell_type": "code",
   "execution_count": 49,
   "metadata": {},
   "outputs": [
    {
     "data": {
      "text/plain": [
       "(128, 128, 3)"
      ]
     },
     "execution_count": 49,
     "metadata": {},
     "output_type": "execute_result"
    }
   ],
   "source": [
    "images[0].shape"
   ]
  },
  {
   "cell_type": "code",
   "execution_count": 50,
   "metadata": {},
   "outputs": [],
   "source": [
    "data['image_file'] = images"
   ]
  },
  {
   "cell_type": "code",
   "execution_count": null,
   "metadata": {},
   "outputs": [],
   "source": []
  },
  {
   "cell_type": "code",
   "execution_count": 51,
   "metadata": {},
   "outputs": [],
   "source": [
    "from sklearn.preprocessing import LabelEncoder\n",
    "encoder = LabelEncoder()\n",
    "encoded_labels = encoder.fit_transform(data.label)"
   ]
  },
  {
   "cell_type": "code",
   "execution_count": 52,
   "metadata": {},
   "outputs": [],
   "source": [
    "data['label'] = encoded_labels"
   ]
  },
  {
   "cell_type": "code",
   "execution_count": null,
   "metadata": {},
   "outputs": [],
   "source": []
  },
  {
   "cell_type": "code",
   "execution_count": 53,
   "metadata": {},
   "outputs": [
    {
     "name": "stderr",
     "output_type": "stream",
     "text": [
      "c:\\Users\\savin\\AppData\\Local\\Programs\\Python\\Python313\\Lib\\site-packages\\keras\\src\\layers\\convolutional\\base_conv.py:107: UserWarning: Do not pass an `input_shape`/`input_dim` argument to a layer. When using Sequential models, prefer using an `Input(shape)` object as the first layer in the model instead.\n",
      "  super().__init__(activity_regularizer=activity_regularizer, **kwargs)\n"
     ]
    }
   ],
   "source": [
    "import keras\n",
    "from keras.layers import Conv2D, MaxPooling2D, Flatten, Dense, Dropout\n",
    "model = keras.models.Sequential([\n",
    "    Conv2D(32, (3, 3), activation='relu', input_shape=(128, 128, 3), padding='SAME'),\n",
    "    MaxPooling2D(2),\n",
    "    \n",
    "    Conv2D(64, (3, 3), activation='relu', padding='SAME'),\n",
    "    Conv2D(64, (3, 3), activation='relu', padding='SAME'),    \n",
    "    MaxPooling2D(2),\n",
    "    \n",
    "    Conv2D(128, (3, 3), activation='relu', padding='SAME'),\n",
    "    Conv2D(128, (3, 3), activation='relu', padding='SAME'),\n",
    "    MaxPooling2D(2),\n",
    "    \n",
    "    Flatten(),\n",
    "    Dense(128, activation='relu'),\n",
    "    Dropout(0.5),\n",
    "    Dense(4, activation='softmax')\n",
    "])"
   ]
  },
  {
   "cell_type": "code",
   "execution_count": 54,
   "metadata": {},
   "outputs": [],
   "source": [
    "model.compile(loss='sparse_categorical_crossentropy', optimizer='adam', metrics=['accuracy'])"
   ]
  },
  {
   "cell_type": "code",
   "execution_count": 55,
   "metadata": {},
   "outputs": [
    {
     "data": {
      "text/html": [
       "<pre style=\"white-space:pre;overflow-x:auto;line-height:normal;font-family:Menlo,'DejaVu Sans Mono',consolas,'Courier New',monospace\"><span style=\"font-weight: bold\">Model: \"sequential_1\"</span>\n",
       "</pre>\n"
      ],
      "text/plain": [
       "\u001b[1mModel: \"sequential_1\"\u001b[0m\n"
      ]
     },
     "metadata": {},
     "output_type": "display_data"
    },
    {
     "data": {
      "text/html": [
       "<pre style=\"white-space:pre;overflow-x:auto;line-height:normal;font-family:Menlo,'DejaVu Sans Mono',consolas,'Courier New',monospace\">┏━━━━━━━━━━━━━━━━━━━━━━━━━━━━━━━━━┳━━━━━━━━━━━━━━━━━━━━━━━━┳━━━━━━━━━━━━━━━┓\n",
       "┃<span style=\"font-weight: bold\"> Layer (type)                    </span>┃<span style=\"font-weight: bold\"> Output Shape           </span>┃<span style=\"font-weight: bold\">       Param # </span>┃\n",
       "┡━━━━━━━━━━━━━━━━━━━━━━━━━━━━━━━━━╇━━━━━━━━━━━━━━━━━━━━━━━━╇━━━━━━━━━━━━━━━┩\n",
       "│ conv2d_5 (<span style=\"color: #0087ff; text-decoration-color: #0087ff\">Conv2D</span>)               │ (<span style=\"color: #00d7ff; text-decoration-color: #00d7ff\">None</span>, <span style=\"color: #00af00; text-decoration-color: #00af00\">128</span>, <span style=\"color: #00af00; text-decoration-color: #00af00\">128</span>, <span style=\"color: #00af00; text-decoration-color: #00af00\">32</span>)   │           <span style=\"color: #00af00; text-decoration-color: #00af00\">896</span> │\n",
       "├─────────────────────────────────┼────────────────────────┼───────────────┤\n",
       "│ max_pooling2d_3 (<span style=\"color: #0087ff; text-decoration-color: #0087ff\">MaxPooling2D</span>)  │ (<span style=\"color: #00d7ff; text-decoration-color: #00d7ff\">None</span>, <span style=\"color: #00af00; text-decoration-color: #00af00\">64</span>, <span style=\"color: #00af00; text-decoration-color: #00af00\">64</span>, <span style=\"color: #00af00; text-decoration-color: #00af00\">32</span>)     │             <span style=\"color: #00af00; text-decoration-color: #00af00\">0</span> │\n",
       "├─────────────────────────────────┼────────────────────────┼───────────────┤\n",
       "│ conv2d_6 (<span style=\"color: #0087ff; text-decoration-color: #0087ff\">Conv2D</span>)               │ (<span style=\"color: #00d7ff; text-decoration-color: #00d7ff\">None</span>, <span style=\"color: #00af00; text-decoration-color: #00af00\">64</span>, <span style=\"color: #00af00; text-decoration-color: #00af00\">64</span>, <span style=\"color: #00af00; text-decoration-color: #00af00\">64</span>)     │        <span style=\"color: #00af00; text-decoration-color: #00af00\">18,496</span> │\n",
       "├─────────────────────────────────┼────────────────────────┼───────────────┤\n",
       "│ conv2d_7 (<span style=\"color: #0087ff; text-decoration-color: #0087ff\">Conv2D</span>)               │ (<span style=\"color: #00d7ff; text-decoration-color: #00d7ff\">None</span>, <span style=\"color: #00af00; text-decoration-color: #00af00\">64</span>, <span style=\"color: #00af00; text-decoration-color: #00af00\">64</span>, <span style=\"color: #00af00; text-decoration-color: #00af00\">64</span>)     │        <span style=\"color: #00af00; text-decoration-color: #00af00\">36,928</span> │\n",
       "├─────────────────────────────────┼────────────────────────┼───────────────┤\n",
       "│ max_pooling2d_4 (<span style=\"color: #0087ff; text-decoration-color: #0087ff\">MaxPooling2D</span>)  │ (<span style=\"color: #00d7ff; text-decoration-color: #00d7ff\">None</span>, <span style=\"color: #00af00; text-decoration-color: #00af00\">32</span>, <span style=\"color: #00af00; text-decoration-color: #00af00\">32</span>, <span style=\"color: #00af00; text-decoration-color: #00af00\">64</span>)     │             <span style=\"color: #00af00; text-decoration-color: #00af00\">0</span> │\n",
       "├─────────────────────────────────┼────────────────────────┼───────────────┤\n",
       "│ conv2d_8 (<span style=\"color: #0087ff; text-decoration-color: #0087ff\">Conv2D</span>)               │ (<span style=\"color: #00d7ff; text-decoration-color: #00d7ff\">None</span>, <span style=\"color: #00af00; text-decoration-color: #00af00\">32</span>, <span style=\"color: #00af00; text-decoration-color: #00af00\">32</span>, <span style=\"color: #00af00; text-decoration-color: #00af00\">128</span>)    │        <span style=\"color: #00af00; text-decoration-color: #00af00\">73,856</span> │\n",
       "├─────────────────────────────────┼────────────────────────┼───────────────┤\n",
       "│ conv2d_9 (<span style=\"color: #0087ff; text-decoration-color: #0087ff\">Conv2D</span>)               │ (<span style=\"color: #00d7ff; text-decoration-color: #00d7ff\">None</span>, <span style=\"color: #00af00; text-decoration-color: #00af00\">32</span>, <span style=\"color: #00af00; text-decoration-color: #00af00\">32</span>, <span style=\"color: #00af00; text-decoration-color: #00af00\">128</span>)    │       <span style=\"color: #00af00; text-decoration-color: #00af00\">147,584</span> │\n",
       "├─────────────────────────────────┼────────────────────────┼───────────────┤\n",
       "│ max_pooling2d_5 (<span style=\"color: #0087ff; text-decoration-color: #0087ff\">MaxPooling2D</span>)  │ (<span style=\"color: #00d7ff; text-decoration-color: #00d7ff\">None</span>, <span style=\"color: #00af00; text-decoration-color: #00af00\">16</span>, <span style=\"color: #00af00; text-decoration-color: #00af00\">16</span>, <span style=\"color: #00af00; text-decoration-color: #00af00\">128</span>)    │             <span style=\"color: #00af00; text-decoration-color: #00af00\">0</span> │\n",
       "├─────────────────────────────────┼────────────────────────┼───────────────┤\n",
       "│ flatten_1 (<span style=\"color: #0087ff; text-decoration-color: #0087ff\">Flatten</span>)             │ (<span style=\"color: #00d7ff; text-decoration-color: #00d7ff\">None</span>, <span style=\"color: #00af00; text-decoration-color: #00af00\">32768</span>)          │             <span style=\"color: #00af00; text-decoration-color: #00af00\">0</span> │\n",
       "├─────────────────────────────────┼────────────────────────┼───────────────┤\n",
       "│ dense_2 (<span style=\"color: #0087ff; text-decoration-color: #0087ff\">Dense</span>)                 │ (<span style=\"color: #00d7ff; text-decoration-color: #00d7ff\">None</span>, <span style=\"color: #00af00; text-decoration-color: #00af00\">128</span>)            │     <span style=\"color: #00af00; text-decoration-color: #00af00\">4,194,432</span> │\n",
       "├─────────────────────────────────┼────────────────────────┼───────────────┤\n",
       "│ dropout_1 (<span style=\"color: #0087ff; text-decoration-color: #0087ff\">Dropout</span>)             │ (<span style=\"color: #00d7ff; text-decoration-color: #00d7ff\">None</span>, <span style=\"color: #00af00; text-decoration-color: #00af00\">128</span>)            │             <span style=\"color: #00af00; text-decoration-color: #00af00\">0</span> │\n",
       "├─────────────────────────────────┼────────────────────────┼───────────────┤\n",
       "│ dense_3 (<span style=\"color: #0087ff; text-decoration-color: #0087ff\">Dense</span>)                 │ (<span style=\"color: #00d7ff; text-decoration-color: #00d7ff\">None</span>, <span style=\"color: #00af00; text-decoration-color: #00af00\">4</span>)              │           <span style=\"color: #00af00; text-decoration-color: #00af00\">516</span> │\n",
       "└─────────────────────────────────┴────────────────────────┴───────────────┘\n",
       "</pre>\n"
      ],
      "text/plain": [
       "┏━━━━━━━━━━━━━━━━━━━━━━━━━━━━━━━━━┳━━━━━━━━━━━━━━━━━━━━━━━━┳━━━━━━━━━━━━━━━┓\n",
       "┃\u001b[1m \u001b[0m\u001b[1mLayer (type)                   \u001b[0m\u001b[1m \u001b[0m┃\u001b[1m \u001b[0m\u001b[1mOutput Shape          \u001b[0m\u001b[1m \u001b[0m┃\u001b[1m \u001b[0m\u001b[1m      Param #\u001b[0m\u001b[1m \u001b[0m┃\n",
       "┡━━━━━━━━━━━━━━━━━━━━━━━━━━━━━━━━━╇━━━━━━━━━━━━━━━━━━━━━━━━╇━━━━━━━━━━━━━━━┩\n",
       "│ conv2d_5 (\u001b[38;5;33mConv2D\u001b[0m)               │ (\u001b[38;5;45mNone\u001b[0m, \u001b[38;5;34m128\u001b[0m, \u001b[38;5;34m128\u001b[0m, \u001b[38;5;34m32\u001b[0m)   │           \u001b[38;5;34m896\u001b[0m │\n",
       "├─────────────────────────────────┼────────────────────────┼───────────────┤\n",
       "│ max_pooling2d_3 (\u001b[38;5;33mMaxPooling2D\u001b[0m)  │ (\u001b[38;5;45mNone\u001b[0m, \u001b[38;5;34m64\u001b[0m, \u001b[38;5;34m64\u001b[0m, \u001b[38;5;34m32\u001b[0m)     │             \u001b[38;5;34m0\u001b[0m │\n",
       "├─────────────────────────────────┼────────────────────────┼───────────────┤\n",
       "│ conv2d_6 (\u001b[38;5;33mConv2D\u001b[0m)               │ (\u001b[38;5;45mNone\u001b[0m, \u001b[38;5;34m64\u001b[0m, \u001b[38;5;34m64\u001b[0m, \u001b[38;5;34m64\u001b[0m)     │        \u001b[38;5;34m18,496\u001b[0m │\n",
       "├─────────────────────────────────┼────────────────────────┼───────────────┤\n",
       "│ conv2d_7 (\u001b[38;5;33mConv2D\u001b[0m)               │ (\u001b[38;5;45mNone\u001b[0m, \u001b[38;5;34m64\u001b[0m, \u001b[38;5;34m64\u001b[0m, \u001b[38;5;34m64\u001b[0m)     │        \u001b[38;5;34m36,928\u001b[0m │\n",
       "├─────────────────────────────────┼────────────────────────┼───────────────┤\n",
       "│ max_pooling2d_4 (\u001b[38;5;33mMaxPooling2D\u001b[0m)  │ (\u001b[38;5;45mNone\u001b[0m, \u001b[38;5;34m32\u001b[0m, \u001b[38;5;34m32\u001b[0m, \u001b[38;5;34m64\u001b[0m)     │             \u001b[38;5;34m0\u001b[0m │\n",
       "├─────────────────────────────────┼────────────────────────┼───────────────┤\n",
       "│ conv2d_8 (\u001b[38;5;33mConv2D\u001b[0m)               │ (\u001b[38;5;45mNone\u001b[0m, \u001b[38;5;34m32\u001b[0m, \u001b[38;5;34m32\u001b[0m, \u001b[38;5;34m128\u001b[0m)    │        \u001b[38;5;34m73,856\u001b[0m │\n",
       "├─────────────────────────────────┼────────────────────────┼───────────────┤\n",
       "│ conv2d_9 (\u001b[38;5;33mConv2D\u001b[0m)               │ (\u001b[38;5;45mNone\u001b[0m, \u001b[38;5;34m32\u001b[0m, \u001b[38;5;34m32\u001b[0m, \u001b[38;5;34m128\u001b[0m)    │       \u001b[38;5;34m147,584\u001b[0m │\n",
       "├─────────────────────────────────┼────────────────────────┼───────────────┤\n",
       "│ max_pooling2d_5 (\u001b[38;5;33mMaxPooling2D\u001b[0m)  │ (\u001b[38;5;45mNone\u001b[0m, \u001b[38;5;34m16\u001b[0m, \u001b[38;5;34m16\u001b[0m, \u001b[38;5;34m128\u001b[0m)    │             \u001b[38;5;34m0\u001b[0m │\n",
       "├─────────────────────────────────┼────────────────────────┼───────────────┤\n",
       "│ flatten_1 (\u001b[38;5;33mFlatten\u001b[0m)             │ (\u001b[38;5;45mNone\u001b[0m, \u001b[38;5;34m32768\u001b[0m)          │             \u001b[38;5;34m0\u001b[0m │\n",
       "├─────────────────────────────────┼────────────────────────┼───────────────┤\n",
       "│ dense_2 (\u001b[38;5;33mDense\u001b[0m)                 │ (\u001b[38;5;45mNone\u001b[0m, \u001b[38;5;34m128\u001b[0m)            │     \u001b[38;5;34m4,194,432\u001b[0m │\n",
       "├─────────────────────────────────┼────────────────────────┼───────────────┤\n",
       "│ dropout_1 (\u001b[38;5;33mDropout\u001b[0m)             │ (\u001b[38;5;45mNone\u001b[0m, \u001b[38;5;34m128\u001b[0m)            │             \u001b[38;5;34m0\u001b[0m │\n",
       "├─────────────────────────────────┼────────────────────────┼───────────────┤\n",
       "│ dense_3 (\u001b[38;5;33mDense\u001b[0m)                 │ (\u001b[38;5;45mNone\u001b[0m, \u001b[38;5;34m4\u001b[0m)              │           \u001b[38;5;34m516\u001b[0m │\n",
       "└─────────────────────────────────┴────────────────────────┴───────────────┘\n"
      ]
     },
     "metadata": {},
     "output_type": "display_data"
    },
    {
     "data": {
      "text/html": [
       "<pre style=\"white-space:pre;overflow-x:auto;line-height:normal;font-family:Menlo,'DejaVu Sans Mono',consolas,'Courier New',monospace\"><span style=\"font-weight: bold\"> Total params: </span><span style=\"color: #00af00; text-decoration-color: #00af00\">4,472,708</span> (17.06 MB)\n",
       "</pre>\n"
      ],
      "text/plain": [
       "\u001b[1m Total params: \u001b[0m\u001b[38;5;34m4,472,708\u001b[0m (17.06 MB)\n"
      ]
     },
     "metadata": {},
     "output_type": "display_data"
    },
    {
     "data": {
      "text/html": [
       "<pre style=\"white-space:pre;overflow-x:auto;line-height:normal;font-family:Menlo,'DejaVu Sans Mono',consolas,'Courier New',monospace\"><span style=\"font-weight: bold\"> Trainable params: </span><span style=\"color: #00af00; text-decoration-color: #00af00\">4,472,708</span> (17.06 MB)\n",
       "</pre>\n"
      ],
      "text/plain": [
       "\u001b[1m Trainable params: \u001b[0m\u001b[38;5;34m4,472,708\u001b[0m (17.06 MB)\n"
      ]
     },
     "metadata": {},
     "output_type": "display_data"
    },
    {
     "data": {
      "text/html": [
       "<pre style=\"white-space:pre;overflow-x:auto;line-height:normal;font-family:Menlo,'DejaVu Sans Mono',consolas,'Courier New',monospace\"><span style=\"font-weight: bold\"> Non-trainable params: </span><span style=\"color: #00af00; text-decoration-color: #00af00\">0</span> (0.00 B)\n",
       "</pre>\n"
      ],
      "text/plain": [
       "\u001b[1m Non-trainable params: \u001b[0m\u001b[38;5;34m0\u001b[0m (0.00 B)\n"
      ]
     },
     "metadata": {},
     "output_type": "display_data"
    }
   ],
   "source": [
    "model.summary()"
   ]
  },
  {
   "cell_type": "code",
   "execution_count": 56,
   "metadata": {},
   "outputs": [],
   "source": [
    "import numpy as np\n"
   ]
  },
  {
   "cell_type": "code",
   "execution_count": 57,
   "metadata": {},
   "outputs": [],
   "source": [
    "images = np.array(images)"
   ]
  },
  {
   "cell_type": "code",
   "execution_count": 58,
   "metadata": {},
   "outputs": [],
   "source": [
    "from sklearn.model_selection import train_test_split\n",
    "x_train, x_test, y_train, y_test = train_test_split(images, data.label, test_size = 0.2, random_state=42)\n",
    "x_train1, x_val, y_train1, y_val = train_test_split(x_train, y_train, test_size=0.25, random_state=42)"
   ]
  },
  {
   "cell_type": "code",
   "execution_count": 59,
   "metadata": {},
   "outputs": [],
   "source": [
    "y_train = y_train.to_numpy()"
   ]
  },
  {
   "cell_type": "code",
   "execution_count": 60,
   "metadata": {},
   "outputs": [],
   "source": [
    "y_val = y_val.to_numpy()"
   ]
  },
  {
   "cell_type": "code",
   "execution_count": null,
   "metadata": {},
   "outputs": [],
   "source": []
  },
  {
   "cell_type": "code",
   "execution_count": 61,
   "metadata": {},
   "outputs": [
    {
     "data": {
      "text/plain": [
       "numpy.int64"
      ]
     },
     "execution_count": 61,
     "metadata": {},
     "output_type": "execute_result"
    }
   ],
   "source": [
    "type(y_train[0])"
   ]
  },
  {
   "cell_type": "code",
   "execution_count": 62,
   "metadata": {},
   "outputs": [
    {
     "data": {
      "text/plain": [
       "1311"
      ]
     },
     "execution_count": 62,
     "metadata": {},
     "output_type": "execute_result"
    }
   ],
   "source": [
    "num_samples = len(images)\n",
    "num_samples"
   ]
  },
  {
   "cell_type": "code",
   "execution_count": 63,
   "metadata": {},
   "outputs": [
    {
     "data": {
      "text/plain": [
       "1048"
      ]
     },
     "execution_count": 63,
     "metadata": {},
     "output_type": "execute_result"
    }
   ],
   "source": [
    "len(x_train)"
   ]
  },
  {
   "cell_type": "code",
   "execution_count": 64,
   "metadata": {},
   "outputs": [],
   "source": [
    "import keras"
   ]
  },
  {
   "cell_type": "code",
   "execution_count": null,
   "metadata": {},
   "outputs": [
    {
     "name": "stdout",
     "output_type": "stream",
     "text": [
      "Epoch 1/25\n",
      "\u001b[1m 3/33\u001b[0m \u001b[32m━\u001b[0m\u001b[37m━━━━━━━━━━━━━━━━━━━\u001b[0m \u001b[1m7:47\u001b[0m 16s/step - accuracy: 0.2604 - loss: 1.3821"
     ]
    }
   ],
   "source": [
    "from keras.callbacks import EarlyStopping\n",
    "early_stop = EarlyStopping(patience=3, restore_best_weights=True)\n",
    "\n",
    "model.fit(x_train, y_train, validation_data=(x_val, y_val), epochs=25, callbacks=[early_stop])"
   ]
  },
  {
   "cell_type": "code",
   "execution_count": null,
   "metadata": {},
   "outputs": [
    {
     "name": "stdout",
     "output_type": "stream",
     "text": [
      "\u001b[1m9/9\u001b[0m \u001b[32m━━━━━━━━━━━━━━━━━━━━\u001b[0m\u001b[37m\u001b[0m \u001b[1m10s\u001b[0m 1s/step - accuracy: 0.2246 - loss: 1.3870\n"
     ]
    }
   ],
   "source": [
    "test_loss, test_acc = model.evaluate(x_test, y_test)"
   ]
  },
  {
   "cell_type": "code",
   "execution_count": null,
   "metadata": {},
   "outputs": [],
   "source": [
    "image1 = Image.open('test1.jpg')\n",
    "imgarr1 = image1.resize((128, 128))\n",
    "image = np.array(imgarr1) / 255.0\n",
    "new_image = np.expand_dims(image, axis=0)"
   ]
  },
  {
   "cell_type": "code",
   "execution_count": null,
   "metadata": {},
   "outputs": [
    {
     "name": "stdout",
     "output_type": "stream",
     "text": [
      "\u001b[1m1/1\u001b[0m \u001b[32m━━━━━━━━━━━━━━━━━━━━\u001b[0m\u001b[37m\u001b[0m \u001b[1m0s\u001b[0m 250ms/step\n"
     ]
    }
   ],
   "source": [
    "prediction = model.predict(new_image)"
   ]
  },
  {
   "cell_type": "code",
   "execution_count": null,
   "metadata": {},
   "outputs": [
    {
     "data": {
      "text/plain": [
       "array([[0.37793964, 0.61433595, 0.00482921, 0.00289519]], dtype=float32)"
      ]
     },
     "execution_count": 124,
     "metadata": {},
     "output_type": "execute_result"
    }
   ],
   "source": [
    "prediction"
   ]
  },
  {
   "cell_type": "code",
   "execution_count": null,
   "metadata": {},
   "outputs": [],
   "source": [
    "most_likely = np.argmax(prediction)"
   ]
  },
  {
   "cell_type": "code",
   "execution_count": null,
   "metadata": {},
   "outputs": [],
   "source": []
  },
  {
   "cell_type": "code",
   "execution_count": null,
   "metadata": {},
   "outputs": [
    {
     "data": {
      "text/plain": [
       "'meningioma'"
      ]
     },
     "execution_count": 126,
     "metadata": {},
     "output_type": "execute_result"
    }
   ],
   "source": [
    "class_names = ['glioma', 'meningioma', 'no_tumor', 'pituitary']\n",
    "predicted_index = np.argmax(prediction)\n",
    "predicted_class = class_names[predicted_index]\n",
    "predicted_class"
   ]
  },
  {
   "cell_type": "code",
   "execution_count": null,
   "metadata": {},
   "outputs": [
    {
     "ename": "AttributeError",
     "evalue": "'History' object has no attribute 'save'",
     "output_type": "error",
     "traceback": [
      "\u001b[31m---------------------------------------------------------------------------\u001b[39m",
      "\u001b[31mAttributeError\u001b[39m                            Traceback (most recent call last)",
      "\u001b[36mCell\u001b[39m\u001b[36m \u001b[39m\u001b[32mIn[127]\u001b[39m\u001b[32m, line 1\u001b[39m\n\u001b[32m----> \u001b[39m\u001b[32m1\u001b[39m \u001b[43mnew_model\u001b[49m\u001b[43m.\u001b[49m\u001b[43msave\u001b[49m(\u001b[33m'\u001b[39m\u001b[33mpath/to/location\u001b[39m\u001b[33m'\u001b[39m)\n",
      "\u001b[31mAttributeError\u001b[39m: 'History' object has no attribute 'save'"
     ]
    }
   ],
   "source": [
    "new_model.save('path/to/location')\n"
   ]
  }
 ],
 "metadata": {
  "kernelspec": {
   "display_name": "Python 3",
   "language": "python",
   "name": "python3"
  },
  "language_info": {
   "codemirror_mode": {
    "name": "ipython",
    "version": 3
   },
   "file_extension": ".py",
   "mimetype": "text/x-python",
   "name": "python",
   "nbconvert_exporter": "python",
   "pygments_lexer": "ipython3",
   "version": "3.13.2"
  }
 },
 "nbformat": 4,
 "nbformat_minor": 2
}
